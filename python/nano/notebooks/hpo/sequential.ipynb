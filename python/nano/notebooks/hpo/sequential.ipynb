{
 "cells": [
  {
   "cell_type": "markdown",
   "metadata": {},
   "source": [
    "**In this guide we will demonstrate how to use Nano AutoML to auto tune an machine learning model and handle the whole model development process easily.**"
   ]
  },
  {
   "cell_type": "markdown",
   "metadata": {},
   "source": [
    "# Introduction\n",
    "Nano provides hpo as an solution for fast and high-performance hyperparameter tuning. Users can import hano hpo following the standard tensorflow API without changing their own code. By setting the search space and running model.search(), the model will contain the best hyperparameters.\n",
    "\n",
    "Nano hpo supports sequential, fuctional and custom keras API.\n"
   ]
  },
  {
   "cell_type": "markdown",
   "metadata": {},
   "source": [
    "# Step0: Prepare Environment\n",
    "We recommend using conda to prepare the environment.\n",
    "conda create -n my_env python=3.7\n",
    "\n",
    "conda activate my_env\n",
    "\n",
    "pip install --pre --upgrade bigdl"
   ]
  },
  {
   "cell_type": "markdown",
   "metadata": {},
   "source": [
    "# Step1: Init Nano AutoML\n",
    "Let's start out by importing Nano AutoML and enable its tensorflow API globally by automl.hpo_config.enable_hpo_tf().\n",
    "\n",
    "After importing, we will load MNIST as our data."
   ]
  },
  {
   "cell_type": "code",
   "execution_count": 1,
   "metadata": {},
   "outputs": [
    {
     "name": "stderr",
     "output_type": "stream",
     "text": [
      "../../src/bigdl/nano/tf/__init__.py:24: UserWarning: NANO_TF_INTER_OP not found the in os.environ, please run `source bigdl-nano-init`\n",
      "  warnings.warn(\"NANO_TF_INTER_OP not found the in os.environ, \"\n",
      "../../src/bigdl/nano/tf/__init__.py:30: UserWarning: OMP_NUM_THREADS not found the in os.environ, please run `source bigdl-nano-init`\n",
      "  warnings.warn(\"OMP_NUM_THREADS not found the in os.environ, \"\n"
     ]
    }
   ],
   "source": [
    "import bigdl.nano.automl as automl\n",
    "automl.hpo_config.enable_hpo_tf()\n",
    "\n",
    "from bigdl.nano.automl.tf.keras import Sequential\n",
    "import bigdl.nano.automl.hpo.space as space\n",
    "from bigdl.nano.tf.keras.layers import Dense, Flatten, Conv2D\n",
    "\n",
    "from tensorflow.keras.optimizers import RMSprop\n",
    "import tensorflow as tf\n",
    "from tensorflow import keras"
   ]
  },
  {
   "cell_type": "markdown",
   "metadata": {},
   "source": [
    "# Step2: Prepare data\n",
    "We will load MNIST as our data."
   ]
  },
  {
   "cell_type": "code",
   "execution_count": 2,
   "metadata": {},
   "outputs": [],
   "source": [
    "CLASSES = 10\n",
    "\n",
    "(x_train, y_train), (x_test, y_test) = keras.datasets.mnist.load_data()\n",
    "\n",
    "img_x, img_y = x_train.shape[1], x_train.shape[2]\n",
    "input_shape = (img_x, img_y, 1)\n",
    "x_train = x_train.reshape(-1, img_x, img_y,1).astype(\"float32\") / 255\n",
    "x_test = x_test.reshape(-1, img_x, img_y,1).astype(\"float32\") / 255"
   ]
  },
  {
   "cell_type": "markdown",
   "metadata": {},
   "source": [
    "# Step3: Set search space\n",
    "We now create our model. \n",
    "\n",
    "Whenever you want to search a hyperparameter, you can simply replace it with a space and set your own searching space \n"
   ]
  },
  {
   "cell_type": "code",
   "execution_count": 3,
   "metadata": {},
   "outputs": [
    {
     "name": "stderr",
     "output_type": "stream",
     "text": [
      "2022-05-19 17:56:46.391399: I tensorflow/core/platform/cpu_feature_guard.cc:151] This TensorFlow binary is optimized with oneAPI Deep Neural Network Library (oneDNN) to use the following CPU instructions in performance-critical operations:  AVX2 FMA\n",
      "To enable them in other operations, rebuild TensorFlow with the appropriate compiler flags.\n",
      "2022-05-19 17:56:46.392323: I tensorflow/core/common_runtime/process_util.cc:146] Creating new thread pool with default inter op setting: \n"
     ]
    }
   ],
   "source": [
    "model = Sequential()\n",
    "\n",
    "model.add(Conv2D(\n",
    "    filters=space.Categorical(32, 64),\n",
    "    kernel_size=space.Categorical(3, 5),\n",
    "    strides=space.Categorical(1, 2),\n",
    "    activation=space.Categorical(\"relu\", \"linear\"),\n",
    "    input_shape=input_shape))\n",
    "model.add(Flatten())\n",
    "model.add(Dense(CLASSES, activation=\"softmax\"))\n",
    "\n",
    "model.compile(\n",
    "    loss=\"sparse_categorical_crossentropy\",\n",
    "    optimizer=RMSprop(learning_rate=0.0001),\n",
    "    metrics=[\"accuracy\"]\n",
    ")"
   ]
  },
  {
   "cell_type": "markdown",
   "metadata": {},
   "source": [
    "# Step4: Run hyperparameter search\n",
    "Apply hyperparameter searching by calling model.search(), and best hyperparameters will be saved in the model.\n",
    "\n",
    "You can specify the number of trial, each trial will use a set of hyperparameters automatiacally suggusted by nano.hpo. \n",
    "\n",
    "You can set your target metric and whehter you want to maximize you minimize it."
   ]
  },
  {
   "cell_type": "code",
   "execution_count": 4,
   "metadata": {},
   "outputs": [
    {
     "name": "stderr",
     "output_type": "stream",
     "text": [
      "\u001b[32m[I 2022-05-19 17:56:46,584]\u001b[0m A new study created in memory with name: no-name-ed53ad82-d7e6-49f7-be82-3d46776bb370\u001b[0m\n"
     ]
    },
    {
     "name": "stdout",
     "output_type": "stream",
     "text": [
      "Starting a new tuning\n",
      "Epoch 1/24\n",
      "375/375 - 8s - loss: 0.5511 - accuracy: 0.8663 - val_loss: 0.3024 - val_accuracy: 0.9124 - 8s/epoch - 22ms/step\n",
      "Epoch 2/24\n",
      "375/375 - 8s - loss: 0.3086 - accuracy: 0.9122 - val_loss: 0.2821 - val_accuracy: 0.9212 - 8s/epoch - 22ms/step\n",
      "Epoch 3/24\n",
      "375/375 - 8s - loss: 0.2908 - accuracy: 0.9173 - val_loss: 0.2753 - val_accuracy: 0.9247 - 8s/epoch - 22ms/step\n",
      "Epoch 4/24\n",
      "375/375 - 11s - loss: 0.2826 - accuracy: 0.9199 - val_loss: 0.2678 - val_accuracy: 0.9251 - 11s/epoch - 29ms/step\n",
      "Epoch 5/24\n",
      "375/375 - 10s - loss: 0.2773 - accuracy: 0.9217 - val_loss: 0.2661 - val_accuracy: 0.9280 - 10s/epoch - 27ms/step\n",
      "Epoch 6/24\n",
      "375/375 - 10s - loss: 0.2739 - accuracy: 0.9230 - val_loss: 0.2691 - val_accuracy: 0.9253 - 10s/epoch - 26ms/step\n",
      "Epoch 7/24\n",
      "375/375 - 10s - loss: 0.2707 - accuracy: 0.9244 - val_loss: 0.2641 - val_accuracy: 0.9281 - 10s/epoch - 28ms/step\n",
      "Epoch 8/24\n",
      "375/375 - 10s - loss: 0.2687 - accuracy: 0.9247 - val_loss: 0.2649 - val_accuracy: 0.9263 - 10s/epoch - 28ms/step\n",
      "Epoch 9/24\n",
      "375/375 - 11s - loss: 0.2660 - accuracy: 0.9251 - val_loss: 0.2672 - val_accuracy: 0.9271 - 11s/epoch - 29ms/step\n",
      "Epoch 10/24\n",
      "375/375 - 10s - loss: 0.2640 - accuracy: 0.9262 - val_loss: 0.2667 - val_accuracy: 0.9276 - 10s/epoch - 25ms/step\n",
      "Epoch 11/24\n",
      "375/375 - 9s - loss: 0.2625 - accuracy: 0.9270 - val_loss: 0.2661 - val_accuracy: 0.9295 - 9s/epoch - 25ms/step\n",
      "Epoch 12/24\n",
      "375/375 - 9s - loss: 0.2608 - accuracy: 0.9272 - val_loss: 0.2655 - val_accuracy: 0.9287 - 9s/epoch - 24ms/step\n",
      "Epoch 13/24\n",
      "375/375 - 8s - loss: 0.2597 - accuracy: 0.9280 - val_loss: 0.2644 - val_accuracy: 0.9287 - 8s/epoch - 22ms/step\n",
      "Epoch 14/24\n",
      "375/375 - 8s - loss: 0.2584 - accuracy: 0.9279 - val_loss: 0.2637 - val_accuracy: 0.9287 - 8s/epoch - 21ms/step\n",
      "Epoch 15/24\n",
      "375/375 - 10s - loss: 0.2571 - accuracy: 0.9286 - val_loss: 0.2678 - val_accuracy: 0.9270 - 10s/epoch - 28ms/step\n",
      "Epoch 16/24\n",
      "375/375 - 10s - loss: 0.2556 - accuracy: 0.9293 - val_loss: 0.2633 - val_accuracy: 0.9287 - 10s/epoch - 28ms/step\n",
      "Epoch 17/24\n",
      "375/375 - 8s - loss: 0.2545 - accuracy: 0.9296 - val_loss: 0.2665 - val_accuracy: 0.9283 - 8s/epoch - 22ms/step\n",
      "Epoch 18/24\n",
      "375/375 - 8s - loss: 0.2536 - accuracy: 0.9297 - val_loss: 0.2656 - val_accuracy: 0.9292 - 8s/epoch - 22ms/step\n",
      "Epoch 19/24\n",
      "375/375 - 9s - loss: 0.2525 - accuracy: 0.9294 - val_loss: 0.2676 - val_accuracy: 0.9277 - 9s/epoch - 25ms/step\n",
      "Epoch 20/24\n",
      "375/375 - 12s - loss: 0.2518 - accuracy: 0.9302 - val_loss: 0.2667 - val_accuracy: 0.9284 - 12s/epoch - 32ms/step\n",
      "Epoch 21/24\n",
      "375/375 - 12s - loss: 0.2508 - accuracy: 0.9307 - val_loss: 0.2646 - val_accuracy: 0.9288 - 12s/epoch - 32ms/step\n",
      "Epoch 22/24\n",
      "375/375 - 10s - loss: 0.2500 - accuracy: 0.9317 - val_loss: 0.2634 - val_accuracy: 0.9293 - 10s/epoch - 27ms/step\n",
      "Epoch 23/24\n",
      "375/375 - 15s - loss: 0.2488 - accuracy: 0.9314 - val_loss: 0.2639 - val_accuracy: 0.9293 - 15s/epoch - 39ms/step\n",
      "Epoch 24/24\n",
      "375/375 - 12s - loss: 0.2485 - accuracy: 0.9311 - val_loss: 0.2647 - val_accuracy: 0.9291 - 12s/epoch - 32ms/step\n"
     ]
    },
    {
     "name": "stderr",
     "output_type": "stream",
     "text": [
      "\u001b[32m[I 2022-05-19 18:00:45,053]\u001b[0m Trial 0 finished with value: 0.9294999837875366 and parameters: {'activation▁choice': 1, 'filters▁choice': 1, 'kernel_size▁choice': 0, 'strides▁choice': 0}. Best is trial 0 with value: 0.9294999837875366.\u001b[0m\n"
     ]
    },
    {
     "name": "stdout",
     "output_type": "stream",
     "text": [
      "Epoch 1/24\n",
      "375/375 - 4s - loss: 1.4542 - accuracy: 0.7374 - val_loss: 0.7004 - val_accuracy: 0.8560 - 4s/epoch - 10ms/step\n",
      "Epoch 2/24\n",
      "375/375 - 2s - loss: 0.5216 - accuracy: 0.8677 - val_loss: 0.3706 - val_accuracy: 0.8974 - 2s/epoch - 5ms/step\n",
      "Epoch 3/24\n",
      "375/375 - 2s - loss: 0.3672 - accuracy: 0.8954 - val_loss: 0.3143 - val_accuracy: 0.9094 - 2s/epoch - 5ms/step\n",
      "Epoch 4/24\n",
      "375/375 - 3s - loss: 0.3258 - accuracy: 0.9060 - val_loss: 0.2914 - val_accuracy: 0.9173 - 3s/epoch - 8ms/step\n",
      "Epoch 5/24\n",
      "375/375 - 5s - loss: 0.3033 - accuracy: 0.9134 - val_loss: 0.2757 - val_accuracy: 0.9225 - 5s/epoch - 14ms/step\n",
      "Epoch 6/24\n",
      "375/375 - 3s - loss: 0.2866 - accuracy: 0.9181 - val_loss: 0.2645 - val_accuracy: 0.9258 - 3s/epoch - 7ms/step\n",
      "Epoch 7/24\n",
      "375/375 - 3s - loss: 0.2727 - accuracy: 0.9227 - val_loss: 0.2528 - val_accuracy: 0.9302 - 3s/epoch - 9ms/step\n",
      "Epoch 8/24\n",
      "375/375 - 3s - loss: 0.2605 - accuracy: 0.9267 - val_loss: 0.2439 - val_accuracy: 0.9324 - 3s/epoch - 7ms/step\n",
      "Epoch 9/24\n",
      "375/375 - 3s - loss: 0.2492 - accuracy: 0.9297 - val_loss: 0.2354 - val_accuracy: 0.9346 - 3s/epoch - 7ms/step\n",
      "Epoch 10/24\n",
      "375/375 - 4s - loss: 0.2384 - accuracy: 0.9330 - val_loss: 0.2254 - val_accuracy: 0.9384 - 4s/epoch - 9ms/step\n",
      "Epoch 11/24\n",
      "375/375 - 2s - loss: 0.2282 - accuracy: 0.9364 - val_loss: 0.2176 - val_accuracy: 0.9413 - 2s/epoch - 7ms/step\n",
      "Epoch 12/24\n",
      "375/375 - 2s - loss: 0.2187 - accuracy: 0.9381 - val_loss: 0.2088 - val_accuracy: 0.9438 - 2s/epoch - 6ms/step\n",
      "Epoch 13/24\n",
      "375/375 - 2s - loss: 0.2091 - accuracy: 0.9409 - val_loss: 0.1999 - val_accuracy: 0.9470 - 2s/epoch - 5ms/step\n",
      "Epoch 14/24\n",
      "375/375 - 2s - loss: 0.2002 - accuracy: 0.9440 - val_loss: 0.1924 - val_accuracy: 0.9499 - 2s/epoch - 5ms/step\n",
      "Epoch 15/24\n",
      "375/375 - 2s - loss: 0.1916 - accuracy: 0.9463 - val_loss: 0.1848 - val_accuracy: 0.9520 - 2s/epoch - 7ms/step\n",
      "Epoch 16/24\n",
      "375/375 - 2s - loss: 0.1837 - accuracy: 0.9485 - val_loss: 0.1776 - val_accuracy: 0.9529 - 2s/epoch - 6ms/step\n",
      "Epoch 17/24\n",
      "375/375 - 2s - loss: 0.1764 - accuracy: 0.9508 - val_loss: 0.1730 - val_accuracy: 0.9538 - 2s/epoch - 7ms/step\n",
      "Epoch 18/24\n",
      "375/375 - 2s - loss: 0.1692 - accuracy: 0.9526 - val_loss: 0.1652 - val_accuracy: 0.9567 - 2s/epoch - 6ms/step\n",
      "Epoch 19/24\n",
      "375/375 - 3s - loss: 0.1626 - accuracy: 0.9550 - val_loss: 0.1604 - val_accuracy: 0.9572 - 3s/epoch - 7ms/step\n",
      "Epoch 20/24\n",
      "375/375 - 2s - loss: 0.1562 - accuracy: 0.9569 - val_loss: 0.1555 - val_accuracy: 0.9580 - 2s/epoch - 6ms/step\n",
      "Epoch 21/24\n",
      "375/375 - 3s - loss: 0.1506 - accuracy: 0.9585 - val_loss: 0.1505 - val_accuracy: 0.9603 - 3s/epoch - 7ms/step\n",
      "Epoch 22/24\n",
      "375/375 - 2s - loss: 0.1451 - accuracy: 0.9603 - val_loss: 0.1462 - val_accuracy: 0.9603 - 2s/epoch - 5ms/step\n",
      "Epoch 23/24\n",
      "375/375 - 2s - loss: 0.1400 - accuracy: 0.9617 - val_loss: 0.1412 - val_accuracy: 0.9629 - 2s/epoch - 5ms/step\n",
      "Epoch 24/24\n",
      "375/375 - 2s - loss: 0.1353 - accuracy: 0.9632 - val_loss: 0.1385 - val_accuracy: 0.9627 - 2s/epoch - 5ms/step\n"
     ]
    },
    {
     "name": "stderr",
     "output_type": "stream",
     "text": [
      "\u001b[32m[I 2022-05-19 18:02:07,351]\u001b[0m Trial 1 finished with value: 0.9629166722297668 and parameters: {'activation▁choice': 0, 'filters▁choice': 0, 'kernel_size▁choice': 0, 'strides▁choice': 1}. Best is trial 1 with value: 0.9629166722297668.\u001b[0m\n"
     ]
    },
    {
     "name": "stdout",
     "output_type": "stream",
     "text": [
      "Epoch 1/24\n",
      "375/375 - 4s - loss: 1.4905 - accuracy: 0.7166 - val_loss: 0.7155 - val_accuracy: 0.8535 - 4s/epoch - 11ms/step\n",
      "Epoch 2/24\n",
      "375/375 - 3s - loss: 0.5210 - accuracy: 0.8667 - val_loss: 0.3657 - val_accuracy: 0.8978 - 3s/epoch - 7ms/step\n",
      "Epoch 3/24\n",
      "375/375 - 3s - loss: 0.3641 - accuracy: 0.8956 - val_loss: 0.3126 - val_accuracy: 0.9097 - 3s/epoch - 7ms/step\n",
      "Epoch 4/24\n",
      "375/375 - 7s - loss: 0.3262 - accuracy: 0.9059 - val_loss: 0.2938 - val_accuracy: 0.9165 - 7s/epoch - 19ms/step\n",
      "Epoch 5/24\n",
      "375/375 - 9s - loss: 0.3067 - accuracy: 0.9116 - val_loss: 0.2799 - val_accuracy: 0.9212 - 9s/epoch - 25ms/step\n",
      "Epoch 6/24\n",
      "375/375 - 7s - loss: 0.2927 - accuracy: 0.9163 - val_loss: 0.2713 - val_accuracy: 0.9243 - 7s/epoch - 20ms/step\n",
      "Epoch 7/24\n",
      "375/375 - 3s - loss: 0.2819 - accuracy: 0.9197 - val_loss: 0.2633 - val_accuracy: 0.9266 - 3s/epoch - 8ms/step\n",
      "Epoch 8/24\n",
      "375/375 - 4s - loss: 0.2722 - accuracy: 0.9227 - val_loss: 0.2556 - val_accuracy: 0.9290 - 4s/epoch - 10ms/step\n",
      "Epoch 9/24\n",
      "375/375 - 2s - loss: 0.2639 - accuracy: 0.9249 - val_loss: 0.2492 - val_accuracy: 0.9320 - 2s/epoch - 5ms/step\n",
      "Epoch 10/24\n",
      "375/375 - 2s - loss: 0.2562 - accuracy: 0.9276 - val_loss: 0.2425 - val_accuracy: 0.9333 - 2s/epoch - 5ms/step\n",
      "Epoch 11/24\n",
      "375/375 - 2s - loss: 0.2485 - accuracy: 0.9293 - val_loss: 0.2361 - val_accuracy: 0.9354 - 2s/epoch - 5ms/step\n",
      "Epoch 12/24\n",
      "375/375 - 10s - loss: 0.2416 - accuracy: 0.9318 - val_loss: 0.2305 - val_accuracy: 0.9369 - 10s/epoch - 26ms/step\n",
      "Epoch 13/24\n",
      "375/375 - 5s - loss: 0.2343 - accuracy: 0.9342 - val_loss: 0.2239 - val_accuracy: 0.9395 - 5s/epoch - 13ms/step\n",
      "Epoch 14/24\n",
      "375/375 - 3s - loss: 0.2274 - accuracy: 0.9359 - val_loss: 0.2179 - val_accuracy: 0.9421 - 3s/epoch - 8ms/step\n",
      "Epoch 15/24\n",
      "375/375 - 3s - loss: 0.2208 - accuracy: 0.9379 - val_loss: 0.2117 - val_accuracy: 0.9444 - 3s/epoch - 8ms/step\n",
      "Epoch 16/24\n",
      "375/375 - 3s - loss: 0.2140 - accuracy: 0.9393 - val_loss: 0.2063 - val_accuracy: 0.9448 - 3s/epoch - 7ms/step\n",
      "Epoch 17/24\n",
      "375/375 - 6s - loss: 0.2076 - accuracy: 0.9414 - val_loss: 0.2006 - val_accuracy: 0.9474 - 6s/epoch - 15ms/step\n",
      "Epoch 18/24\n",
      "375/375 - 3s - loss: 0.2012 - accuracy: 0.9436 - val_loss: 0.1947 - val_accuracy: 0.9488 - 3s/epoch - 7ms/step\n",
      "Epoch 19/24\n",
      "375/375 - 3s - loss: 0.1951 - accuracy: 0.9452 - val_loss: 0.1892 - val_accuracy: 0.9503 - 3s/epoch - 9ms/step\n",
      "Epoch 20/24\n",
      "375/375 - 9s - loss: 0.1888 - accuracy: 0.9465 - val_loss: 0.1837 - val_accuracy: 0.9519 - 9s/epoch - 24ms/step\n",
      "Epoch 21/24\n",
      "375/375 - 12s - loss: 0.1831 - accuracy: 0.9488 - val_loss: 0.1781 - val_accuracy: 0.9547 - 12s/epoch - 32ms/step\n",
      "Epoch 22/24\n",
      "375/375 - 10s - loss: 0.1773 - accuracy: 0.9500 - val_loss: 0.1752 - val_accuracy: 0.9537 - 10s/epoch - 27ms/step\n",
      "Epoch 23/24\n",
      "375/375 - 6s - loss: 0.1718 - accuracy: 0.9521 - val_loss: 0.1694 - val_accuracy: 0.9560 - 6s/epoch - 17ms/step\n",
      "Epoch 24/24\n",
      "375/375 - 7s - loss: 0.1666 - accuracy: 0.9536 - val_loss: 0.1644 - val_accuracy: 0.9578 - 7s/epoch - 19ms/step\n"
     ]
    },
    {
     "name": "stderr",
     "output_type": "stream",
     "text": [
      "\u001b[32m[I 2022-05-19 18:04:12,299]\u001b[0m Trial 2 finished with value: 0.9578333497047424 and parameters: {'activation▁choice': 0, 'filters▁choice': 0, 'kernel_size▁choice': 0, 'strides▁choice': 1}. Best is trial 1 with value: 0.9629166722297668.\u001b[0m\n"
     ]
    },
    {
     "name": "stdout",
     "output_type": "stream",
     "text": [
      "Epoch 1/24\n",
      "375/375 - 12s - loss: 0.7600 - accuracy: 0.8414 - val_loss: 0.3249 - val_accuracy: 0.9085 - 12s/epoch - 32ms/step\n",
      "Epoch 2/24\n",
      "375/375 - 7s - loss: 0.3114 - accuracy: 0.9100 - val_loss: 0.2653 - val_accuracy: 0.9241 - 7s/epoch - 19ms/step\n",
      "Epoch 3/24\n",
      "375/375 - 7s - loss: 0.2662 - accuracy: 0.9241 - val_loss: 0.2388 - val_accuracy: 0.9329 - 7s/epoch - 19ms/step\n",
      "Epoch 4/24\n",
      "375/375 - 9s - loss: 0.2378 - accuracy: 0.9322 - val_loss: 0.2159 - val_accuracy: 0.9411 - 9s/epoch - 25ms/step\n",
      "Epoch 5/24\n",
      "375/375 - 9s - loss: 0.2134 - accuracy: 0.9395 - val_loss: 0.1957 - val_accuracy: 0.9473 - 9s/epoch - 24ms/step\n",
      "Epoch 6/24\n",
      "375/375 - 9s - loss: 0.1922 - accuracy: 0.9460 - val_loss: 0.1780 - val_accuracy: 0.9532 - 9s/epoch - 25ms/step\n",
      "Epoch 7/24\n",
      "375/375 - 9s - loss: 0.1734 - accuracy: 0.9513 - val_loss: 0.1617 - val_accuracy: 0.9579 - 9s/epoch - 23ms/step\n",
      "Epoch 8/24\n",
      "375/375 - 6s - loss: 0.1561 - accuracy: 0.9564 - val_loss: 0.1497 - val_accuracy: 0.9608 - 6s/epoch - 16ms/step\n",
      "Epoch 9/24\n",
      "375/375 - 6s - loss: 0.1416 - accuracy: 0.9615 - val_loss: 0.1387 - val_accuracy: 0.9637 - 6s/epoch - 16ms/step\n",
      "Epoch 10/24\n",
      "375/375 - 9s - loss: 0.1294 - accuracy: 0.9649 - val_loss: 0.1276 - val_accuracy: 0.9668 - 9s/epoch - 23ms/step\n",
      "Epoch 11/24\n",
      "375/375 - 7s - loss: 0.1188 - accuracy: 0.9679 - val_loss: 0.1192 - val_accuracy: 0.9694 - 7s/epoch - 19ms/step\n",
      "Epoch 12/24\n",
      "375/375 - 9s - loss: 0.1099 - accuracy: 0.9701 - val_loss: 0.1135 - val_accuracy: 0.9702 - 9s/epoch - 24ms/step\n",
      "Epoch 13/24\n",
      "375/375 - 8s - loss: 0.1021 - accuracy: 0.9726 - val_loss: 0.1104 - val_accuracy: 0.9707 - 8s/epoch - 21ms/step\n",
      "Epoch 14/24\n",
      "375/375 - 9s - loss: 0.0957 - accuracy: 0.9747 - val_loss: 0.1036 - val_accuracy: 0.9728 - 9s/epoch - 25ms/step\n",
      "Epoch 15/24\n",
      "375/375 - 13s - loss: 0.0901 - accuracy: 0.9766 - val_loss: 0.0987 - val_accuracy: 0.9753 - 13s/epoch - 35ms/step\n",
      "Epoch 16/24\n",
      "375/375 - 10s - loss: 0.0850 - accuracy: 0.9774 - val_loss: 0.0966 - val_accuracy: 0.9743 - 10s/epoch - 27ms/step\n",
      "Epoch 17/24\n",
      "375/375 - 8s - loss: 0.0806 - accuracy: 0.9785 - val_loss: 0.0942 - val_accuracy: 0.9747 - 8s/epoch - 22ms/step\n",
      "Epoch 18/24\n",
      "375/375 - 10s - loss: 0.0769 - accuracy: 0.9796 - val_loss: 0.0906 - val_accuracy: 0.9768 - 10s/epoch - 26ms/step\n",
      "Epoch 19/24\n",
      "375/375 - 10s - loss: 0.0736 - accuracy: 0.9805 - val_loss: 0.0879 - val_accuracy: 0.9771 - 10s/epoch - 26ms/step\n",
      "Epoch 20/24\n",
      "375/375 - 9s - loss: 0.0703 - accuracy: 0.9811 - val_loss: 0.0868 - val_accuracy: 0.9773 - 9s/epoch - 25ms/step\n",
      "Epoch 21/24\n",
      "375/375 - 10s - loss: 0.0675 - accuracy: 0.9822 - val_loss: 0.0839 - val_accuracy: 0.9777 - 10s/epoch - 26ms/step\n",
      "Epoch 22/24\n",
      "375/375 - 8s - loss: 0.0651 - accuracy: 0.9825 - val_loss: 0.0829 - val_accuracy: 0.9779 - 8s/epoch - 22ms/step\n",
      "Epoch 23/24\n",
      "375/375 - 8s - loss: 0.0626 - accuracy: 0.9831 - val_loss: 0.0815 - val_accuracy: 0.9783 - 8s/epoch - 22ms/step\n",
      "Epoch 24/24\n",
      "375/375 - 8s - loss: 0.0606 - accuracy: 0.9838 - val_loss: 0.0798 - val_accuracy: 0.9788 - 8s/epoch - 21ms/step\n"
     ]
    },
    {
     "name": "stderr",
     "output_type": "stream",
     "text": [
      "\u001b[32m[I 2022-05-19 18:08:34,620]\u001b[0m Trial 3 finished with value: 0.9788333177566528 and parameters: {'activation▁choice': 0, 'filters▁choice': 0, 'kernel_size▁choice': 0, 'strides▁choice': 0}. Best is trial 3 with value: 0.9788333177566528.\u001b[0m\n"
     ]
    },
    {
     "name": "stdout",
     "output_type": "stream",
     "text": [
      "Epoch 1/24\n",
      "375/375 - 12s - loss: 1.3035 - accuracy: 0.7533 - val_loss: 0.5974 - val_accuracy: 0.8663 - 12s/epoch - 31ms/step\n",
      "Epoch 2/24\n",
      "375/375 - 2s - loss: 0.4697 - accuracy: 0.8759 - val_loss: 0.3501 - val_accuracy: 0.8997 - 2s/epoch - 6ms/step\n",
      "Epoch 3/24\n",
      "375/375 - 2s - loss: 0.3535 - accuracy: 0.8986 - val_loss: 0.3091 - val_accuracy: 0.9105 - 2s/epoch - 6ms/step\n",
      "Epoch 4/24\n",
      "375/375 - 3s - loss: 0.3203 - accuracy: 0.9084 - val_loss: 0.2906 - val_accuracy: 0.9170 - 3s/epoch - 8ms/step\n",
      "Epoch 5/24\n",
      "375/375 - 5s - loss: 0.3020 - accuracy: 0.9133 - val_loss: 0.2771 - val_accuracy: 0.9218 - 5s/epoch - 12ms/step\n",
      "Epoch 6/24\n",
      "375/375 - 4s - loss: 0.2887 - accuracy: 0.9174 - val_loss: 0.2678 - val_accuracy: 0.9250 - 4s/epoch - 11ms/step\n",
      "Epoch 7/24\n",
      "375/375 - 4s - loss: 0.2778 - accuracy: 0.9210 - val_loss: 0.2613 - val_accuracy: 0.9277 - 4s/epoch - 11ms/step\n",
      "Epoch 8/24\n",
      "375/375 - 3s - loss: 0.2681 - accuracy: 0.9241 - val_loss: 0.2525 - val_accuracy: 0.9312 - 3s/epoch - 8ms/step\n",
      "Epoch 9/24\n",
      "375/375 - 7s - loss: 0.2591 - accuracy: 0.9273 - val_loss: 0.2442 - val_accuracy: 0.9330 - 7s/epoch - 19ms/step\n",
      "Epoch 10/24\n",
      "375/375 - 3s - loss: 0.2506 - accuracy: 0.9293 - val_loss: 0.2371 - val_accuracy: 0.9355 - 3s/epoch - 9ms/step\n",
      "Epoch 11/24\n",
      "375/375 - 7s - loss: 0.2425 - accuracy: 0.9319 - val_loss: 0.2302 - val_accuracy: 0.9381 - 7s/epoch - 20ms/step\n",
      "Epoch 12/24\n",
      "375/375 - 7s - loss: 0.2346 - accuracy: 0.9344 - val_loss: 0.2226 - val_accuracy: 0.9406 - 7s/epoch - 18ms/step\n",
      "Epoch 13/24\n",
      "375/375 - 3s - loss: 0.2266 - accuracy: 0.9365 - val_loss: 0.2164 - val_accuracy: 0.9427 - 3s/epoch - 7ms/step\n",
      "Epoch 14/24\n",
      "375/375 - 3s - loss: 0.2187 - accuracy: 0.9389 - val_loss: 0.2105 - val_accuracy: 0.9439 - 3s/epoch - 9ms/step\n",
      "Epoch 15/24\n",
      "375/375 - 2s - loss: 0.2113 - accuracy: 0.9407 - val_loss: 0.2031 - val_accuracy: 0.9472 - 2s/epoch - 6ms/step\n",
      "Epoch 16/24\n",
      "375/375 - 2s - loss: 0.2039 - accuracy: 0.9430 - val_loss: 0.1970 - val_accuracy: 0.9490 - 2s/epoch - 6ms/step\n",
      "Epoch 17/24\n",
      "375/375 - 2s - loss: 0.1966 - accuracy: 0.9454 - val_loss: 0.1910 - val_accuracy: 0.9507 - 2s/epoch - 6ms/step\n",
      "Epoch 18/24\n",
      "375/375 - 2s - loss: 0.1899 - accuracy: 0.9469 - val_loss: 0.1864 - val_accuracy: 0.9526 - 2s/epoch - 7ms/step\n",
      "Epoch 19/24\n",
      "375/375 - 2s - loss: 0.1830 - accuracy: 0.9490 - val_loss: 0.1780 - val_accuracy: 0.9543 - 2s/epoch - 6ms/step\n",
      "Epoch 20/24\n",
      "375/375 - 4s - loss: 0.1768 - accuracy: 0.9509 - val_loss: 0.1737 - val_accuracy: 0.9549 - 4s/epoch - 11ms/step\n",
      "Epoch 21/24\n",
      "375/375 - 8s - loss: 0.1708 - accuracy: 0.9525 - val_loss: 0.1676 - val_accuracy: 0.9573 - 8s/epoch - 20ms/step\n",
      "Epoch 22/24\n",
      "375/375 - 6s - loss: 0.1649 - accuracy: 0.9543 - val_loss: 0.1633 - val_accuracy: 0.9583 - 6s/epoch - 16ms/step\n",
      "Epoch 23/24\n",
      "375/375 - 4s - loss: 0.1593 - accuracy: 0.9557 - val_loss: 0.1584 - val_accuracy: 0.9590 - 4s/epoch - 10ms/step\n",
      "Epoch 24/24\n",
      "375/375 - 2s - loss: 0.1541 - accuracy: 0.9573 - val_loss: 0.1537 - val_accuracy: 0.9607 - 2s/epoch - 6ms/step\n"
     ]
    },
    {
     "name": "stderr",
     "output_type": "stream",
     "text": [
      "\u001b[32m[I 2022-05-19 18:10:14,640]\u001b[0m Trial 4 finished with value: 0.9607499837875366 and parameters: {'activation▁choice': 0, 'filters▁choice': 0, 'kernel_size▁choice': 0, 'strides▁choice': 1}. Best is trial 3 with value: 0.9788333177566528.\u001b[0m\n"
     ]
    },
    {
     "name": "stdout",
     "output_type": "stream",
     "text": [
      "Epoch 1/24\n",
      "375/375 - 11s - loss: 0.5813 - accuracy: 0.8658 - val_loss: 0.2754 - val_accuracy: 0.9238 - 11s/epoch - 29ms/step\n",
      "Epoch 2/24\n",
      "375/375 - 11s - loss: 0.2602 - accuracy: 0.9260 - val_loss: 0.2162 - val_accuracy: 0.9414 - 11s/epoch - 31ms/step\n",
      "Epoch 3/24\n",
      "375/375 - 11s - loss: 0.1975 - accuracy: 0.9446 - val_loss: 0.1669 - val_accuracy: 0.9565 - 11s/epoch - 30ms/step\n",
      "Epoch 4/24\n",
      "375/375 - 10s - loss: 0.1527 - accuracy: 0.9570 - val_loss: 0.1309 - val_accuracy: 0.9654 - 10s/epoch - 26ms/step\n",
      "Epoch 5/24\n",
      "375/375 - 10s - loss: 0.1218 - accuracy: 0.9666 - val_loss: 0.1107 - val_accuracy: 0.9708 - 10s/epoch - 28ms/step\n",
      "Epoch 6/24\n",
      "375/375 - 10s - loss: 0.1013 - accuracy: 0.9725 - val_loss: 0.0972 - val_accuracy: 0.9733 - 10s/epoch - 28ms/step\n",
      "Epoch 7/24\n",
      "375/375 - 11s - loss: 0.0872 - accuracy: 0.9763 - val_loss: 0.0895 - val_accuracy: 0.9753 - 11s/epoch - 30ms/step\n",
      "Epoch 8/24\n",
      "375/375 - 10s - loss: 0.0776 - accuracy: 0.9789 - val_loss: 0.0806 - val_accuracy: 0.9789 - 10s/epoch - 27ms/step\n",
      "Epoch 9/24\n",
      "375/375 - 11s - loss: 0.0701 - accuracy: 0.9809 - val_loss: 0.0761 - val_accuracy: 0.9786 - 11s/epoch - 30ms/step\n",
      "Epoch 10/24\n",
      "375/375 - 11s - loss: 0.0642 - accuracy: 0.9826 - val_loss: 0.0732 - val_accuracy: 0.9797 - 11s/epoch - 29ms/step\n",
      "Epoch 11/24\n",
      "375/375 - 12s - loss: 0.0596 - accuracy: 0.9845 - val_loss: 0.0681 - val_accuracy: 0.9808 - 12s/epoch - 32ms/step\n",
      "Epoch 12/24\n",
      "375/375 - 11s - loss: 0.0557 - accuracy: 0.9850 - val_loss: 0.0668 - val_accuracy: 0.9815 - 11s/epoch - 28ms/step\n",
      "Epoch 13/24\n",
      "375/375 - 10s - loss: 0.0523 - accuracy: 0.9858 - val_loss: 0.0657 - val_accuracy: 0.9814 - 10s/epoch - 27ms/step\n",
      "Epoch 14/24\n",
      "375/375 - 10s - loss: 0.0495 - accuracy: 0.9865 - val_loss: 0.0641 - val_accuracy: 0.9814 - 10s/epoch - 26ms/step\n",
      "Epoch 15/24\n",
      "375/375 - 12s - loss: 0.0467 - accuracy: 0.9871 - val_loss: 0.0637 - val_accuracy: 0.9816 - 12s/epoch - 32ms/step\n",
      "Epoch 16/24\n",
      "375/375 - 11s - loss: 0.0448 - accuracy: 0.9875 - val_loss: 0.0608 - val_accuracy: 0.9823 - 11s/epoch - 29ms/step\n",
      "Epoch 17/24\n",
      "375/375 - 9s - loss: 0.0425 - accuracy: 0.9883 - val_loss: 0.0621 - val_accuracy: 0.9827 - 9s/epoch - 25ms/step\n",
      "Epoch 18/24\n",
      "375/375 - 11s - loss: 0.0407 - accuracy: 0.9887 - val_loss: 0.0625 - val_accuracy: 0.9823 - 11s/epoch - 30ms/step\n",
      "Epoch 19/24\n",
      "375/375 - 11s - loss: 0.0388 - accuracy: 0.9892 - val_loss: 0.0597 - val_accuracy: 0.9829 - 11s/epoch - 30ms/step\n",
      "Epoch 20/24\n",
      "375/375 - 11s - loss: 0.0374 - accuracy: 0.9898 - val_loss: 0.0599 - val_accuracy: 0.9830 - 11s/epoch - 30ms/step\n",
      "Epoch 21/24\n",
      "375/375 - 10s - loss: 0.0361 - accuracy: 0.9901 - val_loss: 0.0596 - val_accuracy: 0.9829 - 10s/epoch - 26ms/step\n",
      "Epoch 22/24\n",
      "375/375 - 12s - loss: 0.0343 - accuracy: 0.9908 - val_loss: 0.0588 - val_accuracy: 0.9833 - 12s/epoch - 31ms/step\n",
      "Epoch 23/24\n",
      "375/375 - 11s - loss: 0.0330 - accuracy: 0.9909 - val_loss: 0.0589 - val_accuracy: 0.9829 - 11s/epoch - 29ms/step\n",
      "Epoch 24/24\n",
      "375/375 - 10s - loss: 0.0321 - accuracy: 0.9915 - val_loss: 0.0591 - val_accuracy: 0.9834 - 10s/epoch - 26ms/step\n"
     ]
    },
    {
     "name": "stderr",
     "output_type": "stream",
     "text": [
      "\u001b[32m[I 2022-05-19 18:14:33,339]\u001b[0m Trial 5 finished with value: 0.9834166765213013 and parameters: {'activation▁choice': 0, 'filters▁choice': 1, 'kernel_size▁choice': 1, 'strides▁choice': 0}. Best is trial 5 with value: 0.9834166765213013.\u001b[0m\n"
     ]
    },
    {
     "name": "stdout",
     "output_type": "stream",
     "text": [
      "Epoch 1/24\n",
      "375/375 - 6s - loss: 0.6437 - accuracy: 0.8525 - val_loss: 0.3197 - val_accuracy: 0.9079 - 6s/epoch - 15ms/step\n",
      "Epoch 2/24\n",
      "375/375 - 13s - loss: 0.3219 - accuracy: 0.9076 - val_loss: 0.2900 - val_accuracy: 0.9183 - 13s/epoch - 34ms/step\n",
      "Epoch 3/24\n",
      "375/375 - 11s - loss: 0.2990 - accuracy: 0.9145 - val_loss: 0.2790 - val_accuracy: 0.9227 - 11s/epoch - 30ms/step\n",
      "Epoch 4/24\n",
      "375/375 - 9s - loss: 0.2884 - accuracy: 0.9181 - val_loss: 0.2734 - val_accuracy: 0.9235 - 9s/epoch - 23ms/step\n",
      "Epoch 5/24\n",
      "375/375 - 4s - loss: 0.2828 - accuracy: 0.9192 - val_loss: 0.2697 - val_accuracy: 0.9257 - 4s/epoch - 12ms/step\n",
      "Epoch 6/24\n",
      "375/375 - 6s - loss: 0.2781 - accuracy: 0.9211 - val_loss: 0.2707 - val_accuracy: 0.9261 - 6s/epoch - 17ms/step\n",
      "Epoch 7/24\n",
      "375/375 - 6s - loss: 0.2744 - accuracy: 0.9227 - val_loss: 0.2642 - val_accuracy: 0.9277 - 6s/epoch - 17ms/step\n",
      "Epoch 8/24\n",
      "375/375 - 4s - loss: 0.2721 - accuracy: 0.9235 - val_loss: 0.2669 - val_accuracy: 0.9268 - 4s/epoch - 10ms/step\n",
      "Epoch 9/24\n",
      "375/375 - 6s - loss: 0.2699 - accuracy: 0.9235 - val_loss: 0.2655 - val_accuracy: 0.9286 - 6s/epoch - 15ms/step\n",
      "Epoch 10/24\n",
      "375/375 - 7s - loss: 0.2681 - accuracy: 0.9250 - val_loss: 0.2648 - val_accuracy: 0.9267 - 7s/epoch - 19ms/step\n",
      "Epoch 11/24\n",
      "375/375 - 9s - loss: 0.2662 - accuracy: 0.9254 - val_loss: 0.2630 - val_accuracy: 0.9285 - 9s/epoch - 24ms/step\n",
      "Epoch 12/24\n",
      "375/375 - 6s - loss: 0.2654 - accuracy: 0.9259 - val_loss: 0.2661 - val_accuracy: 0.9277 - 6s/epoch - 17ms/step\n",
      "Epoch 13/24\n",
      "375/375 - 6s - loss: 0.2636 - accuracy: 0.9265 - val_loss: 0.2617 - val_accuracy: 0.9292 - 6s/epoch - 17ms/step\n",
      "Epoch 14/24\n",
      "375/375 - 9s - loss: 0.2625 - accuracy: 0.9268 - val_loss: 0.2613 - val_accuracy: 0.9294 - 9s/epoch - 25ms/step\n",
      "Epoch 15/24\n",
      "375/375 - 6s - loss: 0.2611 - accuracy: 0.9271 - val_loss: 0.2659 - val_accuracy: 0.9269 - 6s/epoch - 15ms/step\n",
      "Epoch 16/24\n",
      "375/375 - 6s - loss: 0.2605 - accuracy: 0.9271 - val_loss: 0.2605 - val_accuracy: 0.9292 - 6s/epoch - 15ms/step\n",
      "Epoch 17/24\n",
      "375/375 - 5s - loss: 0.2586 - accuracy: 0.9279 - val_loss: 0.2616 - val_accuracy: 0.9285 - 5s/epoch - 12ms/step\n",
      "Epoch 18/24\n",
      "375/375 - 4s - loss: 0.2580 - accuracy: 0.9281 - val_loss: 0.2611 - val_accuracy: 0.9299 - 4s/epoch - 12ms/step\n",
      "Epoch 19/24\n",
      "375/375 - 4s - loss: 0.2570 - accuracy: 0.9284 - val_loss: 0.2613 - val_accuracy: 0.9304 - 4s/epoch - 12ms/step\n",
      "Epoch 20/24\n",
      "375/375 - 4s - loss: 0.2566 - accuracy: 0.9290 - val_loss: 0.2628 - val_accuracy: 0.9293 - 4s/epoch - 12ms/step\n",
      "Epoch 21/24\n",
      "375/375 - 6s - loss: 0.2554 - accuracy: 0.9291 - val_loss: 0.2625 - val_accuracy: 0.9295 - 6s/epoch - 15ms/step\n",
      "Epoch 22/24\n",
      "375/375 - 5s - loss: 0.2549 - accuracy: 0.9299 - val_loss: 0.2629 - val_accuracy: 0.9282 - 5s/epoch - 14ms/step\n",
      "Epoch 23/24\n",
      "375/375 - 5s - loss: 0.2539 - accuracy: 0.9292 - val_loss: 0.2603 - val_accuracy: 0.9304 - 5s/epoch - 14ms/step\n",
      "Epoch 24/24\n",
      "375/375 - 9s - loss: 0.2530 - accuracy: 0.9307 - val_loss: 0.2645 - val_accuracy: 0.9289 - 9s/epoch - 24ms/step\n"
     ]
    },
    {
     "name": "stderr",
     "output_type": "stream",
     "text": [
      "\u001b[32m[I 2022-05-19 18:17:10,734]\u001b[0m Trial 6 finished with value: 0.9304166436195374 and parameters: {'activation▁choice': 1, 'filters▁choice': 0, 'kernel_size▁choice': 0, 'strides▁choice': 0}. Best is trial 5 with value: 0.9834166765213013.\u001b[0m\n"
     ]
    },
    {
     "name": "stdout",
     "output_type": "stream",
     "text": [
      "Epoch 1/24\n",
      "375/375 - 11s - loss: 0.7466 - accuracy: 0.8433 - val_loss: 0.3269 - val_accuracy: 0.9096 - 11s/epoch - 30ms/step\n",
      "Epoch 2/24\n",
      "375/375 - 8s - loss: 0.3168 - accuracy: 0.9092 - val_loss: 0.2767 - val_accuracy: 0.9194 - 8s/epoch - 22ms/step\n",
      "Epoch 3/24\n",
      "375/375 - 7s - loss: 0.2758 - accuracy: 0.9208 - val_loss: 0.2487 - val_accuracy: 0.9299 - 7s/epoch - 20ms/step\n",
      "Epoch 4/24\n",
      "375/375 - 12s - loss: 0.2492 - accuracy: 0.9291 - val_loss: 0.2283 - val_accuracy: 0.9366 - 12s/epoch - 31ms/step\n",
      "Epoch 5/24\n",
      "375/375 - 11s - loss: 0.2263 - accuracy: 0.9359 - val_loss: 0.2087 - val_accuracy: 0.9427 - 11s/epoch - 30ms/step\n",
      "Epoch 6/24\n",
      "375/375 - 10s - loss: 0.2052 - accuracy: 0.9419 - val_loss: 0.1911 - val_accuracy: 0.9499 - 10s/epoch - 26ms/step\n",
      "Epoch 7/24\n",
      "375/375 - 7s - loss: 0.1864 - accuracy: 0.9481 - val_loss: 0.1756 - val_accuracy: 0.9523 - 7s/epoch - 19ms/step\n",
      "Epoch 8/24\n",
      "375/375 - 7s - loss: 0.1693 - accuracy: 0.9531 - val_loss: 0.1624 - val_accuracy: 0.9568 - 7s/epoch - 18ms/step\n",
      "Epoch 9/24\n",
      "375/375 - 11s - loss: 0.1539 - accuracy: 0.9573 - val_loss: 0.1489 - val_accuracy: 0.9617 - 11s/epoch - 30ms/step\n",
      "Epoch 10/24\n",
      "375/375 - 13s - loss: 0.1403 - accuracy: 0.9616 - val_loss: 0.1384 - val_accuracy: 0.9647 - 13s/epoch - 33ms/step\n",
      "Epoch 11/24\n",
      "375/375 - 10s - loss: 0.1286 - accuracy: 0.9655 - val_loss: 0.1296 - val_accuracy: 0.9668 - 10s/epoch - 26ms/step\n",
      "Epoch 12/24\n",
      "375/375 - 8s - loss: 0.1183 - accuracy: 0.9684 - val_loss: 0.1215 - val_accuracy: 0.9682 - 8s/epoch - 22ms/step\n",
      "Epoch 13/24\n",
      "375/375 - 9s - loss: 0.1097 - accuracy: 0.9714 - val_loss: 0.1141 - val_accuracy: 0.9700 - 9s/epoch - 24ms/step\n",
      "Epoch 14/24\n",
      "375/375 - 13s - loss: 0.1022 - accuracy: 0.9729 - val_loss: 0.1091 - val_accuracy: 0.9711 - 13s/epoch - 34ms/step\n",
      "Epoch 15/24\n",
      "375/375 - 9s - loss: 0.0957 - accuracy: 0.9749 - val_loss: 0.1042 - val_accuracy: 0.9727 - 9s/epoch - 24ms/step\n",
      "Epoch 16/24\n",
      "375/375 - 7s - loss: 0.0900 - accuracy: 0.9767 - val_loss: 0.0999 - val_accuracy: 0.9738 - 7s/epoch - 19ms/step\n",
      "Epoch 17/24\n",
      "375/375 - 9s - loss: 0.0852 - accuracy: 0.9775 - val_loss: 0.0967 - val_accuracy: 0.9737 - 9s/epoch - 25ms/step\n",
      "Epoch 18/24\n",
      "375/375 - 13s - loss: 0.0805 - accuracy: 0.9787 - val_loss: 0.0936 - val_accuracy: 0.9751 - 13s/epoch - 36ms/step\n",
      "Epoch 19/24\n",
      "375/375 - 11s - loss: 0.0766 - accuracy: 0.9798 - val_loss: 0.0924 - val_accuracy: 0.9753 - 11s/epoch - 29ms/step\n",
      "Epoch 20/24\n",
      "375/375 - 12s - loss: 0.0733 - accuracy: 0.9806 - val_loss: 0.0881 - val_accuracy: 0.9763 - 12s/epoch - 32ms/step\n",
      "Epoch 21/24\n",
      "375/375 - 9s - loss: 0.0701 - accuracy: 0.9816 - val_loss: 0.0867 - val_accuracy: 0.9771 - 9s/epoch - 25ms/step\n",
      "Epoch 22/24\n",
      "375/375 - 8s - loss: 0.0675 - accuracy: 0.9819 - val_loss: 0.0839 - val_accuracy: 0.9778 - 8s/epoch - 22ms/step\n",
      "Epoch 23/24\n",
      "375/375 - 8s - loss: 0.0645 - accuracy: 0.9834 - val_loss: 0.0842 - val_accuracy: 0.9778 - 8s/epoch - 21ms/step\n",
      "Epoch 24/24\n",
      "375/375 - 9s - loss: 0.0623 - accuracy: 0.9833 - val_loss: 0.0813 - val_accuracy: 0.9783 - 9s/epoch - 23ms/step\n"
     ]
    },
    {
     "name": "stderr",
     "output_type": "stream",
     "text": [
      "\u001b[32m[I 2022-05-19 18:21:04,177]\u001b[0m Trial 7 finished with value: 0.9782500267028809 and parameters: {'activation▁choice': 0, 'filters▁choice': 0, 'kernel_size▁choice': 0, 'strides▁choice': 0}. Best is trial 5 with value: 0.9834166765213013.\u001b[0m\n"
     ]
    },
    {
     "name": "stdout",
     "output_type": "stream",
     "text": [
      "Epoch 1/24\n",
      "375/375 - 11s - loss: 1.1872 - accuracy: 0.7594 - val_loss: 0.4843 - val_accuracy: 0.8758 - 11s/epoch - 29ms/step\n",
      "Epoch 2/24\n",
      "375/375 - 2s - loss: 0.4179 - accuracy: 0.8830 - val_loss: 0.3340 - val_accuracy: 0.9057 - 2s/epoch - 4ms/step\n",
      "Epoch 3/24\n",
      "375/375 - 2s - loss: 0.3389 - accuracy: 0.9030 - val_loss: 0.2992 - val_accuracy: 0.9135 - 2s/epoch - 5ms/step\n",
      "Epoch 4/24\n",
      "375/375 - 2s - loss: 0.3075 - accuracy: 0.9121 - val_loss: 0.2774 - val_accuracy: 0.9223 - 2s/epoch - 5ms/step\n",
      "Epoch 5/24\n",
      "375/375 - 2s - loss: 0.2847 - accuracy: 0.9199 - val_loss: 0.2588 - val_accuracy: 0.9267 - 2s/epoch - 5ms/step\n",
      "Epoch 6/24\n",
      "375/375 - 2s - loss: 0.2650 - accuracy: 0.9252 - val_loss: 0.2430 - val_accuracy: 0.9321 - 2s/epoch - 6ms/step\n",
      "Epoch 7/24\n",
      "375/375 - 2s - loss: 0.2461 - accuracy: 0.9306 - val_loss: 0.2266 - val_accuracy: 0.9372 - 2s/epoch - 6ms/step\n",
      "Epoch 8/24\n",
      "375/375 - 3s - loss: 0.2283 - accuracy: 0.9355 - val_loss: 0.2122 - val_accuracy: 0.9422 - 3s/epoch - 7ms/step\n",
      "Epoch 9/24\n",
      "375/375 - 4s - loss: 0.2116 - accuracy: 0.9401 - val_loss: 0.1965 - val_accuracy: 0.9471 - 4s/epoch - 12ms/step\n",
      "Epoch 10/24\n",
      "375/375 - 4s - loss: 0.1962 - accuracy: 0.9445 - val_loss: 0.1840 - val_accuracy: 0.9500 - 4s/epoch - 10ms/step\n",
      "Epoch 11/24\n",
      "375/375 - 5s - loss: 0.1821 - accuracy: 0.9486 - val_loss: 0.1719 - val_accuracy: 0.9531 - 5s/epoch - 14ms/step\n",
      "Epoch 12/24\n",
      "375/375 - 4s - loss: 0.1692 - accuracy: 0.9521 - val_loss: 0.1605 - val_accuracy: 0.9581 - 4s/epoch - 10ms/step\n",
      "Epoch 13/24\n",
      "375/375 - 2s - loss: 0.1577 - accuracy: 0.9555 - val_loss: 0.1511 - val_accuracy: 0.9608 - 2s/epoch - 6ms/step\n",
      "Epoch 14/24\n",
      "375/375 - 2s - loss: 0.1472 - accuracy: 0.9585 - val_loss: 0.1424 - val_accuracy: 0.9630 - 2s/epoch - 5ms/step\n",
      "Epoch 15/24\n",
      "375/375 - 2s - loss: 0.1378 - accuracy: 0.9619 - val_loss: 0.1366 - val_accuracy: 0.9646 - 2s/epoch - 6ms/step\n",
      "Epoch 16/24\n",
      "375/375 - 2s - loss: 0.1298 - accuracy: 0.9644 - val_loss: 0.1277 - val_accuracy: 0.9662 - 2s/epoch - 5ms/step\n",
      "Epoch 17/24\n",
      "375/375 - 2s - loss: 0.1222 - accuracy: 0.9667 - val_loss: 0.1223 - val_accuracy: 0.9678 - 2s/epoch - 6ms/step\n",
      "Epoch 18/24\n",
      "375/375 - 2s - loss: 0.1157 - accuracy: 0.9685 - val_loss: 0.1174 - val_accuracy: 0.9693 - 2s/epoch - 5ms/step\n",
      "Epoch 19/24\n",
      "375/375 - 2s - loss: 0.1103 - accuracy: 0.9701 - val_loss: 0.1125 - val_accuracy: 0.9697 - 2s/epoch - 6ms/step\n",
      "Epoch 20/24\n",
      "375/375 - 3s - loss: 0.1053 - accuracy: 0.9719 - val_loss: 0.1087 - val_accuracy: 0.9716 - 3s/epoch - 7ms/step\n",
      "Epoch 21/24\n",
      "375/375 - 4s - loss: 0.1007 - accuracy: 0.9729 - val_loss: 0.1059 - val_accuracy: 0.9724 - 4s/epoch - 10ms/step\n",
      "Epoch 22/24\n",
      "375/375 - 7s - loss: 0.0965 - accuracy: 0.9740 - val_loss: 0.1019 - val_accuracy: 0.9733 - 7s/epoch - 20ms/step\n",
      "Epoch 23/24\n",
      "375/375 - 2s - loss: 0.0929 - accuracy: 0.9751 - val_loss: 0.0987 - val_accuracy: 0.9738 - 2s/epoch - 6ms/step\n",
      "Epoch 24/24\n",
      "375/375 - 4s - loss: 0.0897 - accuracy: 0.9759 - val_loss: 0.0969 - val_accuracy: 0.9747 - 4s/epoch - 10ms/step\n"
     ]
    },
    {
     "name": "stderr",
     "output_type": "stream",
     "text": [
      "\u001b[32m[I 2022-05-19 18:22:21,838]\u001b[0m Trial 8 finished with value: 0.9747499823570251 and parameters: {'activation▁choice': 0, 'filters▁choice': 0, 'kernel_size▁choice': 1, 'strides▁choice': 1}. Best is trial 5 with value: 0.9834166765213013.\u001b[0m\n"
     ]
    },
    {
     "name": "stdout",
     "output_type": "stream",
     "text": [
      "Epoch 1/24\n",
      "375/375 - 3s - loss: 1.2046 - accuracy: 0.7700 - val_loss: 0.5293 - val_accuracy: 0.8692 - 3s/epoch - 8ms/step\n",
      "Epoch 2/24\n",
      "375/375 - 3s - loss: 0.4384 - accuracy: 0.8812 - val_loss: 0.3416 - val_accuracy: 0.9027 - 3s/epoch - 7ms/step\n",
      "Epoch 3/24\n",
      "375/375 - 1s - loss: 0.3495 - accuracy: 0.8997 - val_loss: 0.3104 - val_accuracy: 0.9107 - 1s/epoch - 4ms/step\n",
      "Epoch 4/24\n",
      "375/375 - 1s - loss: 0.3241 - accuracy: 0.9072 - val_loss: 0.2989 - val_accuracy: 0.9140 - 1s/epoch - 3ms/step\n",
      "Epoch 5/24\n",
      "375/375 - 1s - loss: 0.3107 - accuracy: 0.9111 - val_loss: 0.2886 - val_accuracy: 0.9197 - 1s/epoch - 4ms/step\n",
      "Epoch 6/24\n",
      "375/375 - 1s - loss: 0.3017 - accuracy: 0.9135 - val_loss: 0.2845 - val_accuracy: 0.9211 - 1s/epoch - 4ms/step\n",
      "Epoch 7/24\n",
      "375/375 - 2s - loss: 0.2954 - accuracy: 0.9163 - val_loss: 0.2798 - val_accuracy: 0.9215 - 2s/epoch - 4ms/step\n",
      "Epoch 8/24\n",
      "375/375 - 2s - loss: 0.2908 - accuracy: 0.9172 - val_loss: 0.2766 - val_accuracy: 0.9233 - 2s/epoch - 4ms/step\n",
      "Epoch 9/24\n",
      "375/375 - 1s - loss: 0.2870 - accuracy: 0.9187 - val_loss: 0.2739 - val_accuracy: 0.9246 - 1s/epoch - 4ms/step\n",
      "Epoch 10/24\n",
      "375/375 - 2s - loss: 0.2836 - accuracy: 0.9202 - val_loss: 0.2718 - val_accuracy: 0.9247 - 2s/epoch - 5ms/step\n",
      "Epoch 11/24\n",
      "375/375 - 2s - loss: 0.2810 - accuracy: 0.9206 - val_loss: 0.2705 - val_accuracy: 0.9244 - 2s/epoch - 4ms/step\n",
      "Epoch 12/24\n",
      "375/375 - 1s - loss: 0.2791 - accuracy: 0.9208 - val_loss: 0.2692 - val_accuracy: 0.9254 - 1s/epoch - 3ms/step\n",
      "Epoch 13/24\n",
      "375/375 - 1s - loss: 0.2772 - accuracy: 0.9218 - val_loss: 0.2678 - val_accuracy: 0.9268 - 1s/epoch - 4ms/step\n",
      "Epoch 14/24\n",
      "375/375 - 2s - loss: 0.2755 - accuracy: 0.9228 - val_loss: 0.2663 - val_accuracy: 0.9256 - 2s/epoch - 4ms/step\n",
      "Epoch 15/24\n",
      "375/375 - 1s - loss: 0.2741 - accuracy: 0.9228 - val_loss: 0.2659 - val_accuracy: 0.9258 - 1s/epoch - 4ms/step\n",
      "Epoch 16/24\n",
      "375/375 - 2s - loss: 0.2725 - accuracy: 0.9234 - val_loss: 0.2643 - val_accuracy: 0.9265 - 2s/epoch - 4ms/step\n",
      "Epoch 17/24\n",
      "375/375 - 1s - loss: 0.2715 - accuracy: 0.9240 - val_loss: 0.2641 - val_accuracy: 0.9268 - 1s/epoch - 4ms/step\n",
      "Epoch 18/24\n",
      "375/375 - 1s - loss: 0.2704 - accuracy: 0.9242 - val_loss: 0.2639 - val_accuracy: 0.9277 - 1s/epoch - 4ms/step\n",
      "Epoch 19/24\n",
      "375/375 - 2s - loss: 0.2690 - accuracy: 0.9246 - val_loss: 0.2645 - val_accuracy: 0.9261 - 2s/epoch - 6ms/step\n",
      "Epoch 20/24\n",
      "375/375 - 1s - loss: 0.2683 - accuracy: 0.9250 - val_loss: 0.2638 - val_accuracy: 0.9276 - 1s/epoch - 4ms/step\n",
      "Epoch 21/24\n",
      "375/375 - 1s - loss: 0.2674 - accuracy: 0.9254 - val_loss: 0.2632 - val_accuracy: 0.9276 - 1s/epoch - 4ms/step\n",
      "Epoch 22/24\n",
      "375/375 - 1s - loss: 0.2667 - accuracy: 0.9250 - val_loss: 0.2626 - val_accuracy: 0.9282 - 1s/epoch - 4ms/step\n",
      "Epoch 23/24\n",
      "375/375 - 1s - loss: 0.2659 - accuracy: 0.9256 - val_loss: 0.2614 - val_accuracy: 0.9284 - 1s/epoch - 4ms/step\n",
      "Epoch 24/24\n",
      "375/375 - 2s - loss: 0.2650 - accuracy: 0.9267 - val_loss: 0.2626 - val_accuracy: 0.9283 - 2s/epoch - 4ms/step\n"
     ]
    },
    {
     "name": "stderr",
     "output_type": "stream",
     "text": [
      "\u001b[32m[I 2022-05-19 18:23:00,239]\u001b[0m Trial 9 finished with value: 0.9284166693687439 and parameters: {'activation▁choice': 1, 'filters▁choice': 0, 'kernel_size▁choice': 0, 'strides▁choice': 1}. Best is trial 5 with value: 0.9834166765213013.\u001b[0m\n"
     ]
    },
    {
     "name": "stdout",
     "output_type": "stream",
     "text": [
      "CPU times: user 1h 50min 13s, sys: 1h 27min 11s, total: 3h 17min 25s\n",
      "Wall time: 26min 13s\n"
     ]
    }
   ],
   "source": [
    "%%time\n",
    "model.search(\n",
    "    n_trials=10,\n",
    "    target_metric='val_accuracy',\n",
    "    direction=\"maximize\",\n",
    "    x=x_train,\n",
    "    y=y_train,\n",
    "    batch_size=128,\n",
    "    epochs=24,\n",
    "    validation_split=0.2,\n",
    "    verbose=False,\n",
    ")"
   ]
  },
  {
   "cell_type": "markdown",
   "metadata": {},
   "source": [
    "# Step 5: fit with the best hyperparameters\n",
    "The best hyperparameters have been saved in the model. You can call model.fit() to train a model with the best hyperparameters."
   ]
  },
  {
   "cell_type": "code",
   "execution_count": 5,
   "metadata": {},
   "outputs": [
    {
     "name": "stdout",
     "output_type": "stream",
     "text": [
      "Epoch 1/24\n",
      "375/375 [==============================] - 12s 32ms/step - loss: 0.5815 - accuracy: 0.8677 - val_loss: 0.2740 - val_accuracy: 0.9241\n",
      "Epoch 2/24\n",
      "375/375 [==============================] - 11s 30ms/step - loss: 0.2522 - accuracy: 0.9281 - val_loss: 0.2055 - val_accuracy: 0.9444\n",
      "Epoch 3/24\n",
      "375/375 [==============================] - 11s 29ms/step - loss: 0.1892 - accuracy: 0.9464 - val_loss: 0.1622 - val_accuracy: 0.9574\n",
      "Epoch 4/24\n",
      "375/375 [==============================] - 12s 32ms/step - loss: 0.1460 - accuracy: 0.9595 - val_loss: 0.1275 - val_accuracy: 0.9658\n",
      "Epoch 5/24\n",
      "375/375 [==============================] - 11s 29ms/step - loss: 0.1177 - accuracy: 0.9674 - val_loss: 0.1106 - val_accuracy: 0.9700\n",
      "Epoch 6/24\n",
      "375/375 [==============================] - 12s 32ms/step - loss: 0.0994 - accuracy: 0.9734 - val_loss: 0.0979 - val_accuracy: 0.9733\n",
      "Epoch 7/24\n",
      "375/375 [==============================] - 11s 30ms/step - loss: 0.0866 - accuracy: 0.9761 - val_loss: 0.0891 - val_accuracy: 0.9746\n",
      "Epoch 8/24\n",
      "375/375 [==============================] - 13s 35ms/step - loss: 0.0772 - accuracy: 0.9791 - val_loss: 0.0830 - val_accuracy: 0.9772\n",
      "Epoch 9/24\n",
      "375/375 [==============================] - 12s 31ms/step - loss: 0.0704 - accuracy: 0.9811 - val_loss: 0.0772 - val_accuracy: 0.9792\n",
      "Epoch 10/24\n",
      "375/375 [==============================] - 12s 33ms/step - loss: 0.0653 - accuracy: 0.9818 - val_loss: 0.0736 - val_accuracy: 0.9796\n",
      "Epoch 11/24\n",
      "375/375 [==============================] - 11s 30ms/step - loss: 0.0604 - accuracy: 0.9832 - val_loss: 0.0703 - val_accuracy: 0.9799\n",
      "Epoch 12/24\n",
      "375/375 [==============================] - 9s 25ms/step - loss: 0.0566 - accuracy: 0.9846 - val_loss: 0.0694 - val_accuracy: 0.9807\n",
      "Epoch 13/24\n",
      "375/375 [==============================] - 10s 26ms/step - loss: 0.0534 - accuracy: 0.9855 - val_loss: 0.0677 - val_accuracy: 0.9812\n",
      "Epoch 14/24\n",
      "375/375 [==============================] - 11s 31ms/step - loss: 0.0506 - accuracy: 0.9863 - val_loss: 0.0659 - val_accuracy: 0.9810\n",
      "Epoch 15/24\n",
      "375/375 [==============================] - 11s 30ms/step - loss: 0.0482 - accuracy: 0.9866 - val_loss: 0.0642 - val_accuracy: 0.9814\n",
      "Epoch 16/24\n",
      "375/375 [==============================] - 12s 32ms/step - loss: 0.0459 - accuracy: 0.9875 - val_loss: 0.0650 - val_accuracy: 0.9819\n",
      "Epoch 17/24\n",
      "375/375 [==============================] - 12s 32ms/step - loss: 0.0437 - accuracy: 0.9880 - val_loss: 0.0638 - val_accuracy: 0.9818\n",
      "Epoch 18/24\n",
      "375/375 [==============================] - 11s 29ms/step - loss: 0.0419 - accuracy: 0.9885 - val_loss: 0.0633 - val_accuracy: 0.9827\n",
      "Epoch 19/24\n",
      "375/375 [==============================] - 11s 31ms/step - loss: 0.0403 - accuracy: 0.9890 - val_loss: 0.0614 - val_accuracy: 0.9827\n",
      "Epoch 20/24\n",
      "375/375 [==============================] - 11s 30ms/step - loss: 0.0386 - accuracy: 0.9894 - val_loss: 0.0610 - val_accuracy: 0.9826\n",
      "Epoch 21/24\n",
      "375/375 [==============================] - 14s 37ms/step - loss: 0.0371 - accuracy: 0.9899 - val_loss: 0.0603 - val_accuracy: 0.9825\n",
      "Epoch 22/24\n",
      "375/375 [==============================] - 10s 26ms/step - loss: 0.0356 - accuracy: 0.9906 - val_loss: 0.0619 - val_accuracy: 0.9825\n",
      "Epoch 23/24\n",
      "375/375 [==============================] - 11s 28ms/step - loss: 0.0342 - accuracy: 0.9905 - val_loss: 0.0609 - val_accuracy: 0.9825\n",
      "Epoch 24/24\n",
      "375/375 [==============================] - 10s 26ms/step - loss: 0.0332 - accuracy: 0.9912 - val_loss: 0.0601 - val_accuracy: 0.9828\n",
      "313/313 - 2s - loss: 0.0487 - accuracy: 0.9846 - 2s/epoch - 7ms/step\n",
      "Test loss: 0.04873378202319145\n",
      "Test accuracy: 0.9846000075340271\n"
     ]
    }
   ],
   "source": [
    "history = model.fit(x_train, y_train,\n",
    "                    batch_size=128, epochs=24, validation_split=0.2)\n",
    "\n",
    "test_scores = model.evaluate(x_test, y_test, verbose=2)\n",
    "print(\"Test loss:\", test_scores[0])\n",
    "print(\"Test accuracy:\", test_scores[1])"
   ]
  },
  {
   "cell_type": "markdown",
   "metadata": {},
   "source": [
    "Check out the summary of the model. The model has already been built with the best hyperparameters found by nano hpo."
   ]
  },
  {
   "cell_type": "code",
   "execution_count": 6,
   "metadata": {},
   "outputs": [
    {
     "name": "stdout",
     "output_type": "stream",
     "text": [
      "Model: \"sequential_1\"\n",
      "_________________________________________________________________\n",
      " Layer (type)                Output Shape              Param #   \n",
      "=================================================================\n",
      " conv2d_1 (Conv2D)           (None, 24, 24, 64)        1664      \n",
      "                                                                 \n",
      " flatten_1 (Flatten)         (None, 36864)             0         \n",
      "                                                                 \n",
      " dense_1 (Dense)             (None, 10)                368650    \n",
      "                                                                 \n",
      "=================================================================\n",
      "Total params: 370,314\n",
      "Trainable params: 370,314\n",
      "Non-trainable params: 0\n",
      "_________________________________________________________________\n",
      "None\n"
     ]
    }
   ],
   "source": [
    "print(model.summary())"
   ]
  },
  {
   "cell_type": "code",
   "execution_count": null,
   "metadata": {},
   "outputs": [],
   "source": []
  }
 ],
 "metadata": {
  "kernelspec": {
   "display_name": "Python 3 (ipykernel)",
   "language": "python",
   "name": "python3"
  },
  "language_info": {
   "codemirror_mode": {
    "name": "ipython",
    "version": 3
   },
   "file_extension": ".py",
   "mimetype": "text/x-python",
   "name": "python",
   "nbconvert_exporter": "python",
   "pygments_lexer": "ipython3",
   "version": "3.7.13"
  }
 },
 "nbformat": 4,
 "nbformat_minor": 2
}
