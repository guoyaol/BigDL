{
 "cells": [
  {
   "cell_type": "markdown",
   "metadata": {},
   "source": [
    "**In this guide we will demonstrate how to use Nano AutoML to auto tune an machine learning model and handle the whole model development process easily.**"
   ]
  },
  {
   "cell_type": "markdown",
   "metadata": {},
   "source": [
    "# Introduction\n",
    "Nano provides hpo as an solution for fast and high-performance hyperparameter tuning. Users can import hano hpo following the standard tensorflow API without changing their own code. By setting the search space and running model.search(), the model will contain the best hyperparameters.\n",
    "\n",
    "Nano hpo supports sequential, fuctional and custom keras API.\n"
   ]
  },
  {
   "cell_type": "markdown",
   "metadata": {},
   "source": [
    "# Step0: Prepare Environment\n",
    "We recommend using conda to prepare the environment.\n",
    "conda create -n my_env python=3.7\n",
    "\n",
    "conda activate my_env\n",
    "\n",
    "pip install --pre --upgrade bigdl"
   ]
  },
  {
   "cell_type": "markdown",
   "metadata": {},
   "source": [
    "# Step1: Init Nano AutoML\n",
    "Let's start out by importing Nano AutoML and enable its tensorflow API globally by automl.hpo_config.enable_hpo_tf().\n",
    "\n",
    "After importing, we will load MNIST as our data."
   ]
  },
  {
   "cell_type": "code",
   "execution_count": 1,
   "metadata": {},
   "outputs": [
    {
     "name": "stderr",
     "output_type": "stream",
     "text": [
      "../../src/bigdl/nano/tf/__init__.py:24: UserWarning: NANO_TF_INTER_OP not found the in os.environ, please run `source bigdl-nano-init`\n",
      "  warnings.warn(\"NANO_TF_INTER_OP not found the in os.environ, \"\n",
      "../../src/bigdl/nano/tf/__init__.py:30: UserWarning: OMP_NUM_THREADS not found the in os.environ, please run `source bigdl-nano-init`\n",
      "  warnings.warn(\"OMP_NUM_THREADS not found the in os.environ, \"\n"
     ]
    }
   ],
   "source": [
    "import bigdl.nano.automl as automl\n",
    "automl.hpo_config.enable_hpo_tf()\n",
    "\n",
    "from bigdl.nano.tf.keras.layers import Dense\n",
    "from bigdl.nano.tf.keras import Input\n",
    "from bigdl.nano.automl.tf.keras import Model\n",
    "import bigdl.nano.automl.hpo.space as space\n",
    "\n",
    "\n",
    "import tensorflow as tf\n",
    "from tensorflow import keras\n",
    "\n",
    "(x_train, y_train), (x_test, y_test) = keras.datasets.mnist.load_data()\n",
    "x_train = x_train.reshape(60000, 784).astype(\"float32\") / 255\n",
    "x_test = x_test.reshape(10000, 784).astype(\"float32\") / 255"
   ]
  },
  {
   "cell_type": "markdown",
   "metadata": {},
   "source": [
    "# Step2: Set search space\n",
    "We now create our model function. \n",
    "\n",
    "Whenever you want to search a hyperparameter, you can simply replace it with a space and set your own searching space \n"
   ]
  },
  {
   "cell_type": "code",
   "execution_count": 2,
   "metadata": {},
   "outputs": [
    {
     "name": "stderr",
     "output_type": "stream",
     "text": [
      "2022-05-19 16:55:19.758434: I tensorflow/core/platform/cpu_feature_guard.cc:151] This TensorFlow binary is optimized with oneAPI Deep Neural Network Library (oneDNN) to use the following CPU instructions in performance-critical operations:  AVX2 FMA\n",
      "To enable them in other operations, rebuild TensorFlow with the appropriate compiler flags.\n",
      "2022-05-19 16:55:19.759291: I tensorflow/core/common_runtime/process_util.cc:146] Creating new thread pool with default inter op setting: \n"
     ]
    }
   ],
   "source": [
    "inputs = Input(shape=(784,))\n",
    "x = Dense(units=space.Categorical(8,16,prefix='dense_1'), activation=\"relu\")(inputs)\n",
    "x = Dense(units=space.Categorical(32,64,prefix='dense_2'), activation=\"relu\")(x)\n",
    "outputs = Dense(units=10)(x)\n",
    "\n",
    "model = Model(inputs=inputs, outputs=outputs, name=\"mnist_model\")\n",
    "\n",
    "model.compile(\n",
    "    loss=keras.losses.SparseCategoricalCrossentropy(from_logits=True),\n",
    "    optimizer=keras.optimizers.RMSprop(),\n",
    "    metrics=[\"accuracy\"],\n",
    ")"
   ]
  },
  {
   "cell_type": "markdown",
   "metadata": {},
   "source": [
    "# Step3: Run hyperparameter search\n",
    "Apply hyperparameter searching by calling model.search(), and best hyperparameters will be saved in the model.\n",
    "\n",
    "You can specify the number of trial, each trial will use a set of hyperparameters automatiacally suggusted by nano.hpo. \n",
    "\n",
    "You can set your target metric and whehter you want to maximize you minimize it."
   ]
  },
  {
   "cell_type": "code",
   "execution_count": 3,
   "metadata": {},
   "outputs": [
    {
     "name": "stderr",
     "output_type": "stream",
     "text": [
      "\u001b[32m[I 2022-05-19 16:55:19,898]\u001b[0m A new study created in memory with name: no-name-a5486f4b-d4ee-4821-8327-bbab12f6f57a\u001b[0m\n"
     ]
    },
    {
     "name": "stdout",
     "output_type": "stream",
     "text": [
      "Starting a new tuning\n",
      "Epoch 1/24\n",
      "375/375 - 2s - loss: 0.8326 - accuracy: 0.7587 - val_loss: 0.3935 - val_accuracy: 0.8863 - 2s/epoch - 4ms/step\n",
      "Epoch 2/24\n",
      "375/375 - 1s - loss: 0.3641 - accuracy: 0.8938 - val_loss: 0.3080 - val_accuracy: 0.9105 - 1s/epoch - 4ms/step\n",
      "Epoch 3/24\n",
      "375/375 - 1s - loss: 0.3070 - accuracy: 0.9110 - val_loss: 0.2860 - val_accuracy: 0.9158 - 890ms/epoch - 2ms/step\n",
      "Epoch 4/24\n",
      "375/375 - 1s - loss: 0.2817 - accuracy: 0.9192 - val_loss: 0.2582 - val_accuracy: 0.9239 - 860ms/epoch - 2ms/step\n",
      "Epoch 5/24\n",
      "375/375 - 1s - loss: 0.2640 - accuracy: 0.9241 - val_loss: 0.2533 - val_accuracy: 0.9267 - 873ms/epoch - 2ms/step\n",
      "Epoch 6/24\n",
      "375/375 - 1s - loss: 0.2523 - accuracy: 0.9283 - val_loss: 0.2438 - val_accuracy: 0.9312 - 825ms/epoch - 2ms/step\n",
      "Epoch 7/24\n",
      "375/375 - 1s - loss: 0.2426 - accuracy: 0.9303 - val_loss: 0.2270 - val_accuracy: 0.9342 - 821ms/epoch - 2ms/step\n",
      "Epoch 8/24\n",
      "375/375 - 1s - loss: 0.2351 - accuracy: 0.9319 - val_loss: 0.2241 - val_accuracy: 0.9358 - 892ms/epoch - 2ms/step\n",
      "Epoch 9/24\n",
      "375/375 - 1s - loss: 0.2279 - accuracy: 0.9341 - val_loss: 0.2214 - val_accuracy: 0.9362 - 818ms/epoch - 2ms/step\n",
      "Epoch 10/24\n",
      "375/375 - 1s - loss: 0.2208 - accuracy: 0.9363 - val_loss: 0.2167 - val_accuracy: 0.9389 - 945ms/epoch - 3ms/step\n",
      "Epoch 11/24\n",
      "375/375 - 1s - loss: 0.2160 - accuracy: 0.9376 - val_loss: 0.2145 - val_accuracy: 0.9392 - 750ms/epoch - 2ms/step\n",
      "Epoch 12/24\n",
      "375/375 - 1s - loss: 0.2107 - accuracy: 0.9390 - val_loss: 0.2153 - val_accuracy: 0.9383 - 763ms/epoch - 2ms/step\n",
      "Epoch 13/24\n",
      "375/375 - 1s - loss: 0.2065 - accuracy: 0.9396 - val_loss: 0.2094 - val_accuracy: 0.9401 - 1s/epoch - 3ms/step\n",
      "Epoch 14/24\n",
      "375/375 - 1s - loss: 0.2018 - accuracy: 0.9409 - val_loss: 0.2110 - val_accuracy: 0.9372 - 949ms/epoch - 3ms/step\n",
      "Epoch 15/24\n",
      "375/375 - 1s - loss: 0.1990 - accuracy: 0.9419 - val_loss: 0.2071 - val_accuracy: 0.9398 - 948ms/epoch - 3ms/step\n",
      "Epoch 16/24\n",
      "375/375 - 1s - loss: 0.1959 - accuracy: 0.9421 - val_loss: 0.2099 - val_accuracy: 0.9411 - 925ms/epoch - 2ms/step\n",
      "Epoch 17/24\n",
      "375/375 - 1s - loss: 0.1933 - accuracy: 0.9437 - val_loss: 0.2011 - val_accuracy: 0.9421 - 908ms/epoch - 2ms/step\n",
      "Epoch 18/24\n",
      "375/375 - 1s - loss: 0.1904 - accuracy: 0.9446 - val_loss: 0.2040 - val_accuracy: 0.9398 - 1s/epoch - 3ms/step\n",
      "Epoch 19/24\n",
      "375/375 - 1s - loss: 0.1878 - accuracy: 0.9442 - val_loss: 0.1988 - val_accuracy: 0.9429 - 974ms/epoch - 3ms/step\n",
      "Epoch 20/24\n",
      "375/375 - 1s - loss: 0.1863 - accuracy: 0.9451 - val_loss: 0.1991 - val_accuracy: 0.9413 - 809ms/epoch - 2ms/step\n",
      "Epoch 21/24\n",
      "375/375 - 1s - loss: 0.1836 - accuracy: 0.9462 - val_loss: 0.2018 - val_accuracy: 0.9417 - 1s/epoch - 3ms/step\n",
      "Epoch 22/24\n",
      "375/375 - 2s - loss: 0.1819 - accuracy: 0.9463 - val_loss: 0.1995 - val_accuracy: 0.9427 - 2s/epoch - 4ms/step\n",
      "Epoch 23/24\n",
      "375/375 - 1s - loss: 0.1805 - accuracy: 0.9469 - val_loss: 0.1996 - val_accuracy: 0.9419 - 1s/epoch - 3ms/step\n",
      "Epoch 24/24\n",
      "375/375 - 1s - loss: 0.1784 - accuracy: 0.9470 - val_loss: 0.2004 - val_accuracy: 0.9430 - 1s/epoch - 3ms/step\n"
     ]
    },
    {
     "name": "stderr",
     "output_type": "stream",
     "text": [
      "\u001b[32m[I 2022-05-19 16:55:44,080]\u001b[0m Trial 0 finished with value: 0.9430000185966492 and parameters: {'units▁choice': 0}. Best is trial 0 with value: 0.9430000185966492.\u001b[0m\n"
     ]
    },
    {
     "name": "stdout",
     "output_type": "stream",
     "text": [
      "Epoch 1/24\n",
      "375/375 - 2s - loss: 0.5912 - accuracy: 0.8408 - val_loss: 0.2848 - val_accuracy: 0.9187 - 2s/epoch - 5ms/step\n",
      "Epoch 2/24\n",
      "375/375 - 1s - loss: 0.2761 - accuracy: 0.9193 - val_loss: 0.2459 - val_accuracy: 0.9285 - 1s/epoch - 3ms/step\n",
      "Epoch 3/24\n",
      "375/375 - 1s - loss: 0.2329 - accuracy: 0.9319 - val_loss: 0.2117 - val_accuracy: 0.9387 - 1s/epoch - 3ms/step\n",
      "Epoch 4/24\n",
      "375/375 - 1s - loss: 0.2054 - accuracy: 0.9384 - val_loss: 0.1972 - val_accuracy: 0.9428 - 1s/epoch - 3ms/step\n",
      "Epoch 5/24\n",
      "375/375 - 1s - loss: 0.1861 - accuracy: 0.9449 - val_loss: 0.1817 - val_accuracy: 0.9466 - 1s/epoch - 3ms/step\n",
      "Epoch 6/24\n",
      "375/375 - 1s - loss: 0.1703 - accuracy: 0.9494 - val_loss: 0.1803 - val_accuracy: 0.9465 - 1s/epoch - 3ms/step\n",
      "Epoch 7/24\n",
      "375/375 - 1s - loss: 0.1594 - accuracy: 0.9521 - val_loss: 0.1654 - val_accuracy: 0.9526 - 1s/epoch - 3ms/step\n",
      "Epoch 8/24\n",
      "375/375 - 1s - loss: 0.1488 - accuracy: 0.9550 - val_loss: 0.1676 - val_accuracy: 0.9491 - 1s/epoch - 3ms/step\n",
      "Epoch 9/24\n",
      "375/375 - 1s - loss: 0.1408 - accuracy: 0.9584 - val_loss: 0.1590 - val_accuracy: 0.9530 - 967ms/epoch - 3ms/step\n",
      "Epoch 10/24\n",
      "375/375 - 1s - loss: 0.1328 - accuracy: 0.9589 - val_loss: 0.1530 - val_accuracy: 0.9542 - 1s/epoch - 3ms/step\n",
      "Epoch 11/24\n",
      "375/375 - 1s - loss: 0.1268 - accuracy: 0.9606 - val_loss: 0.1574 - val_accuracy: 0.9528 - 1s/epoch - 3ms/step\n",
      "Epoch 12/24\n",
      "375/375 - 1s - loss: 0.1206 - accuracy: 0.9629 - val_loss: 0.1511 - val_accuracy: 0.9553 - 850ms/epoch - 2ms/step\n",
      "Epoch 13/24\n",
      "375/375 - 1s - loss: 0.1154 - accuracy: 0.9645 - val_loss: 0.1471 - val_accuracy: 0.9567 - 1s/epoch - 4ms/step\n",
      "Epoch 14/24\n",
      "375/375 - 1s - loss: 0.1113 - accuracy: 0.9667 - val_loss: 0.1516 - val_accuracy: 0.9556 - 1s/epoch - 3ms/step\n",
      "Epoch 15/24\n",
      "375/375 - 1s - loss: 0.1070 - accuracy: 0.9671 - val_loss: 0.1458 - val_accuracy: 0.9567 - 1s/epoch - 3ms/step\n",
      "Epoch 16/24\n",
      "375/375 - 1s - loss: 0.1025 - accuracy: 0.9681 - val_loss: 0.1447 - val_accuracy: 0.9573 - 1s/epoch - 3ms/step\n",
      "Epoch 17/24\n",
      "375/375 - 1s - loss: 0.1002 - accuracy: 0.9696 - val_loss: 0.1452 - val_accuracy: 0.9580 - 1s/epoch - 3ms/step\n",
      "Epoch 18/24\n",
      "375/375 - 1s - loss: 0.0965 - accuracy: 0.9704 - val_loss: 0.1493 - val_accuracy: 0.9572 - 1s/epoch - 3ms/step\n",
      "Epoch 19/24\n",
      "375/375 - 1s - loss: 0.0937 - accuracy: 0.9716 - val_loss: 0.1402 - val_accuracy: 0.9589 - 1s/epoch - 3ms/step\n",
      "Epoch 20/24\n",
      "375/375 - 1s - loss: 0.0913 - accuracy: 0.9727 - val_loss: 0.1438 - val_accuracy: 0.9572 - 1s/epoch - 3ms/step\n",
      "Epoch 21/24\n",
      "375/375 - 1s - loss: 0.0884 - accuracy: 0.9729 - val_loss: 0.1468 - val_accuracy: 0.9597 - 985ms/epoch - 3ms/step\n",
      "Epoch 22/24\n",
      "375/375 - 1s - loss: 0.0863 - accuracy: 0.9734 - val_loss: 0.1435 - val_accuracy: 0.9596 - 842ms/epoch - 2ms/step\n",
      "Epoch 23/24\n",
      "375/375 - 1s - loss: 0.0844 - accuracy: 0.9747 - val_loss: 0.1425 - val_accuracy: 0.9579 - 921ms/epoch - 2ms/step\n",
      "Epoch 24/24\n",
      "375/375 - 1s - loss: 0.0822 - accuracy: 0.9753 - val_loss: 0.1486 - val_accuracy: 0.9590 - 939ms/epoch - 3ms/step\n"
     ]
    },
    {
     "name": "stderr",
     "output_type": "stream",
     "text": [
      "\u001b[32m[I 2022-05-19 16:56:11,459]\u001b[0m Trial 1 finished with value: 0.9597499966621399 and parameters: {'units▁choice': 1}. Best is trial 1 with value: 0.9597499966621399.\u001b[0m\n"
     ]
    },
    {
     "name": "stdout",
     "output_type": "stream",
     "text": [
      "Epoch 1/24\n",
      "375/375 - 2s - loss: 0.5806 - accuracy: 0.8405 - val_loss: 0.3009 - val_accuracy: 0.9128 - 2s/epoch - 6ms/step\n",
      "Epoch 2/24\n",
      "375/375 - 2s - loss: 0.2873 - accuracy: 0.9158 - val_loss: 0.2498 - val_accuracy: 0.9277 - 2s/epoch - 5ms/step\n",
      "Epoch 3/24\n",
      "375/375 - 1s - loss: 0.2454 - accuracy: 0.9298 - val_loss: 0.2369 - val_accuracy: 0.9291 - 1s/epoch - 3ms/step\n",
      "Epoch 4/24\n",
      "375/375 - 1s - loss: 0.2180 - accuracy: 0.9370 - val_loss: 0.2059 - val_accuracy: 0.9399 - 818ms/epoch - 2ms/step\n",
      "Epoch 5/24\n",
      "375/375 - 1s - loss: 0.1964 - accuracy: 0.9431 - val_loss: 0.1929 - val_accuracy: 0.9448 - 868ms/epoch - 2ms/step\n",
      "Epoch 6/24\n",
      "375/375 - 1s - loss: 0.1801 - accuracy: 0.9470 - val_loss: 0.1839 - val_accuracy: 0.9470 - 921ms/epoch - 2ms/step\n",
      "Epoch 7/24\n",
      "375/375 - 1s - loss: 0.1671 - accuracy: 0.9513 - val_loss: 0.1859 - val_accuracy: 0.9454 - 1s/epoch - 3ms/step\n",
      "Epoch 8/24\n",
      "375/375 - 1s - loss: 0.1557 - accuracy: 0.9548 - val_loss: 0.1627 - val_accuracy: 0.9530 - 877ms/epoch - 2ms/step\n",
      "Epoch 9/24\n",
      "375/375 - 1s - loss: 0.1463 - accuracy: 0.9568 - val_loss: 0.1592 - val_accuracy: 0.9538 - 877ms/epoch - 2ms/step\n",
      "Epoch 10/24\n",
      "375/375 - 1s - loss: 0.1381 - accuracy: 0.9593 - val_loss: 0.1617 - val_accuracy: 0.9537 - 808ms/epoch - 2ms/step\n",
      "Epoch 11/24\n",
      "375/375 - 1s - loss: 0.1316 - accuracy: 0.9609 - val_loss: 0.1513 - val_accuracy: 0.9556 - 892ms/epoch - 2ms/step\n",
      "Epoch 12/24\n",
      "375/375 - 1s - loss: 0.1254 - accuracy: 0.9629 - val_loss: 0.1512 - val_accuracy: 0.9546 - 945ms/epoch - 3ms/step\n",
      "Epoch 13/24\n",
      "375/375 - 1s - loss: 0.1207 - accuracy: 0.9643 - val_loss: 0.1532 - val_accuracy: 0.9557 - 929ms/epoch - 2ms/step\n",
      "Epoch 14/24\n",
      "375/375 - 1s - loss: 0.1158 - accuracy: 0.9660 - val_loss: 0.1420 - val_accuracy: 0.9582 - 1s/epoch - 3ms/step\n",
      "Epoch 15/24\n",
      "375/375 - 1s - loss: 0.1112 - accuracy: 0.9669 - val_loss: 0.1395 - val_accuracy: 0.9602 - 955ms/epoch - 3ms/step\n",
      "Epoch 16/24\n",
      "375/375 - 1s - loss: 0.1081 - accuracy: 0.9681 - val_loss: 0.1411 - val_accuracy: 0.9593 - 1s/epoch - 3ms/step\n",
      "Epoch 17/24\n",
      "375/375 - 1s - loss: 0.1034 - accuracy: 0.9698 - val_loss: 0.1398 - val_accuracy: 0.9603 - 1s/epoch - 3ms/step\n",
      "Epoch 18/24\n",
      "375/375 - 1s - loss: 0.1012 - accuracy: 0.9693 - val_loss: 0.1346 - val_accuracy: 0.9610 - 1s/epoch - 3ms/step\n",
      "Epoch 19/24\n",
      "375/375 - 1s - loss: 0.0979 - accuracy: 0.9702 - val_loss: 0.1460 - val_accuracy: 0.9578 - 1s/epoch - 3ms/step\n",
      "Epoch 20/24\n",
      "375/375 - 1s - loss: 0.0955 - accuracy: 0.9716 - val_loss: 0.1379 - val_accuracy: 0.9603 - 1s/epoch - 3ms/step\n",
      "Epoch 21/24\n",
      "375/375 - 2s - loss: 0.0929 - accuracy: 0.9718 - val_loss: 0.1426 - val_accuracy: 0.9606 - 2s/epoch - 4ms/step\n",
      "Epoch 22/24\n",
      "375/375 - 1s - loss: 0.0903 - accuracy: 0.9728 - val_loss: 0.1395 - val_accuracy: 0.9611 - 1s/epoch - 3ms/step\n",
      "Epoch 23/24\n",
      "375/375 - 3s - loss: 0.0881 - accuracy: 0.9732 - val_loss: 0.1444 - val_accuracy: 0.9598 - 3s/epoch - 9ms/step\n",
      "Epoch 24/24\n",
      "375/375 - 5s - loss: 0.0854 - accuracy: 0.9744 - val_loss: 0.1405 - val_accuracy: 0.9598 - 5s/epoch - 14ms/step\n"
     ]
    },
    {
     "name": "stderr",
     "output_type": "stream",
     "text": [
      "\u001b[32m[I 2022-05-19 16:56:44,627]\u001b[0m Trial 2 finished with value: 0.9610833525657654 and parameters: {'units▁choice': 1}. Best is trial 2 with value: 0.9610833525657654.\u001b[0m\n"
     ]
    },
    {
     "name": "stdout",
     "output_type": "stream",
     "text": [
      "Epoch 1/24\n",
      "375/375 - 3s - loss: 0.5797 - accuracy: 0.8454 - val_loss: 0.2912 - val_accuracy: 0.9173 - 3s/epoch - 9ms/step\n",
      "Epoch 2/24\n",
      "375/375 - 1s - loss: 0.2844 - accuracy: 0.9172 - val_loss: 0.2598 - val_accuracy: 0.9227 - 975ms/epoch - 3ms/step\n",
      "Epoch 3/24\n",
      "375/375 - 1s - loss: 0.2368 - accuracy: 0.9317 - val_loss: 0.2124 - val_accuracy: 0.9380 - 906ms/epoch - 2ms/step\n",
      "Epoch 4/24\n",
      "375/375 - 1s - loss: 0.2075 - accuracy: 0.9397 - val_loss: 0.2025 - val_accuracy: 0.9398 - 1s/epoch - 3ms/step\n",
      "Epoch 5/24\n",
      "375/375 - 2s - loss: 0.1873 - accuracy: 0.9445 - val_loss: 0.1874 - val_accuracy: 0.9449 - 2s/epoch - 5ms/step\n",
      "Epoch 6/24\n",
      "375/375 - 1s - loss: 0.1727 - accuracy: 0.9495 - val_loss: 0.1770 - val_accuracy: 0.9494 - 1s/epoch - 4ms/step\n",
      "Epoch 7/24\n",
      "375/375 - 1s - loss: 0.1605 - accuracy: 0.9521 - val_loss: 0.1651 - val_accuracy: 0.9523 - 1s/epoch - 4ms/step\n",
      "Epoch 8/24\n",
      "375/375 - 1s - loss: 0.1498 - accuracy: 0.9555 - val_loss: 0.1592 - val_accuracy: 0.9550 - 888ms/epoch - 2ms/step\n",
      "Epoch 9/24\n",
      "375/375 - 1s - loss: 0.1409 - accuracy: 0.9581 - val_loss: 0.1551 - val_accuracy: 0.9556 - 1s/epoch - 3ms/step\n",
      "Epoch 10/24\n",
      "375/375 - 1s - loss: 0.1331 - accuracy: 0.9606 - val_loss: 0.1510 - val_accuracy: 0.9563 - 1s/epoch - 3ms/step\n",
      "Epoch 11/24\n",
      "375/375 - 1s - loss: 0.1266 - accuracy: 0.9625 - val_loss: 0.1536 - val_accuracy: 0.9572 - 1s/epoch - 3ms/step\n",
      "Epoch 12/24\n",
      "375/375 - 1s - loss: 0.1204 - accuracy: 0.9641 - val_loss: 0.1433 - val_accuracy: 0.9593 - 1s/epoch - 4ms/step\n",
      "Epoch 13/24\n",
      "375/375 - 1s - loss: 0.1151 - accuracy: 0.9653 - val_loss: 0.1487 - val_accuracy: 0.9592 - 1s/epoch - 4ms/step\n",
      "Epoch 14/24\n",
      "375/375 - 1s - loss: 0.1118 - accuracy: 0.9669 - val_loss: 0.1622 - val_accuracy: 0.9515 - 860ms/epoch - 2ms/step\n",
      "Epoch 15/24\n",
      "375/375 - 1s - loss: 0.1076 - accuracy: 0.9672 - val_loss: 0.1451 - val_accuracy: 0.9582 - 1s/epoch - 3ms/step\n",
      "Epoch 16/24\n",
      "375/375 - 1s - loss: 0.1033 - accuracy: 0.9690 - val_loss: 0.1424 - val_accuracy: 0.9595 - 820ms/epoch - 2ms/step\n",
      "Epoch 17/24\n",
      "375/375 - 1s - loss: 0.1010 - accuracy: 0.9695 - val_loss: 0.1456 - val_accuracy: 0.9587 - 960ms/epoch - 3ms/step\n",
      "Epoch 18/24\n",
      "375/375 - 1s - loss: 0.0970 - accuracy: 0.9712 - val_loss: 0.1488 - val_accuracy: 0.9598 - 1s/epoch - 3ms/step\n",
      "Epoch 19/24\n",
      "375/375 - 1s - loss: 0.0947 - accuracy: 0.9715 - val_loss: 0.1446 - val_accuracy: 0.9600 - 978ms/epoch - 3ms/step\n",
      "Epoch 20/24\n",
      "375/375 - 1s - loss: 0.0918 - accuracy: 0.9722 - val_loss: 0.1484 - val_accuracy: 0.9581 - 914ms/epoch - 2ms/step\n",
      "Epoch 21/24\n",
      "375/375 - 1s - loss: 0.0901 - accuracy: 0.9731 - val_loss: 0.1458 - val_accuracy: 0.9600 - 1s/epoch - 3ms/step\n",
      "Epoch 22/24\n",
      "375/375 - 1s - loss: 0.0871 - accuracy: 0.9735 - val_loss: 0.1502 - val_accuracy: 0.9586 - 1s/epoch - 3ms/step\n",
      "Epoch 23/24\n",
      "375/375 - 1s - loss: 0.0845 - accuracy: 0.9749 - val_loss: 0.1476 - val_accuracy: 0.9597 - 1s/epoch - 3ms/step\n",
      "Epoch 24/24\n",
      "375/375 - 1s - loss: 0.0834 - accuracy: 0.9745 - val_loss: 0.1468 - val_accuracy: 0.9605 - 1s/epoch - 3ms/step\n"
     ]
    },
    {
     "name": "stderr",
     "output_type": "stream",
     "text": [
      "\u001b[32m[I 2022-05-19 16:57:14,031]\u001b[0m Trial 3 finished with value: 0.9605000019073486 and parameters: {'units▁choice': 1}. Best is trial 2 with value: 0.9610833525657654.\u001b[0m\n"
     ]
    },
    {
     "name": "stdout",
     "output_type": "stream",
     "text": [
      "Epoch 1/24\n",
      "375/375 - 2s - loss: 0.7677 - accuracy: 0.7797 - val_loss: 0.3537 - val_accuracy: 0.8987 - 2s/epoch - 4ms/step\n",
      "Epoch 2/24\n",
      "375/375 - 1s - loss: 0.3525 - accuracy: 0.8978 - val_loss: 0.3075 - val_accuracy: 0.9078 - 1s/epoch - 4ms/step\n",
      "Epoch 3/24\n",
      "375/375 - 1s - loss: 0.3090 - accuracy: 0.9094 - val_loss: 0.2791 - val_accuracy: 0.9162 - 1s/epoch - 3ms/step\n",
      "Epoch 4/24\n",
      "375/375 - 1s - loss: 0.2845 - accuracy: 0.9172 - val_loss: 0.2644 - val_accuracy: 0.9231 - 1s/epoch - 3ms/step\n",
      "Epoch 5/24\n",
      "375/375 - 1s - loss: 0.2689 - accuracy: 0.9217 - val_loss: 0.2580 - val_accuracy: 0.9250 - 1s/epoch - 3ms/step\n",
      "Epoch 6/24\n",
      "375/375 - 1s - loss: 0.2580 - accuracy: 0.9254 - val_loss: 0.2520 - val_accuracy: 0.9273 - 1s/epoch - 3ms/step\n",
      "Epoch 7/24\n",
      "375/375 - 1s - loss: 0.2493 - accuracy: 0.9276 - val_loss: 0.2388 - val_accuracy: 0.9315 - 1s/epoch - 3ms/step\n",
      "Epoch 8/24\n",
      "375/375 - 2s - loss: 0.2421 - accuracy: 0.9294 - val_loss: 0.2418 - val_accuracy: 0.9311 - 2s/epoch - 4ms/step\n",
      "Epoch 9/24\n",
      "375/375 - 1s - loss: 0.2360 - accuracy: 0.9315 - val_loss: 0.2354 - val_accuracy: 0.9324 - 1s/epoch - 3ms/step\n",
      "Epoch 10/24\n",
      "375/375 - 1s - loss: 0.2320 - accuracy: 0.9326 - val_loss: 0.2297 - val_accuracy: 0.9351 - 1s/epoch - 4ms/step\n",
      "Epoch 11/24\n",
      "375/375 - 1s - loss: 0.2267 - accuracy: 0.9340 - val_loss: 0.2277 - val_accuracy: 0.9360 - 1s/epoch - 3ms/step\n",
      "Epoch 12/24\n",
      "375/375 - 1s - loss: 0.2224 - accuracy: 0.9354 - val_loss: 0.2290 - val_accuracy: 0.9348 - 1s/epoch - 3ms/step\n",
      "Epoch 13/24\n",
      "375/375 - 1s - loss: 0.2186 - accuracy: 0.9363 - val_loss: 0.2270 - val_accuracy: 0.9335 - 805ms/epoch - 2ms/step\n",
      "Epoch 14/24\n",
      "375/375 - 1s - loss: 0.2147 - accuracy: 0.9380 - val_loss: 0.2236 - val_accuracy: 0.9343 - 861ms/epoch - 2ms/step\n",
      "Epoch 15/24\n",
      "375/375 - 1s - loss: 0.2113 - accuracy: 0.9383 - val_loss: 0.2230 - val_accuracy: 0.9354 - 888ms/epoch - 2ms/step\n",
      "Epoch 16/24\n",
      "375/375 - 1s - loss: 0.2083 - accuracy: 0.9388 - val_loss: 0.2223 - val_accuracy: 0.9358 - 971ms/epoch - 3ms/step\n",
      "Epoch 17/24\n",
      "375/375 - 1s - loss: 0.2053 - accuracy: 0.9396 - val_loss: 0.2230 - val_accuracy: 0.9363 - 995ms/epoch - 3ms/step\n",
      "Epoch 18/24\n",
      "375/375 - 1s - loss: 0.2028 - accuracy: 0.9404 - val_loss: 0.2202 - val_accuracy: 0.9387 - 968ms/epoch - 3ms/step\n",
      "Epoch 19/24\n",
      "375/375 - 1s - loss: 0.2007 - accuracy: 0.9408 - val_loss: 0.2166 - val_accuracy: 0.9385 - 925ms/epoch - 2ms/step\n",
      "Epoch 20/24\n",
      "375/375 - 1s - loss: 0.1982 - accuracy: 0.9418 - val_loss: 0.2169 - val_accuracy: 0.9383 - 791ms/epoch - 2ms/step\n",
      "Epoch 21/24\n",
      "375/375 - 1s - loss: 0.1960 - accuracy: 0.9427 - val_loss: 0.2149 - val_accuracy: 0.9392 - 822ms/epoch - 2ms/step\n",
      "Epoch 22/24\n",
      "375/375 - 1s - loss: 0.1941 - accuracy: 0.9429 - val_loss: 0.2153 - val_accuracy: 0.9381 - 876ms/epoch - 2ms/step\n",
      "Epoch 23/24\n",
      "375/375 - 1s - loss: 0.1925 - accuracy: 0.9437 - val_loss: 0.2161 - val_accuracy: 0.9386 - 891ms/epoch - 2ms/step\n",
      "Epoch 24/24\n",
      "375/375 - 1s - loss: 0.1899 - accuracy: 0.9442 - val_loss: 0.2206 - val_accuracy: 0.9361 - 797ms/epoch - 2ms/step\n"
     ]
    },
    {
     "name": "stderr",
     "output_type": "stream",
     "text": [
      "\u001b[32m[I 2022-05-19 16:57:39,883]\u001b[0m Trial 4 finished with value: 0.9392499923706055 and parameters: {'units▁choice': 0}. Best is trial 2 with value: 0.9610833525657654.\u001b[0m\n"
     ]
    },
    {
     "name": "stdout",
     "output_type": "stream",
     "text": [
      "CPU times: user 8min 15s, sys: 9min 57s, total: 18min 12s\n",
      "Wall time: 2min 19s\n"
     ]
    }
   ],
   "source": [
    "%%time\n",
    "model.search(\n",
    "    n_trials=5,\n",
    "    target_metric='val_accuracy',\n",
    "    direction=\"maximize\",\n",
    "    x=x_train,\n",
    "    y=y_train,\n",
    "    batch_size=128,\n",
    "    epochs=24,\n",
    "    validation_split=0.2,\n",
    "    verbose=False,\n",
    ")"
   ]
  },
  {
   "cell_type": "markdown",
   "metadata": {},
   "source": [
    "# Step 4: fit with the best hyperparameters\n",
    "The best hyperparameters have been saved in the model. You can call model.fit() to train a model with the best hyperparameters."
   ]
  },
  {
   "cell_type": "code",
   "execution_count": 4,
   "metadata": {},
   "outputs": [
    {
     "name": "stdout",
     "output_type": "stream",
     "text": [
      "Epoch 1/24\n",
      "375/375 [==============================] - 2s 4ms/step - loss: 0.5704 - accuracy: 0.8392 - val_loss: 0.2954 - val_accuracy: 0.9155\n",
      "Epoch 2/24\n",
      "375/375 [==============================] - 2s 5ms/step - loss: 0.2796 - accuracy: 0.9193 - val_loss: 0.2353 - val_accuracy: 0.9327\n",
      "Epoch 3/24\n",
      "375/375 [==============================] - 3s 9ms/step - loss: 0.2315 - accuracy: 0.9326 - val_loss: 0.2072 - val_accuracy: 0.9401\n",
      "Epoch 4/24\n",
      "375/375 [==============================] - 4s 11ms/step - loss: 0.2033 - accuracy: 0.9403 - val_loss: 0.1943 - val_accuracy: 0.9448\n",
      "Epoch 5/24\n",
      "375/375 [==============================] - 3s 8ms/step - loss: 0.1843 - accuracy: 0.9461 - val_loss: 0.1784 - val_accuracy: 0.9476\n",
      "Epoch 6/24\n",
      "375/375 [==============================] - 2s 4ms/step - loss: 0.1699 - accuracy: 0.9499 - val_loss: 0.1690 - val_accuracy: 0.9516\n",
      "Epoch 7/24\n",
      "375/375 [==============================] - 2s 4ms/step - loss: 0.1581 - accuracy: 0.9529 - val_loss: 0.1647 - val_accuracy: 0.9520\n",
      "Epoch 8/24\n",
      "375/375 [==============================] - 1s 4ms/step - loss: 0.1485 - accuracy: 0.9564 - val_loss: 0.1644 - val_accuracy: 0.9525\n",
      "Epoch 9/24\n",
      "375/375 [==============================] - 1s 3ms/step - loss: 0.1394 - accuracy: 0.9582 - val_loss: 0.1549 - val_accuracy: 0.9569\n",
      "Epoch 10/24\n",
      "375/375 [==============================] - 2s 6ms/step - loss: 0.1324 - accuracy: 0.9607 - val_loss: 0.1543 - val_accuracy: 0.9560\n",
      "Epoch 11/24\n",
      "375/375 [==============================] - 2s 5ms/step - loss: 0.1263 - accuracy: 0.9628 - val_loss: 0.1586 - val_accuracy: 0.9544\n",
      "Epoch 12/24\n",
      "375/375 [==============================] - 2s 6ms/step - loss: 0.1205 - accuracy: 0.9647 - val_loss: 0.1479 - val_accuracy: 0.9580\n",
      "Epoch 13/24\n",
      "375/375 [==============================] - 1s 3ms/step - loss: 0.1151 - accuracy: 0.9655 - val_loss: 0.1482 - val_accuracy: 0.9581\n",
      "Epoch 14/24\n",
      "375/375 [==============================] - 1s 4ms/step - loss: 0.1110 - accuracy: 0.9671 - val_loss: 0.1503 - val_accuracy: 0.9585\n",
      "Epoch 15/24\n",
      "375/375 [==============================] - 1s 3ms/step - loss: 0.1070 - accuracy: 0.9674 - val_loss: 0.1455 - val_accuracy: 0.9587\n",
      "Epoch 16/24\n",
      "375/375 [==============================] - 1s 3ms/step - loss: 0.1044 - accuracy: 0.9691 - val_loss: 0.1440 - val_accuracy: 0.9574\n",
      "Epoch 17/24\n",
      "375/375 [==============================] - 2s 5ms/step - loss: 0.1010 - accuracy: 0.9703 - val_loss: 0.1556 - val_accuracy: 0.9545\n",
      "Epoch 18/24\n",
      "375/375 [==============================] - 1s 3ms/step - loss: 0.0980 - accuracy: 0.9703 - val_loss: 0.1433 - val_accuracy: 0.9593\n",
      "Epoch 19/24\n",
      "375/375 [==============================] - 2s 4ms/step - loss: 0.0948 - accuracy: 0.9718 - val_loss: 0.1504 - val_accuracy: 0.9572\n",
      "Epoch 20/24\n",
      "375/375 [==============================] - 2s 6ms/step - loss: 0.0925 - accuracy: 0.9722 - val_loss: 0.1498 - val_accuracy: 0.9581\n",
      "Epoch 21/24\n",
      "375/375 [==============================] - 1s 4ms/step - loss: 0.0898 - accuracy: 0.9734 - val_loss: 0.1489 - val_accuracy: 0.9588\n",
      "Epoch 22/24\n",
      "375/375 [==============================] - 2s 4ms/step - loss: 0.0875 - accuracy: 0.9739 - val_loss: 0.1491 - val_accuracy: 0.9592\n",
      "Epoch 23/24\n",
      "375/375 [==============================] - 2s 4ms/step - loss: 0.0853 - accuracy: 0.9744 - val_loss: 0.1490 - val_accuracy: 0.9582\n",
      "Epoch 24/24\n",
      "375/375 [==============================] - 1s 4ms/step - loss: 0.0833 - accuracy: 0.9749 - val_loss: 0.1459 - val_accuracy: 0.9594\n",
      "313/313 - 1s - loss: 0.1379 - accuracy: 0.9617 - 598ms/epoch - 2ms/step\n",
      "Test loss: 0.13787446916103363\n",
      "Test accuracy: 0.9617000222206116\n"
     ]
    }
   ],
   "source": [
    "history = model.fit(x_train, y_train,\n",
    "                    batch_size=128, epochs=24, validation_split=0.2)\n",
    "\n",
    "test_scores = model.evaluate(x_test, y_test, verbose=2)\n",
    "print(\"Test loss:\", test_scores[0])\n",
    "print(\"Test accuracy:\", test_scores[1])"
   ]
  },
  {
   "cell_type": "markdown",
   "metadata": {},
   "source": [
    "Check out the summary of the model. The model has already been built with the best hyperparameters found by nano hpo."
   ]
  },
  {
   "cell_type": "code",
   "execution_count": 5,
   "metadata": {},
   "outputs": [
    {
     "name": "stdout",
     "output_type": "stream",
     "text": [
      "Model: \"mnist_model\"\n",
      "_________________________________________________________________\n",
      " Layer (type)                Output Shape              Param #   \n",
      "=================================================================\n",
      " input_2 (InputLayer)        [(None, 784)]             0         \n",
      "                                                                 \n",
      " dense_3 (Dense)             (None, 16)                12560     \n",
      "                                                                 \n",
      " dense_4 (Dense)             (None, 64)                1088      \n",
      "                                                                 \n",
      " dense_5 (Dense)             (None, 10)                650       \n",
      "                                                                 \n",
      "=================================================================\n",
      "Total params: 14,298\n",
      "Trainable params: 14,298\n",
      "Non-trainable params: 0\n",
      "_________________________________________________________________\n",
      "None\n"
     ]
    }
   ],
   "source": [
    "print(model.summary())"
   ]
  },
  {
   "cell_type": "code",
   "execution_count": null,
   "metadata": {},
   "outputs": [],
   "source": []
  }
 ],
 "metadata": {
  "kernelspec": {
   "display_name": "Python 3 (ipykernel)",
   "language": "python",
   "name": "python3"
  },
  "language_info": {
   "codemirror_mode": {
    "name": "ipython",
    "version": 3
   },
   "file_extension": ".py",
   "mimetype": "text/x-python",
   "name": "python",
   "nbconvert_exporter": "python",
   "pygments_lexer": "ipython3",
   "version": "3.7.13"
  }
 },
 "nbformat": 4,
 "nbformat_minor": 2
}
