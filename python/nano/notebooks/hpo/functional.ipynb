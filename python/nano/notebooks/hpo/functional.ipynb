{
 "cells": [
  {
   "cell_type": "markdown",
   "metadata": {},
   "source": [
    "**In this guide we will demonstrate how to use Nano AutoML to auto tune an machine learning model and handle the whole model development process easily.**"
   ]
  },
  {
   "cell_type": "markdown",
   "metadata": {},
   "source": [
    "# Introduction\n",
    "Nano provides hpo as an solution for fast and high-performance hyperparameter tuning. Users can import hano hpo following the standard tensorflow API without changing their own code. By setting the search space and running model.search(), the model will contain the best hyperparameters.\n",
    "\n",
    "Nano hpo supports sequential, fuctional and custom keras API.\n"
   ]
  },
  {
   "cell_type": "markdown",
   "metadata": {},
   "source": [
    "# Step0: Prepare Environment\n",
    "We recommend using conda to prepare the environment.\n",
    "conda create -n my_env python=3.7\n",
    "\n",
    "conda activate my_env\n",
    "\n",
    "pip install --pre --upgrade bigdl"
   ]
  },
  {
   "cell_type": "markdown",
   "metadata": {},
   "source": [
    "# Step1: Init Nano AutoML\n",
    "Let's start out by importing Nano AutoML and enable its tensorflow API globally by automl.hpo_config.enable_hpo_tf().\n",
    "\n",
    "After importing, we will load MNIST as our data."
   ]
  },
  {
   "cell_type": "code",
   "execution_count": 1,
   "metadata": {},
   "outputs": [
    {
     "name": "stderr",
     "output_type": "stream",
     "text": [
      "../../src/bigdl/nano/tf/__init__.py:24: UserWarning: NANO_TF_INTER_OP not found the in os.environ, please run `source bigdl-nano-init`\n",
      "  warnings.warn(\"NANO_TF_INTER_OP not found the in os.environ, \"\n",
      "../../src/bigdl/nano/tf/__init__.py:30: UserWarning: OMP_NUM_THREADS not found the in os.environ, please run `source bigdl-nano-init`\n",
      "  warnings.warn(\"OMP_NUM_THREADS not found the in os.environ, \"\n"
     ]
    }
   ],
   "source": [
    "#to do: remove\n",
    "import sys\n",
    "sys.path.append(\"../../src/\")\n",
    "\n",
    "import bigdl.nano.automl as automl\n",
    "automl.hpo_config.enable_hpo_tf()\n",
    "\n",
    "from bigdl.nano.tf.keras.layers import Dense\n",
    "from bigdl.nano.tf.keras import Input\n",
    "from bigdl.nano.automl.tf.keras import Model\n",
    "import bigdl.nano.automl.hpo.space as space\n",
    "\n",
    "\n",
    "import tensorflow as tf\n",
    "from tensorflow import keras\n",
    "\n",
    "(x_train, y_train), (x_test, y_test) = keras.datasets.mnist.load_data()\n",
    "x_train = x_train.reshape(60000, 784).astype(\"float32\") / 255\n",
    "x_test = x_test.reshape(10000, 784).astype(\"float32\") / 255"
   ]
  },
  {
   "cell_type": "markdown",
   "metadata": {},
   "source": [
    "# Step2: Set search space\n",
    "We now create our model function. \n",
    "\n",
    "Whenever you want to search a hyperparameter, you can simply replace it with a space and set your own searching space \n"
   ]
  },
  {
   "cell_type": "code",
   "execution_count": 2,
   "metadata": {},
   "outputs": [
    {
     "name": "stderr",
     "output_type": "stream",
     "text": [
      "2022-05-18 15:18:46.080250: I tensorflow/core/platform/cpu_feature_guard.cc:151] This TensorFlow binary is optimized with oneAPI Deep Neural Network Library (oneDNN) to use the following CPU instructions in performance-critical operations:  AVX2 FMA\n",
      "To enable them in other operations, rebuild TensorFlow with the appropriate compiler flags.\n",
      "2022-05-18 15:18:46.081201: I tensorflow/core/common_runtime/process_util.cc:146] Creating new thread pool with default inter op setting: \n"
     ]
    }
   ],
   "source": [
    "inputs = Input(shape=(784,))\n",
    "x = Dense(units=space.Categorical(8,16,prefix='dense_1'), activation=\"relu\")(inputs)\n",
    "x = Dense(units=space.Categorical(32,64,prefix='dense_2'), activation=\"relu\")(x)\n",
    "outputs = Dense(units=10)(x)\n",
    "\n",
    "model = Model(inputs=inputs, outputs=outputs, name=\"mnist_model\")\n",
    "\n",
    "model.compile(\n",
    "    loss=keras.losses.SparseCategoricalCrossentropy(from_logits=True),\n",
    "    optimizer=keras.optimizers.RMSprop(),\n",
    "    metrics=[\"accuracy\"],\n",
    ")"
   ]
  },
  {
   "cell_type": "markdown",
   "metadata": {},
   "source": [
    "# Step3: Apply searching\n",
    "Apply hyperparameter searching by calling model.search(), and best hyperparameters will be saved in the model.\n",
    "\n",
    "You can specify the number of trial, each trial will use a set of hyperparameters automatiacally suggusted by nano.hpo. \n",
    "\n",
    "You can set your target metric and whehter you want to maximize you minimize it."
   ]
  },
  {
   "cell_type": "code",
   "execution_count": 3,
   "metadata": {},
   "outputs": [
    {
     "name": "stderr",
     "output_type": "stream",
     "text": [
      "\u001b[32m[I 2022-05-18 15:18:46,242]\u001b[0m A new study created in memory with name: no-name-48629828-cc12-4378-951f-4c113bc88e3c\u001b[0m\n"
     ]
    },
    {
     "name": "stdout",
     "output_type": "stream",
     "text": [
      "Starting a new tuning\n",
      "guoyao want to know compile args\n",
      "() {'loss': <keras.losses.SparseCategoricalCrossentropy object at 0x7f7454564d50>, 'optimizer': <keras.optimizer_v2.rmsprop.RMSprop object at 0x7f7454564510>, 'metrics': ListWrapper(['accuracy'])}\n",
      "Epoch 1/24\n",
      "375/375 - 2s - loss: 0.8201 - accuracy: 0.7711 - val_loss: 0.4023 - val_accuracy: 0.8854 - 2s/epoch - 4ms/step\n",
      "Epoch 2/24\n",
      "375/375 - 1s - loss: 0.3786 - accuracy: 0.8923 - val_loss: 0.3254 - val_accuracy: 0.9078 - 1s/epoch - 3ms/step\n",
      "Epoch 3/24\n",
      "375/375 - 1s - loss: 0.3233 - accuracy: 0.9083 - val_loss: 0.2873 - val_accuracy: 0.9180 - 1s/epoch - 3ms/step\n",
      "Epoch 4/24\n",
      "375/375 - 1s - loss: 0.2962 - accuracy: 0.9159 - val_loss: 0.2761 - val_accuracy: 0.9196 - 794ms/epoch - 2ms/step\n",
      "Epoch 5/24\n",
      "375/375 - 1s - loss: 0.2784 - accuracy: 0.9211 - val_loss: 0.2630 - val_accuracy: 0.9245 - 899ms/epoch - 2ms/step\n",
      "Epoch 6/24\n",
      "375/375 - 1s - loss: 0.2644 - accuracy: 0.9245 - val_loss: 0.2545 - val_accuracy: 0.9264 - 1s/epoch - 3ms/step\n",
      "Epoch 7/24\n",
      "375/375 - 1s - loss: 0.2544 - accuracy: 0.9272 - val_loss: 0.2463 - val_accuracy: 0.9288 - 876ms/epoch - 2ms/step\n",
      "Epoch 8/24\n",
      "375/375 - 1s - loss: 0.2456 - accuracy: 0.9291 - val_loss: 0.2442 - val_accuracy: 0.9298 - 839ms/epoch - 2ms/step\n",
      "Epoch 9/24\n",
      "375/375 - 1s - loss: 0.2381 - accuracy: 0.9317 - val_loss: 0.2413 - val_accuracy: 0.9300 - 764ms/epoch - 2ms/step\n",
      "Epoch 10/24\n",
      "375/375 - 1s - loss: 0.2318 - accuracy: 0.9333 - val_loss: 0.2445 - val_accuracy: 0.9305 - 809ms/epoch - 2ms/step\n",
      "Epoch 11/24\n",
      "375/375 - 1s - loss: 0.2271 - accuracy: 0.9351 - val_loss: 0.2295 - val_accuracy: 0.9341 - 989ms/epoch - 3ms/step\n",
      "Epoch 12/24\n",
      "375/375 - 1s - loss: 0.2227 - accuracy: 0.9357 - val_loss: 0.2314 - val_accuracy: 0.9325 - 1s/epoch - 3ms/step\n",
      "Epoch 13/24\n",
      "375/375 - 1s - loss: 0.2180 - accuracy: 0.9370 - val_loss: 0.2320 - val_accuracy: 0.9336 - 1s/epoch - 4ms/step\n",
      "Epoch 14/24\n",
      "375/375 - 2s - loss: 0.2152 - accuracy: 0.9374 - val_loss: 0.2239 - val_accuracy: 0.9362 - 2s/epoch - 4ms/step\n",
      "Epoch 15/24\n",
      "375/375 - 1s - loss: 0.2102 - accuracy: 0.9385 - val_loss: 0.2262 - val_accuracy: 0.9344 - 1s/epoch - 3ms/step\n",
      "Epoch 16/24\n",
      "375/375 - 1s - loss: 0.2079 - accuracy: 0.9397 - val_loss: 0.2227 - val_accuracy: 0.9360 - 1s/epoch - 4ms/step\n",
      "Epoch 17/24\n",
      "375/375 - 1s - loss: 0.2051 - accuracy: 0.9392 - val_loss: 0.2191 - val_accuracy: 0.9374 - 1s/epoch - 4ms/step\n",
      "Epoch 18/24\n",
      "375/375 - 1s - loss: 0.2018 - accuracy: 0.9407 - val_loss: 0.2211 - val_accuracy: 0.9363 - 1s/epoch - 3ms/step\n",
      "Epoch 19/24\n",
      "375/375 - 1s - loss: 0.1993 - accuracy: 0.9422 - val_loss: 0.2217 - val_accuracy: 0.9365 - 982ms/epoch - 3ms/step\n",
      "Epoch 20/24\n",
      "375/375 - 1s - loss: 0.1971 - accuracy: 0.9422 - val_loss: 0.2152 - val_accuracy: 0.9386 - 1s/epoch - 3ms/step\n",
      "Epoch 21/24\n",
      "375/375 - 1s - loss: 0.1940 - accuracy: 0.9435 - val_loss: 0.2188 - val_accuracy: 0.9367 - 803ms/epoch - 2ms/step\n",
      "Epoch 22/24\n",
      "375/375 - 1s - loss: 0.1920 - accuracy: 0.9438 - val_loss: 0.2145 - val_accuracy: 0.9385 - 922ms/epoch - 2ms/step\n",
      "Epoch 23/24\n",
      "375/375 - 1s - loss: 0.1901 - accuracy: 0.9441 - val_loss: 0.2149 - val_accuracy: 0.9412 - 1s/epoch - 3ms/step\n",
      "Epoch 24/24\n",
      "375/375 - 1s - loss: 0.1879 - accuracy: 0.9437 - val_loss: 0.2154 - val_accuracy: 0.9391 - 1s/epoch - 3ms/step\n"
     ]
    },
    {
     "name": "stderr",
     "output_type": "stream",
     "text": [
      "\u001b[32m[I 2022-05-18 15:19:12,689]\u001b[0m Trial 0 finished with value: 0.9441041946411133 and parameters: {'units▁choice': 0}. Best is trial 0 with value: 0.9441041946411133.\u001b[0m\n"
     ]
    },
    {
     "name": "stdout",
     "output_type": "stream",
     "text": [
      "guoyao want to know compile args\n",
      "() {'loss': <keras.losses.SparseCategoricalCrossentropy object at 0x7f7434409c90>, 'optimizer': <keras.optimizer_v2.rmsprop.RMSprop object at 0x7f74344095d0>, 'metrics': ListWrapper(['accuracy'])}\n",
      "Epoch 1/24\n",
      "375/375 - 2s - loss: 0.5834 - accuracy: 0.8439 - val_loss: 0.3073 - val_accuracy: 0.9107 - 2s/epoch - 4ms/step\n",
      "Epoch 2/24\n",
      "375/375 - 1s - loss: 0.3005 - accuracy: 0.9130 - val_loss: 0.2724 - val_accuracy: 0.9202 - 1s/epoch - 3ms/step\n",
      "Epoch 3/24\n",
      "375/375 - 2s - loss: 0.2542 - accuracy: 0.9262 - val_loss: 0.2230 - val_accuracy: 0.9337 - 2s/epoch - 5ms/step\n",
      "Epoch 4/24\n",
      "375/375 - 2s - loss: 0.2198 - accuracy: 0.9364 - val_loss: 0.2078 - val_accuracy: 0.9394 - 2s/epoch - 4ms/step\n",
      "Epoch 5/24\n",
      "375/375 - 1s - loss: 0.1954 - accuracy: 0.9427 - val_loss: 0.1879 - val_accuracy: 0.9434 - 1s/epoch - 3ms/step\n",
      "Epoch 6/24\n",
      "375/375 - 1s - loss: 0.1773 - accuracy: 0.9479 - val_loss: 0.1746 - val_accuracy: 0.9478 - 791ms/epoch - 2ms/step\n",
      "Epoch 7/24\n",
      "375/375 - 1s - loss: 0.1645 - accuracy: 0.9524 - val_loss: 0.1644 - val_accuracy: 0.9516 - 1s/epoch - 3ms/step\n",
      "Epoch 8/24\n",
      "375/375 - 1s - loss: 0.1537 - accuracy: 0.9539 - val_loss: 0.1667 - val_accuracy: 0.9513 - 874ms/epoch - 2ms/step\n",
      "Epoch 9/24\n",
      "375/375 - 1s - loss: 0.1446 - accuracy: 0.9567 - val_loss: 0.1571 - val_accuracy: 0.9522 - 1s/epoch - 3ms/step\n",
      "Epoch 10/24\n",
      "375/375 - 1s - loss: 0.1370 - accuracy: 0.9590 - val_loss: 0.1536 - val_accuracy: 0.9539 - 1s/epoch - 3ms/step\n",
      "Epoch 11/24\n",
      "375/375 - 1s - loss: 0.1292 - accuracy: 0.9614 - val_loss: 0.1494 - val_accuracy: 0.9552 - 966ms/epoch - 3ms/step\n",
      "Epoch 12/24\n",
      "375/375 - 1s - loss: 0.1237 - accuracy: 0.9629 - val_loss: 0.1486 - val_accuracy: 0.9551 - 1s/epoch - 4ms/step\n",
      "Epoch 13/24\n",
      "375/375 - 1s - loss: 0.1180 - accuracy: 0.9639 - val_loss: 0.1477 - val_accuracy: 0.9547 - 1s/epoch - 3ms/step\n",
      "Epoch 14/24\n",
      "375/375 - 1s - loss: 0.1136 - accuracy: 0.9656 - val_loss: 0.1451 - val_accuracy: 0.9570 - 1s/epoch - 3ms/step\n",
      "Epoch 15/24\n",
      "375/375 - 1s - loss: 0.1098 - accuracy: 0.9672 - val_loss: 0.1437 - val_accuracy: 0.9582 - 1s/epoch - 3ms/step\n",
      "Epoch 16/24\n",
      "375/375 - 1s - loss: 0.1051 - accuracy: 0.9689 - val_loss: 0.1403 - val_accuracy: 0.9576 - 1s/epoch - 3ms/step\n",
      "Epoch 17/24\n",
      "375/375 - 1s - loss: 0.1018 - accuracy: 0.9686 - val_loss: 0.1400 - val_accuracy: 0.9586 - 1s/epoch - 3ms/step\n",
      "Epoch 18/24\n",
      "375/375 - 1s - loss: 0.0986 - accuracy: 0.9700 - val_loss: 0.1440 - val_accuracy: 0.9567 - 1s/epoch - 3ms/step\n",
      "Epoch 19/24\n",
      "375/375 - 1s - loss: 0.0959 - accuracy: 0.9704 - val_loss: 0.1383 - val_accuracy: 0.9581 - 1s/epoch - 3ms/step\n",
      "Epoch 20/24\n",
      "375/375 - 1s - loss: 0.0934 - accuracy: 0.9718 - val_loss: 0.1382 - val_accuracy: 0.9575 - 911ms/epoch - 2ms/step\n",
      "Epoch 21/24\n",
      "375/375 - 1s - loss: 0.0903 - accuracy: 0.9728 - val_loss: 0.1452 - val_accuracy: 0.9592 - 1s/epoch - 3ms/step\n",
      "Epoch 22/24\n",
      "375/375 - 1s - loss: 0.0879 - accuracy: 0.9733 - val_loss: 0.1391 - val_accuracy: 0.9588 - 924ms/epoch - 2ms/step\n",
      "Epoch 23/24\n",
      "375/375 - 1s - loss: 0.0860 - accuracy: 0.9736 - val_loss: 0.1338 - val_accuracy: 0.9608 - 1s/epoch - 3ms/step\n",
      "Epoch 24/24\n",
      "375/375 - 1s - loss: 0.0842 - accuracy: 0.9744 - val_loss: 0.1424 - val_accuracy: 0.9578 - 1s/epoch - 3ms/step\n"
     ]
    },
    {
     "name": "stderr",
     "output_type": "stream",
     "text": [
      "\u001b[32m[I 2022-05-18 15:19:40,049]\u001b[0m Trial 1 finished with value: 0.9743750095367432 and parameters: {'units▁choice': 1}. Best is trial 1 with value: 0.9743750095367432.\u001b[0m\n"
     ]
    },
    {
     "name": "stdout",
     "output_type": "stream",
     "text": [
      "guoyao want to know compile args\n",
      "() {'loss': <keras.losses.SparseCategoricalCrossentropy object at 0x7f7434f39690>, 'optimizer': <keras.optimizer_v2.rmsprop.RMSprop object at 0x7f7434f39490>, 'metrics': ListWrapper(['accuracy'])}\n",
      "Epoch 1/24\n",
      "375/375 - 2s - loss: 0.8201 - accuracy: 0.7711 - val_loss: 0.4023 - val_accuracy: 0.8854 - 2s/epoch - 5ms/step\n",
      "Epoch 2/24\n",
      "375/375 - 1s - loss: 0.3786 - accuracy: 0.8923 - val_loss: 0.3254 - val_accuracy: 0.9078 - 1s/epoch - 3ms/step\n",
      "Epoch 3/24\n",
      "375/375 - 1s - loss: 0.3233 - accuracy: 0.9083 - val_loss: 0.2873 - val_accuracy: 0.9180 - 1s/epoch - 3ms/step\n",
      "Epoch 4/24\n",
      "375/375 - 1s - loss: 0.2962 - accuracy: 0.9159 - val_loss: 0.2761 - val_accuracy: 0.9196 - 1s/epoch - 3ms/step\n",
      "Epoch 5/24\n",
      "375/375 - 1s - loss: 0.2784 - accuracy: 0.9211 - val_loss: 0.2630 - val_accuracy: 0.9245 - 1s/epoch - 3ms/step\n",
      "Epoch 6/24\n",
      "375/375 - 1s - loss: 0.2644 - accuracy: 0.9245 - val_loss: 0.2545 - val_accuracy: 0.9264 - 893ms/epoch - 2ms/step\n",
      "Epoch 7/24\n",
      "375/375 - 1s - loss: 0.2544 - accuracy: 0.9272 - val_loss: 0.2463 - val_accuracy: 0.9288 - 1s/epoch - 3ms/step\n",
      "Epoch 8/24\n",
      "375/375 - 1s - loss: 0.2456 - accuracy: 0.9291 - val_loss: 0.2442 - val_accuracy: 0.9298 - 941ms/epoch - 3ms/step\n",
      "Epoch 9/24\n",
      "375/375 - 1s - loss: 0.2381 - accuracy: 0.9317 - val_loss: 0.2413 - val_accuracy: 0.9300 - 988ms/epoch - 3ms/step\n",
      "Epoch 10/24\n",
      "375/375 - 1s - loss: 0.2318 - accuracy: 0.9333 - val_loss: 0.2445 - val_accuracy: 0.9305 - 973ms/epoch - 3ms/step\n",
      "Epoch 11/24\n",
      "375/375 - 1s - loss: 0.2271 - accuracy: 0.9351 - val_loss: 0.2295 - val_accuracy: 0.9341 - 1s/epoch - 3ms/step\n",
      "Epoch 12/24\n",
      "375/375 - 1s - loss: 0.2227 - accuracy: 0.9357 - val_loss: 0.2314 - val_accuracy: 0.9325 - 814ms/epoch - 2ms/step\n",
      "Epoch 13/24\n",
      "375/375 - 1s - loss: 0.2180 - accuracy: 0.9370 - val_loss: 0.2320 - val_accuracy: 0.9336 - 1s/epoch - 4ms/step\n",
      "Epoch 14/24\n",
      "375/375 - 3s - loss: 0.2152 - accuracy: 0.9374 - val_loss: 0.2239 - val_accuracy: 0.9362 - 3s/epoch - 8ms/step\n",
      "Epoch 15/24\n",
      "375/375 - 4s - loss: 0.2102 - accuracy: 0.9385 - val_loss: 0.2262 - val_accuracy: 0.9344 - 4s/epoch - 10ms/step\n",
      "Epoch 16/24\n",
      "375/375 - 3s - loss: 0.2079 - accuracy: 0.9397 - val_loss: 0.2227 - val_accuracy: 0.9360 - 3s/epoch - 7ms/step\n",
      "Epoch 17/24\n",
      "375/375 - 1s - loss: 0.2051 - accuracy: 0.9392 - val_loss: 0.2191 - val_accuracy: 0.9374 - 1s/epoch - 4ms/step\n",
      "Epoch 18/24\n",
      "375/375 - 1s - loss: 0.2018 - accuracy: 0.9407 - val_loss: 0.2211 - val_accuracy: 0.9363 - 1s/epoch - 3ms/step\n",
      "Epoch 19/24\n",
      "375/375 - 1s - loss: 0.1993 - accuracy: 0.9422 - val_loss: 0.2217 - val_accuracy: 0.9365 - 1s/epoch - 4ms/step\n",
      "Epoch 20/24\n",
      "375/375 - 1s - loss: 0.1971 - accuracy: 0.9422 - val_loss: 0.2152 - val_accuracy: 0.9386 - 998ms/epoch - 3ms/step\n",
      "Epoch 21/24\n",
      "375/375 - 1s - loss: 0.1940 - accuracy: 0.9435 - val_loss: 0.2188 - val_accuracy: 0.9367 - 952ms/epoch - 3ms/step\n",
      "Epoch 22/24\n",
      "375/375 - 1s - loss: 0.1920 - accuracy: 0.9438 - val_loss: 0.2145 - val_accuracy: 0.9385 - 1s/epoch - 3ms/step\n",
      "Epoch 23/24\n",
      "375/375 - 1s - loss: 0.1901 - accuracy: 0.9441 - val_loss: 0.2149 - val_accuracy: 0.9412 - 1s/epoch - 3ms/step\n",
      "Epoch 24/24\n",
      "375/375 - 1s - loss: 0.1879 - accuracy: 0.9437 - val_loss: 0.2154 - val_accuracy: 0.9391 - 971ms/epoch - 3ms/step\n"
     ]
    },
    {
     "name": "stderr",
     "output_type": "stream",
     "text": [
      "\u001b[32m[I 2022-05-18 15:20:13,298]\u001b[0m Trial 2 finished with value: 0.9441041946411133 and parameters: {'units▁choice': 0}. Best is trial 1 with value: 0.9743750095367432.\u001b[0m\n"
     ]
    },
    {
     "name": "stdout",
     "output_type": "stream",
     "text": [
      "guoyao want to know compile args\n",
      "() {'loss': <keras.losses.SparseCategoricalCrossentropy object at 0x7f7434b8e9d0>, 'optimizer': <keras.optimizer_v2.rmsprop.RMSprop object at 0x7f7434b8ea90>, 'metrics': ListWrapper(['accuracy'])}\n",
      "Epoch 1/24\n",
      "375/375 - 2s - loss: 0.8201 - accuracy: 0.7711 - val_loss: 0.4023 - val_accuracy: 0.8854 - 2s/epoch - 4ms/step\n",
      "Epoch 2/24\n",
      "375/375 - 1s - loss: 0.3786 - accuracy: 0.8923 - val_loss: 0.3254 - val_accuracy: 0.9078 - 1s/epoch - 4ms/step\n",
      "Epoch 3/24\n",
      "375/375 - 1s - loss: 0.3233 - accuracy: 0.9083 - val_loss: 0.2873 - val_accuracy: 0.9180 - 1s/epoch - 3ms/step\n",
      "Epoch 4/24\n",
      "375/375 - 1s - loss: 0.2962 - accuracy: 0.9159 - val_loss: 0.2761 - val_accuracy: 0.9196 - 1s/epoch - 3ms/step\n",
      "Epoch 5/24\n",
      "375/375 - 1s - loss: 0.2784 - accuracy: 0.9211 - val_loss: 0.2630 - val_accuracy: 0.9245 - 1s/epoch - 3ms/step\n",
      "Epoch 6/24\n",
      "375/375 - 1s - loss: 0.2644 - accuracy: 0.9245 - val_loss: 0.2545 - val_accuracy: 0.9264 - 1s/epoch - 4ms/step\n",
      "Epoch 7/24\n",
      "375/375 - 2s - loss: 0.2544 - accuracy: 0.9272 - val_loss: 0.2463 - val_accuracy: 0.9288 - 2s/epoch - 4ms/step\n",
      "Epoch 8/24\n",
      "375/375 - 1s - loss: 0.2456 - accuracy: 0.9291 - val_loss: 0.2442 - val_accuracy: 0.9298 - 800ms/epoch - 2ms/step\n",
      "Epoch 9/24\n",
      "375/375 - 1s - loss: 0.2381 - accuracy: 0.9317 - val_loss: 0.2413 - val_accuracy: 0.9300 - 1s/epoch - 3ms/step\n",
      "Epoch 10/24\n",
      "375/375 - 1s - loss: 0.2318 - accuracy: 0.9333 - val_loss: 0.2445 - val_accuracy: 0.9305 - 885ms/epoch - 2ms/step\n",
      "Epoch 11/24\n",
      "375/375 - 1s - loss: 0.2271 - accuracy: 0.9351 - val_loss: 0.2295 - val_accuracy: 0.9341 - 1s/epoch - 3ms/step\n",
      "Epoch 12/24\n",
      "375/375 - 1s - loss: 0.2227 - accuracy: 0.9357 - val_loss: 0.2314 - val_accuracy: 0.9325 - 1s/epoch - 3ms/step\n",
      "Epoch 13/24\n",
      "375/375 - 1s - loss: 0.2180 - accuracy: 0.9370 - val_loss: 0.2320 - val_accuracy: 0.9336 - 951ms/epoch - 3ms/step\n",
      "Epoch 14/24\n",
      "375/375 - 1s - loss: 0.2152 - accuracy: 0.9374 - val_loss: 0.2239 - val_accuracy: 0.9362 - 1s/epoch - 3ms/step\n",
      "Epoch 15/24\n",
      "375/375 - 1s - loss: 0.2102 - accuracy: 0.9385 - val_loss: 0.2262 - val_accuracy: 0.9344 - 1s/epoch - 3ms/step\n",
      "Epoch 16/24\n",
      "375/375 - 1s - loss: 0.2079 - accuracy: 0.9397 - val_loss: 0.2227 - val_accuracy: 0.9360 - 793ms/epoch - 2ms/step\n",
      "Epoch 17/24\n",
      "375/375 - 1s - loss: 0.2051 - accuracy: 0.9392 - val_loss: 0.2191 - val_accuracy: 0.9374 - 1s/epoch - 3ms/step\n",
      "Epoch 18/24\n",
      "375/375 - 1s - loss: 0.2018 - accuracy: 0.9407 - val_loss: 0.2211 - val_accuracy: 0.9363 - 919ms/epoch - 2ms/step\n",
      "Epoch 19/24\n",
      "375/375 - 1s - loss: 0.1993 - accuracy: 0.9422 - val_loss: 0.2217 - val_accuracy: 0.9365 - 843ms/epoch - 2ms/step\n",
      "Epoch 20/24\n",
      "375/375 - 1s - loss: 0.1971 - accuracy: 0.9422 - val_loss: 0.2152 - val_accuracy: 0.9386 - 883ms/epoch - 2ms/step\n",
      "Epoch 21/24\n",
      "375/375 - 1s - loss: 0.1940 - accuracy: 0.9435 - val_loss: 0.2188 - val_accuracy: 0.9367 - 951ms/epoch - 3ms/step\n",
      "Epoch 22/24\n",
      "375/375 - 1s - loss: 0.1920 - accuracy: 0.9438 - val_loss: 0.2145 - val_accuracy: 0.9385 - 1s/epoch - 3ms/step\n",
      "Epoch 23/24\n",
      "375/375 - 2s - loss: 0.1901 - accuracy: 0.9441 - val_loss: 0.2149 - val_accuracy: 0.9412 - 2s/epoch - 4ms/step\n",
      "Epoch 24/24\n",
      "375/375 - 1s - loss: 0.1879 - accuracy: 0.9437 - val_loss: 0.2154 - val_accuracy: 0.9391 - 1s/epoch - 3ms/step\n"
     ]
    },
    {
     "name": "stderr",
     "output_type": "stream",
     "text": [
      "\u001b[32m[I 2022-05-18 15:20:40,599]\u001b[0m Trial 3 finished with value: 0.9441041946411133 and parameters: {'units▁choice': 0}. Best is trial 1 with value: 0.9743750095367432.\u001b[0m\n"
     ]
    },
    {
     "name": "stdout",
     "output_type": "stream",
     "text": [
      "guoyao want to know compile args\n",
      "() {'loss': <keras.losses.SparseCategoricalCrossentropy object at 0x7f743566d290>, 'optimizer': <keras.optimizer_v2.rmsprop.RMSprop object at 0x7f743566d250>, 'metrics': ListWrapper(['accuracy'])}\n",
      "Epoch 1/24\n",
      "375/375 - 2s - loss: 0.8201 - accuracy: 0.7711 - val_loss: 0.4023 - val_accuracy: 0.8854 - 2s/epoch - 4ms/step\n",
      "Epoch 2/24\n",
      "375/375 - 1s - loss: 0.3786 - accuracy: 0.8923 - val_loss: 0.3254 - val_accuracy: 0.9078 - 1s/epoch - 3ms/step\n",
      "Epoch 3/24\n",
      "375/375 - 1s - loss: 0.3233 - accuracy: 0.9083 - val_loss: 0.2873 - val_accuracy: 0.9180 - 1s/epoch - 3ms/step\n",
      "Epoch 4/24\n",
      "375/375 - 2s - loss: 0.2962 - accuracy: 0.9159 - val_loss: 0.2761 - val_accuracy: 0.9196 - 2s/epoch - 5ms/step\n",
      "Epoch 5/24\n",
      "375/375 - 1s - loss: 0.2784 - accuracy: 0.9211 - val_loss: 0.2630 - val_accuracy: 0.9245 - 847ms/epoch - 2ms/step\n",
      "Epoch 6/24\n",
      "375/375 - 1s - loss: 0.2644 - accuracy: 0.9245 - val_loss: 0.2545 - val_accuracy: 0.9264 - 920ms/epoch - 2ms/step\n",
      "Epoch 7/24\n",
      "375/375 - 1s - loss: 0.2544 - accuracy: 0.9272 - val_loss: 0.2463 - val_accuracy: 0.9288 - 1s/epoch - 3ms/step\n",
      "Epoch 8/24\n",
      "375/375 - 1s - loss: 0.2456 - accuracy: 0.9291 - val_loss: 0.2442 - val_accuracy: 0.9298 - 808ms/epoch - 2ms/step\n",
      "Epoch 9/24\n",
      "375/375 - 1s - loss: 0.2381 - accuracy: 0.9317 - val_loss: 0.2413 - val_accuracy: 0.9300 - 1s/epoch - 3ms/step\n",
      "Epoch 10/24\n",
      "375/375 - 1s - loss: 0.2318 - accuracy: 0.9333 - val_loss: 0.2445 - val_accuracy: 0.9305 - 1s/epoch - 3ms/step\n",
      "Epoch 11/24\n",
      "375/375 - 1s - loss: 0.2271 - accuracy: 0.9351 - val_loss: 0.2295 - val_accuracy: 0.9341 - 891ms/epoch - 2ms/step\n",
      "Epoch 12/24\n",
      "375/375 - 1s - loss: 0.2227 - accuracy: 0.9357 - val_loss: 0.2314 - val_accuracy: 0.9325 - 1s/epoch - 3ms/step\n",
      "Epoch 13/24\n",
      "375/375 - 1s - loss: 0.2180 - accuracy: 0.9370 - val_loss: 0.2320 - val_accuracy: 0.9336 - 1s/epoch - 3ms/step\n",
      "Epoch 14/24\n",
      "375/375 - 1s - loss: 0.2152 - accuracy: 0.9374 - val_loss: 0.2239 - val_accuracy: 0.9362 - 852ms/epoch - 2ms/step\n",
      "Epoch 15/24\n",
      "375/375 - 1s - loss: 0.2102 - accuracy: 0.9385 - val_loss: 0.2262 - val_accuracy: 0.9344 - 869ms/epoch - 2ms/step\n",
      "Epoch 16/24\n",
      "375/375 - 1s - loss: 0.2079 - accuracy: 0.9397 - val_loss: 0.2227 - val_accuracy: 0.9360 - 957ms/epoch - 3ms/step\n",
      "Epoch 17/24\n",
      "375/375 - 1s - loss: 0.2051 - accuracy: 0.9392 - val_loss: 0.2191 - val_accuracy: 0.9374 - 913ms/epoch - 2ms/step\n",
      "Epoch 18/24\n",
      "375/375 - 1s - loss: 0.2018 - accuracy: 0.9407 - val_loss: 0.2211 - val_accuracy: 0.9363 - 1s/epoch - 3ms/step\n",
      "Epoch 19/24\n",
      "375/375 - 1s - loss: 0.1993 - accuracy: 0.9422 - val_loss: 0.2217 - val_accuracy: 0.9365 - 1s/epoch - 3ms/step\n",
      "Epoch 20/24\n",
      "375/375 - 1s - loss: 0.1971 - accuracy: 0.9422 - val_loss: 0.2152 - val_accuracy: 0.9386 - 797ms/epoch - 2ms/step\n",
      "Epoch 21/24\n",
      "375/375 - 1s - loss: 0.1940 - accuracy: 0.9435 - val_loss: 0.2188 - val_accuracy: 0.9367 - 886ms/epoch - 2ms/step\n",
      "Epoch 22/24\n",
      "375/375 - 1s - loss: 0.1920 - accuracy: 0.9438 - val_loss: 0.2145 - val_accuracy: 0.9385 - 897ms/epoch - 2ms/step\n",
      "Epoch 23/24\n",
      "375/375 - 1s - loss: 0.1901 - accuracy: 0.9441 - val_loss: 0.2149 - val_accuracy: 0.9412 - 952ms/epoch - 3ms/step\n",
      "Epoch 24/24\n",
      "375/375 - 1s - loss: 0.1879 - accuracy: 0.9437 - val_loss: 0.2154 - val_accuracy: 0.9391 - 952ms/epoch - 3ms/step\n"
     ]
    },
    {
     "name": "stderr",
     "output_type": "stream",
     "text": [
      "\u001b[32m[I 2022-05-18 15:21:05,289]\u001b[0m Trial 4 finished with value: 0.9441041946411133 and parameters: {'units▁choice': 0}. Best is trial 1 with value: 0.9743750095367432.\u001b[0m\n"
     ]
    },
    {
     "name": "stdout",
     "output_type": "stream",
     "text": [
      "CPU times: user 8min 10s, sys: 9min 53s, total: 18min 4s\n",
      "Wall time: 2min 19s\n"
     ]
    }
   ],
   "source": [
    "%%time\n",
    "model.search(\n",
    "    n_trials=5,\n",
    "    target_metric='accuracy',\n",
    "    direction=\"maximize\",\n",
    "    x=x_train,\n",
    "    y=y_train,\n",
    "    batch_size=128,\n",
    "    epochs=24,\n",
    "    validation_split=0.2,\n",
    "    verbose=False,\n",
    ")"
   ]
  },
  {
   "cell_type": "markdown",
   "metadata": {},
   "source": [
    "# Step 4: fit with the best hyperparameters\n",
    "The best hyperparameters have been saved in the model. You can call model.fit() to train a model with the best hyperparameters."
   ]
  },
  {
   "cell_type": "code",
   "execution_count": 4,
   "metadata": {},
   "outputs": [
    {
     "name": "stdout",
     "output_type": "stream",
     "text": [
      "guoyao want to know compile args\n",
      "() {'loss': <keras.losses.SparseCategoricalCrossentropy object at 0x7f7435e18590>, 'optimizer': <keras.optimizer_v2.rmsprop.RMSprop object at 0x7f7435e18ad0>, 'metrics': ListWrapper(['accuracy'])}\n",
      "Epoch 1/24\n",
      "375/375 [==============================] - 2s 4ms/step - loss: 0.5834 - accuracy: 0.8439 - val_loss: 0.3073 - val_accuracy: 0.9107\n",
      "Epoch 2/24\n",
      "375/375 [==============================] - 1s 3ms/step - loss: 0.3005 - accuracy: 0.9130 - val_loss: 0.2724 - val_accuracy: 0.9202\n",
      "Epoch 3/24\n",
      "375/375 [==============================] - 1s 2ms/step - loss: 0.2542 - accuracy: 0.9262 - val_loss: 0.2230 - val_accuracy: 0.9337\n",
      "Epoch 4/24\n",
      "375/375 [==============================] - 1s 3ms/step - loss: 0.2198 - accuracy: 0.9364 - val_loss: 0.2078 - val_accuracy: 0.9394\n",
      "Epoch 5/24\n",
      "375/375 [==============================] - 2s 5ms/step - loss: 0.1954 - accuracy: 0.9427 - val_loss: 0.1879 - val_accuracy: 0.9434\n",
      "Epoch 6/24\n",
      "375/375 [==============================] - 2s 4ms/step - loss: 0.1773 - accuracy: 0.9479 - val_loss: 0.1746 - val_accuracy: 0.9478\n",
      "Epoch 7/24\n",
      "375/375 [==============================] - 2s 5ms/step - loss: 0.1645 - accuracy: 0.9524 - val_loss: 0.1644 - val_accuracy: 0.9516\n",
      "Epoch 8/24\n",
      "375/375 [==============================] - 3s 7ms/step - loss: 0.1537 - accuracy: 0.9539 - val_loss: 0.1667 - val_accuracy: 0.9513\n",
      "Epoch 9/24\n",
      "375/375 [==============================] - 3s 7ms/step - loss: 0.1446 - accuracy: 0.9567 - val_loss: 0.1571 - val_accuracy: 0.9522\n",
      "Epoch 10/24\n",
      "375/375 [==============================] - 2s 4ms/step - loss: 0.1370 - accuracy: 0.9590 - val_loss: 0.1536 - val_accuracy: 0.9539\n",
      "Epoch 11/24\n",
      "375/375 [==============================] - 2s 5ms/step - loss: 0.1292 - accuracy: 0.9614 - val_loss: 0.1494 - val_accuracy: 0.9552\n",
      "Epoch 12/24\n",
      "375/375 [==============================] - 1s 3ms/step - loss: 0.1237 - accuracy: 0.9629 - val_loss: 0.1486 - val_accuracy: 0.9551\n",
      "Epoch 13/24\n",
      "375/375 [==============================] - 1s 2ms/step - loss: 0.1180 - accuracy: 0.9639 - val_loss: 0.1477 - val_accuracy: 0.9547\n",
      "Epoch 14/24\n",
      "375/375 [==============================] - 1s 3ms/step - loss: 0.1136 - accuracy: 0.9656 - val_loss: 0.1451 - val_accuracy: 0.9570\n",
      "Epoch 15/24\n",
      "375/375 [==============================] - 1s 3ms/step - loss: 0.1098 - accuracy: 0.9672 - val_loss: 0.1437 - val_accuracy: 0.9582\n",
      "Epoch 16/24\n",
      "375/375 [==============================] - 1s 3ms/step - loss: 0.1051 - accuracy: 0.9689 - val_loss: 0.1403 - val_accuracy: 0.9576\n",
      "Epoch 17/24\n",
      "375/375 [==============================] - 1s 3ms/step - loss: 0.1018 - accuracy: 0.9686 - val_loss: 0.1400 - val_accuracy: 0.9586\n",
      "Epoch 18/24\n",
      "375/375 [==============================] - 1s 3ms/step - loss: 0.0986 - accuracy: 0.9700 - val_loss: 0.1440 - val_accuracy: 0.9567\n",
      "Epoch 19/24\n",
      "375/375 [==============================] - 1s 3ms/step - loss: 0.0959 - accuracy: 0.9704 - val_loss: 0.1383 - val_accuracy: 0.9581\n",
      "Epoch 20/24\n",
      "375/375 [==============================] - 1s 3ms/step - loss: 0.0934 - accuracy: 0.9718 - val_loss: 0.1382 - val_accuracy: 0.9575\n",
      "Epoch 21/24\n",
      "375/375 [==============================] - 1s 4ms/step - loss: 0.0903 - accuracy: 0.9728 - val_loss: 0.1452 - val_accuracy: 0.9592\n",
      "Epoch 22/24\n",
      "375/375 [==============================] - 1s 3ms/step - loss: 0.0879 - accuracy: 0.9733 - val_loss: 0.1391 - val_accuracy: 0.9588\n",
      "Epoch 23/24\n",
      "375/375 [==============================] - 1s 3ms/step - loss: 0.0860 - accuracy: 0.9736 - val_loss: 0.1338 - val_accuracy: 0.9608\n",
      "Epoch 24/24\n",
      "375/375 [==============================] - 1s 2ms/step - loss: 0.0842 - accuracy: 0.9744 - val_loss: 0.1424 - val_accuracy: 0.9578\n",
      "313/313 - 0s - loss: 0.1456 - accuracy: 0.9587 - 470ms/epoch - 2ms/step\n",
      "Test loss: 0.14562755823135376\n",
      "Test accuracy: 0.9587000012397766\n"
     ]
    }
   ],
   "source": [
    "history = model.fit(x_train, y_train,\n",
    "                    batch_size=128, epochs=24, validation_split=0.2)\n",
    "\n",
    "test_scores = model.evaluate(x_test, y_test, verbose=2)\n",
    "print(\"Test loss:\", test_scores[0])\n",
    "print(\"Test accuracy:\", test_scores[1])"
   ]
  },
  {
   "cell_type": "markdown",
   "metadata": {},
   "source": [
    "Check out the summary of the model. The model has already been built with the best hyperparameters found by nano hpo."
   ]
  },
  {
   "cell_type": "code",
   "execution_count": 5,
   "metadata": {},
   "outputs": [
    {
     "name": "stdout",
     "output_type": "stream",
     "text": [
      "Model: \"mnist_model\"\n",
      "_________________________________________________________________\n",
      " Layer (type)                Output Shape              Param #   \n",
      "=================================================================\n",
      " input_2 (InputLayer)        [(None, 784)]             0         \n",
      "                                                                 \n",
      " dense_3 (Dense)             (None, 16)                12560     \n",
      "                                                                 \n",
      " dense_4 (Dense)             (None, 64)                1088      \n",
      "                                                                 \n",
      " dense_5 (Dense)             (None, 10)                650       \n",
      "                                                                 \n",
      "=================================================================\n",
      "Total params: 14,298\n",
      "Trainable params: 14,298\n",
      "Non-trainable params: 0\n",
      "_________________________________________________________________\n",
      "None\n"
     ]
    }
   ],
   "source": [
    "print(model.summary())"
   ]
  },
  {
   "cell_type": "code",
   "execution_count": null,
   "metadata": {},
   "outputs": [],
   "source": []
  }
 ],
 "metadata": {
  "kernelspec": {
   "display_name": "Python 3 (ipykernel)",
   "language": "python",
   "name": "python3"
  },
  "language_info": {
   "codemirror_mode": {
    "name": "ipython",
    "version": 3
   },
   "file_extension": ".py",
   "mimetype": "text/x-python",
   "name": "python",
   "nbconvert_exporter": "python",
   "pygments_lexer": "ipython3",
   "version": "3.7.13"
  }
 },
 "nbformat": 4,
 "nbformat_minor": 2
}
