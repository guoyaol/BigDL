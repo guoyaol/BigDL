{
  "cells": [
    {
      "cell_type": "markdown",
      "metadata": {
        "id": "yzsDlbsUBsuF"
      },
      "source": [
        "<a href=\"https://colab.research.google.com/github/intel-analytics/BigDL/blob/branch-2.0/python/nano/notebooks/hpo/custom.ipynb\" target=\"_parent\"><img src=\"https://colab.research.google.com/assets/colab-badge.svg\" alt=\"Open In Colab\"/></a>"
      ]
    },
    {
      "cell_type": "markdown",
      "metadata": {
        "id": "zcHLkcVjB7Jg"
      },
      "source": [
        "![image.png](data:image/png;base64,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)"
      ]
    },
    {
      "cell_type": "markdown",
      "metadata": {
        "id": "rICdZgjQBfUl"
      },
      "source": [
        "# Introduction\n",
        "In this notebook we demonstrates how to use Nano HPO to tune the hyperparameters in tensorflow training. The model is built by subclassing tensorflow.keras.Model.\n"
      ]
    },
    {
      "cell_type": "markdown",
      "metadata": {
        "id": "XZHU5E3ABfUm"
      },
      "source": [
        "# Step0: Prepare Environment\n",
        "You can install the latest pre-release version with nano support using below commands.\n",
        "\n",
        "We recommend to run below commands, especially `source bigdl-nano-init` before jupyter kernel is started, or some of the optimizations may not take effect."
      ]
    },
    {
      "cell_type": "code",
      "execution_count": 1,
      "metadata": {
        "colab": {
          "base_uri": "https://localhost:8080/"
        },
        "id": "3UyXJWA4Cjx2",
        "outputId": "73a62f6e-f1ac-4c4a-e47c-9a17f89d472a"
      },
      "outputs": [
        {
          "name": "stdout",
          "output_type": "stream",
          "text": [
            "Looking in indexes: https://pypi.org/simple, https://us-python.pkg.dev/colab-wheels/public/simple/\n",
            "Requirement already satisfied: bigdl-nano[tensorflow] in /usr/local/lib/python3.7/dist-packages (2.1.0b20220612)\n",
            "Requirement already satisfied: cloudpickle in /usr/local/lib/python3.7/dist-packages (from bigdl-nano[tensorflow]) (1.3.0)\n",
            "Requirement already satisfied: protobuf==3.20.1 in /usr/local/lib/python3.7/dist-packages (from bigdl-nano[tensorflow]) (3.20.1)\n",
            "Requirement already satisfied: intel-openmp in /usr/local/lib/python3.7/dist-packages (from bigdl-nano[tensorflow]) (2022.1.0)\n",
            "Requirement already satisfied: intel-tensorflow==2.7.0 in /usr/local/lib/python3.7/dist-packages (from bigdl-nano[tensorflow]) (2.7.0)\n",
            "Requirement already satisfied: keras==2.7.0 in /usr/local/lib/python3.7/dist-packages (from bigdl-nano[tensorflow]) (2.7.0)\n",
            "Requirement already satisfied: tensorflow-estimator==2.7.0 in /usr/local/lib/python3.7/dist-packages (from bigdl-nano[tensorflow]) (2.7.0)\n",
            "Requirement already satisfied: google-pasta>=0.1.1 in /usr/local/lib/python3.7/dist-packages (from intel-tensorflow==2.7.0->bigdl-nano[tensorflow]) (0.2.0)\n",
            "Requirement already satisfied: wrapt>=1.11.0 in /usr/local/lib/python3.7/dist-packages (from intel-tensorflow==2.7.0->bigdl-nano[tensorflow]) (1.14.1)\n",
            "Requirement already satisfied: numpy>=1.14.5 in /usr/local/lib/python3.7/dist-packages (from intel-tensorflow==2.7.0->bigdl-nano[tensorflow]) (1.21.6)\n",
            "Requirement already satisfied: flatbuffers<3.0,>=1.12 in /usr/local/lib/python3.7/dist-packages (from intel-tensorflow==2.7.0->bigdl-nano[tensorflow]) (2.0)\n",
            "Requirement already satisfied: tensorboard~=2.6 in /usr/local/lib/python3.7/dist-packages (from intel-tensorflow==2.7.0->bigdl-nano[tensorflow]) (2.8.0)\n",
            "Requirement already satisfied: opt-einsum>=2.3.2 in /usr/local/lib/python3.7/dist-packages (from intel-tensorflow==2.7.0->bigdl-nano[tensorflow]) (3.3.0)\n",
            "Requirement already satisfied: absl-py>=0.4.0 in /usr/local/lib/python3.7/dist-packages (from intel-tensorflow==2.7.0->bigdl-nano[tensorflow]) (1.0.0)\n",
            "Requirement already satisfied: keras-preprocessing>=1.1.1 in /usr/local/lib/python3.7/dist-packages (from intel-tensorflow==2.7.0->bigdl-nano[tensorflow]) (1.1.2)\n",
            "Requirement already satisfied: libclang>=9.0.1 in /usr/local/lib/python3.7/dist-packages (from intel-tensorflow==2.7.0->bigdl-nano[tensorflow]) (14.0.1)\n",
            "Requirement already satisfied: typing-extensions>=3.6.6 in /usr/local/lib/python3.7/dist-packages (from intel-tensorflow==2.7.0->bigdl-nano[tensorflow]) (4.2.0)\n",
            "Requirement already satisfied: grpcio<2.0,>=1.24.3 in /usr/local/lib/python3.7/dist-packages (from intel-tensorflow==2.7.0->bigdl-nano[tensorflow]) (1.46.3)\n",
            "Requirement already satisfied: wheel<1.0,>=0.32.0 in /usr/local/lib/python3.7/dist-packages (from intel-tensorflow==2.7.0->bigdl-nano[tensorflow]) (0.37.1)\n",
            "Requirement already satisfied: tensorflow-io-gcs-filesystem>=0.21.0 in /usr/local/lib/python3.7/dist-packages (from intel-tensorflow==2.7.0->bigdl-nano[tensorflow]) (0.26.0)\n",
            "Requirement already satisfied: gast<0.5.0,>=0.2.1 in /usr/local/lib/python3.7/dist-packages (from intel-tensorflow==2.7.0->bigdl-nano[tensorflow]) (0.4.0)\n",
            "Requirement already satisfied: six>=1.12.0 in /usr/local/lib/python3.7/dist-packages (from intel-tensorflow==2.7.0->bigdl-nano[tensorflow]) (1.15.0)\n",
            "Requirement already satisfied: termcolor>=1.1.0 in /usr/local/lib/python3.7/dist-packages (from intel-tensorflow==2.7.0->bigdl-nano[tensorflow]) (1.1.0)\n",
            "Requirement already satisfied: h5py>=2.9.0 in /usr/local/lib/python3.7/dist-packages (from intel-tensorflow==2.7.0->bigdl-nano[tensorflow]) (3.1.0)\n",
            "Requirement already satisfied: astunparse>=1.6.0 in /usr/local/lib/python3.7/dist-packages (from intel-tensorflow==2.7.0->bigdl-nano[tensorflow]) (1.6.3)\n",
            "Requirement already satisfied: cached-property in /usr/local/lib/python3.7/dist-packages (from h5py>=2.9.0->intel-tensorflow==2.7.0->bigdl-nano[tensorflow]) (1.5.2)\n",
            "Requirement already satisfied: tensorboard-plugin-wit>=1.6.0 in /usr/local/lib/python3.7/dist-packages (from tensorboard~=2.6->intel-tensorflow==2.7.0->bigdl-nano[tensorflow]) (1.8.1)\n",
            "Requirement already satisfied: setuptools>=41.0.0 in /usr/local/lib/python3.7/dist-packages (from tensorboard~=2.6->intel-tensorflow==2.7.0->bigdl-nano[tensorflow]) (58.0.4)\n",
            "Requirement already satisfied: werkzeug>=0.11.15 in /usr/local/lib/python3.7/dist-packages (from tensorboard~=2.6->intel-tensorflow==2.7.0->bigdl-nano[tensorflow]) (1.0.1)\n",
            "Requirement already satisfied: tensorboard-data-server<0.7.0,>=0.6.0 in /usr/local/lib/python3.7/dist-packages (from tensorboard~=2.6->intel-tensorflow==2.7.0->bigdl-nano[tensorflow]) (0.6.1)\n",
            "Requirement already satisfied: google-auth-oauthlib<0.5,>=0.4.1 in /usr/local/lib/python3.7/dist-packages (from tensorboard~=2.6->intel-tensorflow==2.7.0->bigdl-nano[tensorflow]) (0.4.6)\n",
            "Requirement already satisfied: requests<3,>=2.21.0 in /usr/local/lib/python3.7/dist-packages (from tensorboard~=2.6->intel-tensorflow==2.7.0->bigdl-nano[tensorflow]) (2.23.0)\n",
            "Requirement already satisfied: google-auth<3,>=1.6.3 in /usr/local/lib/python3.7/dist-packages (from tensorboard~=2.6->intel-tensorflow==2.7.0->bigdl-nano[tensorflow]) (1.35.0)\n",
            "Requirement already satisfied: markdown>=2.6.8 in /usr/local/lib/python3.7/dist-packages (from tensorboard~=2.6->intel-tensorflow==2.7.0->bigdl-nano[tensorflow]) (3.3.7)\n",
            "Requirement already satisfied: rsa<5,>=3.1.4 in /usr/local/lib/python3.7/dist-packages (from google-auth<3,>=1.6.3->tensorboard~=2.6->intel-tensorflow==2.7.0->bigdl-nano[tensorflow]) (4.8)\n",
            "Requirement already satisfied: cachetools<5.0,>=2.0.0 in /usr/local/lib/python3.7/dist-packages (from google-auth<3,>=1.6.3->tensorboard~=2.6->intel-tensorflow==2.7.0->bigdl-nano[tensorflow]) (4.2.4)\n",
            "Requirement already satisfied: pyasn1-modules>=0.2.1 in /usr/local/lib/python3.7/dist-packages (from google-auth<3,>=1.6.3->tensorboard~=2.6->intel-tensorflow==2.7.0->bigdl-nano[tensorflow]) (0.2.8)\n",
            "Requirement already satisfied: requests-oauthlib>=0.7.0 in /usr/local/lib/python3.7/dist-packages (from google-auth-oauthlib<0.5,>=0.4.1->tensorboard~=2.6->intel-tensorflow==2.7.0->bigdl-nano[tensorflow]) (1.3.1)\n",
            "Requirement already satisfied: importlib-metadata>=4.4 in /usr/local/lib/python3.7/dist-packages (from markdown>=2.6.8->tensorboard~=2.6->intel-tensorflow==2.7.0->bigdl-nano[tensorflow]) (4.11.4)\n",
            "Requirement already satisfied: zipp>=0.5 in /usr/local/lib/python3.7/dist-packages (from importlib-metadata>=4.4->markdown>=2.6.8->tensorboard~=2.6->intel-tensorflow==2.7.0->bigdl-nano[tensorflow]) (3.8.0)\n",
            "Requirement already satisfied: pyasn1<0.5.0,>=0.4.6 in /usr/local/lib/python3.7/dist-packages (from pyasn1-modules>=0.2.1->google-auth<3,>=1.6.3->tensorboard~=2.6->intel-tensorflow==2.7.0->bigdl-nano[tensorflow]) (0.4.8)\n",
            "Requirement already satisfied: chardet<4,>=3.0.2 in /usr/local/lib/python3.7/dist-packages (from requests<3,>=2.21.0->tensorboard~=2.6->intel-tensorflow==2.7.0->bigdl-nano[tensorflow]) (3.0.4)\n",
            "Requirement already satisfied: certifi>=2017.4.17 in /usr/local/lib/python3.7/dist-packages (from requests<3,>=2.21.0->tensorboard~=2.6->intel-tensorflow==2.7.0->bigdl-nano[tensorflow]) (2022.5.18.1)\n",
            "Requirement already satisfied: idna<3,>=2.5 in /usr/local/lib/python3.7/dist-packages (from requests<3,>=2.21.0->tensorboard~=2.6->intel-tensorflow==2.7.0->bigdl-nano[tensorflow]) (2.10)\n",
            "Requirement already satisfied: urllib3!=1.25.0,!=1.25.1,<1.26,>=1.21.1 in /usr/local/lib/python3.7/dist-packages (from requests<3,>=2.21.0->tensorboard~=2.6->intel-tensorflow==2.7.0->bigdl-nano[tensorflow]) (1.24.3)\n",
            "Requirement already satisfied: oauthlib>=3.0.0 in /usr/local/lib/python3.7/dist-packages (from requests-oauthlib>=0.7.0->google-auth-oauthlib<0.5,>=0.4.1->tensorboard~=2.6->intel-tensorflow==2.7.0->bigdl-nano[tensorflow]) (3.2.0)\n",
            "Looking in indexes: https://pypi.org/simple, https://us-python.pkg.dev/colab-wheels/public/simple/\n",
            "Requirement already satisfied: setuptools==58.0.4 in /usr/local/lib/python3.7/dist-packages (58.0.4)\n",
            "Looking in indexes: https://pypi.org/simple, https://us-python.pkg.dev/colab-wheels/public/simple/\n",
            "Requirement already satisfied: protobuf==3.20.1 in /usr/local/lib/python3.7/dist-packages (3.20.1)\n"
          ]
        }
      ],
      "source": [
        "# Install latest pre-release version of bigdl-nano\n",
        "!pip install --pre bigdl-nano[tensorflow]\n",
        "!pip install setuptools==58.0.4\n",
        "!pip install protobuf==3.20.1\n",
        "!source bigdl-nano-init"
      ]
    },
    {
      "cell_type": "code",
      "execution_count": 2,
      "metadata": {
        "colab": {
          "base_uri": "https://localhost:8080/"
        },
        "id": "phw-whHaCnpR",
        "outputId": "cb127078-e3e9-4f77-8821-6e22ce66f3d3"
      },
      "outputs": [
        {
          "name": "stdout",
          "output_type": "stream",
          "text": [
            "Looking in indexes: https://pypi.org/simple, https://us-python.pkg.dev/colab-wheels/public/simple/\n",
            "Requirement already satisfied: ConfigSpace in /usr/local/lib/python3.7/dist-packages (0.5.0)\n",
            "Requirement already satisfied: cython in /usr/local/lib/python3.7/dist-packages (from ConfigSpace) (0.29.30)\n",
            "Requirement already satisfied: numpy in /usr/local/lib/python3.7/dist-packages (from ConfigSpace) (1.21.6)\n",
            "Requirement already satisfied: scipy in /usr/local/lib/python3.7/dist-packages (from ConfigSpace) (1.4.1)\n",
            "Requirement already satisfied: pyparsing in /usr/local/lib/python3.7/dist-packages (from ConfigSpace) (3.0.9)\n",
            "Looking in indexes: https://pypi.org/simple, https://us-python.pkg.dev/colab-wheels/public/simple/\n",
            "Requirement already satisfied: optuna in /usr/local/lib/python3.7/dist-packages (2.10.0)\n",
            "Requirement already satisfied: cliff in /usr/local/lib/python3.7/dist-packages (from optuna) (3.10.1)\n",
            "Requirement already satisfied: tqdm in /usr/local/lib/python3.7/dist-packages (from optuna) (4.64.0)\n",
            "Requirement already satisfied: colorlog in /usr/local/lib/python3.7/dist-packages (from optuna) (6.6.0)\n",
            "Requirement already satisfied: cmaes>=0.8.2 in /usr/local/lib/python3.7/dist-packages (from optuna) (0.8.2)\n",
            "Requirement already satisfied: PyYAML in /usr/local/lib/python3.7/dist-packages (from optuna) (3.13)\n",
            "Requirement already satisfied: alembic in /usr/local/lib/python3.7/dist-packages (from optuna) (1.8.0)\n",
            "Requirement already satisfied: numpy in /usr/local/lib/python3.7/dist-packages (from optuna) (1.21.6)\n",
            "Requirement already satisfied: sqlalchemy>=1.1.0 in /usr/local/lib/python3.7/dist-packages (from optuna) (1.4.36)\n",
            "Requirement already satisfied: scipy!=1.4.0 in /usr/local/lib/python3.7/dist-packages (from optuna) (1.4.1)\n",
            "Requirement already satisfied: packaging>=20.0 in /usr/local/lib/python3.7/dist-packages (from optuna) (21.3)\n",
            "Requirement already satisfied: pyparsing!=3.0.5,>=2.0.2 in /usr/local/lib/python3.7/dist-packages (from packaging>=20.0->optuna) (3.0.9)\n",
            "Requirement already satisfied: importlib-metadata in /usr/local/lib/python3.7/dist-packages (from sqlalchemy>=1.1.0->optuna) (4.11.4)\n",
            "Requirement already satisfied: greenlet!=0.4.17 in /usr/local/lib/python3.7/dist-packages (from sqlalchemy>=1.1.0->optuna) (1.1.2)\n",
            "Requirement already satisfied: Mako in /usr/local/lib/python3.7/dist-packages (from alembic->optuna) (1.2.0)\n",
            "Requirement already satisfied: importlib-resources in /usr/local/lib/python3.7/dist-packages (from alembic->optuna) (5.7.1)\n",
            "Requirement already satisfied: autopage>=0.4.0 in /usr/local/lib/python3.7/dist-packages (from cliff->optuna) (0.5.1)\n",
            "Requirement already satisfied: PrettyTable>=0.7.2 in /usr/local/lib/python3.7/dist-packages (from cliff->optuna) (3.3.0)\n",
            "Requirement already satisfied: stevedore>=2.0.1 in /usr/local/lib/python3.7/dist-packages (from cliff->optuna) (3.5.0)\n",
            "Requirement already satisfied: cmd2>=1.0.0 in /usr/local/lib/python3.7/dist-packages (from cliff->optuna) (2.4.1)\n",
            "Requirement already satisfied: pbr!=2.1.0,>=2.0.0 in /usr/local/lib/python3.7/dist-packages (from cliff->optuna) (5.9.0)\n",
            "Requirement already satisfied: attrs>=16.3.0 in /usr/local/lib/python3.7/dist-packages (from cmd2>=1.0.0->cliff->optuna) (21.4.0)\n",
            "Requirement already satisfied: wcwidth>=0.1.7 in /usr/local/lib/python3.7/dist-packages (from cmd2>=1.0.0->cliff->optuna) (0.2.5)\n",
            "Requirement already satisfied: typing-extensions in /usr/local/lib/python3.7/dist-packages (from cmd2>=1.0.0->cliff->optuna) (4.2.0)\n",
            "Requirement already satisfied: pyperclip>=1.6 in /usr/local/lib/python3.7/dist-packages (from cmd2>=1.0.0->cliff->optuna) (1.8.2)\n",
            "Requirement already satisfied: zipp>=0.5 in /usr/local/lib/python3.7/dist-packages (from importlib-metadata->sqlalchemy>=1.1.0->optuna) (3.8.0)\n",
            "Requirement already satisfied: MarkupSafe>=0.9.2 in /usr/local/lib/python3.7/dist-packages (from Mako->alembic->optuna) (2.0.1)\n"
          ]
        }
      ],
      "source": [
        "# Install other dependecies for Nano HPO\n",
        "!pip install ConfigSpace\n",
        "!pip install optuna"
      ]
    },
    {
      "cell_type": "markdown",
      "metadata": {
        "id": "xKKCHTU9BfUn"
      },
      "source": [
        "# Step1: Init Nano AutoML\n",
        "We need to enable Nano HPO before we use it for tensorflow training."
      ]
    },
    {
      "cell_type": "code",
      "execution_count": 4,
      "metadata": {
        "id": "gF1XGVtuBfUn"
      },
      "outputs": [],
      "source": [
        "import bigdl.nano.automl as automl\n",
        "import bigdl.nano.automl.hpo as hpo\n",
        "automl.hpo_config.enable_hpo_tf()"
      ]
    },
    {
      "cell_type": "markdown",
      "metadata": {
        "id": "3InpJGOuBfUp"
      },
      "source": [
        "# Step2: Prepare data\n",
        "We use fashion MNIST dataset for demonstration."
      ]
    },
    {
      "cell_type": "code",
      "execution_count": 5,
      "metadata": {
        "id": "A4AjqFBTBfUp"
      },
      "outputs": [],
      "source": [
        "from tensorflow import keras\n",
        "(x_train, y_train), (x_test, y_test) = keras.datasets.fashion_mnist.load_data()\n",
        "\n",
        "CLASSES = 10\n",
        "\n",
        "img_x, img_y = x_train.shape[1], x_train.shape[2]\n",
        "x_train = x_train.reshape(-1, img_x, img_y,1).astype(\"float32\") / 255\n",
        "x_test = x_test.reshape(-1, img_x, img_y,1).astype(\"float32\") / 255"
      ]
    },
    {
      "cell_type": "markdown",
      "metadata": {
        "id": "hwrtVD9yBfUq"
      },
      "source": [
        "# Step3: Build model and specify search spaces\n",
        "We now create our model. \n",
        "\n",
        "Decorate the model class with hpo.tfmodel, and you will be able to specify search spaces in init arguments when creating the model, as shown below. For more details, refer to [user doc](https://bigdl.readthedocs.io/en/latest/doc/Nano/QuickStart/hpo.html).\n"
      ]
    },
    {
      "cell_type": "code",
      "execution_count": 6,
      "metadata": {
        "id": "uRFIRllGr0xu"
      },
      "outputs": [],
      "source": [
        "import tensorflow as tf\n",
        "from tensorflow.keras.datasets import mnist\n",
        "from tensorflow.keras.layers import Conv2D, Dropout, MaxPooling2D\n",
        "from tensorflow.keras.layers import Dense\n",
        "from tensorflow.keras.layers import Flatten"
      ]
    },
    {
      "cell_type": "code",
      "execution_count": 7,
      "metadata": {
        "id": "SNmZHFMMBfUr"
      },
      "outputs": [],
      "source": [
        "import tensorflow as tf\n",
        "@hpo.tfmodel()\n",
        "class MyModel(tf.keras.Model):\n",
        "\n",
        "    def __init__(self, filters, kernel_size, strides, activation):\n",
        "        super().__init__()\n",
        "        self.conv1 = Conv2D(\n",
        "            filters=filters,\n",
        "            kernel_size=kernel_size,\n",
        "            strides=strides,\n",
        "            activation=activation)\n",
        "        self.pool1 = MaxPooling2D(pool_size=2)\n",
        "        self.drop1 = Dropout(0.3)\n",
        "        self.flat = Flatten()\n",
        "        self.dense1 = Dense(256, activation='relu')\n",
        "        self.drop3 = Dropout(0.5)\n",
        "        self.dense2 = Dense(CLASSES, activation=\"softmax\")\n",
        "\n",
        "    def call(self, inputs):\n",
        "        x = self.conv1(inputs)\n",
        "        x = self.pool1(x)\n",
        "        x = self.drop1(x)\n",
        "        x = self.flat(x)\n",
        "        x = self.dense1(x)\n",
        "        x = self.drop3(x)\n",
        "        x = self.dense2(x)\n",
        "        return x\n",
        "model = MyModel(\n",
        "    filters=hpo.space.Categorical(32, 64),\n",
        "    kernel_size=hpo.space.Categorical(2, 4),\n",
        "    strides=hpo.space.Categorical(1, 2),\n",
        "    activation=hpo.space.Categorical(\"relu\", \"linear\")\n",
        ")"
      ]
    },
    {
      "cell_type": "markdown",
      "metadata": {
        "id": "msSa9fyeGHTU"
      },
      "source": [
        "# Step4: Compile model\n",
        "We now compile our model with loss function, optimizer and metrics. If you want to tune learning rate and batch size, refer to [user guide](https://bigdl.readthedocs.io/en/latest/doc/Nano/QuickStart/hpo.html#search-the-learning-rate)."
      ]
    },
    {
      "cell_type": "code",
      "execution_count": 8,
      "metadata": {
        "id": "PfeBIEmoGHxA"
      },
      "outputs": [],
      "source": [
        "from tensorflow.keras.optimizers import RMSprop\n",
        "model.compile(\n",
        "    loss=\"sparse_categorical_crossentropy\",\n",
        "    optimizer=RMSprop(learning_rate=0.001),\n",
        "    metrics=[\"accuracy\"],\n",
        ")"
      ]
    },
    {
      "cell_type": "markdown",
      "metadata": {
        "id": "tuZXTIjXBfUs"
      },
      "source": [
        "# Step5: Run hyperparameter search\n",
        "Run hyperparameter search by calling `model.search`. Set the `target_metric` and `direction` so that HPO optimizes the `target_metric` in the specified `direction`. Each trial will use a different set of hyperparameters in the search space range. Use `n_parallels` to set the nubmer of parallel processes to run trials. After search completes, you can use `search_summary` to retrive the search results for analysis. For more details, refer to [user doc](https://bigdl.readthedocs.io/en/latest/doc/Nano/QuickStart/hpo.html)."
      ]
    },
    {
      "cell_type": "code",
      "execution_count": 9,
      "metadata": {
        "colab": {
          "base_uri": "https://localhost:8080/"
        },
        "id": "hfBS_1JLBfUs",
        "outputId": "6102e673-5b17-48c2-f5e2-90718f18db18"
      },
      "outputs": [
        {
          "name": "stderr",
          "output_type": "stream",
          "text": [
            "\u001b[32m[I 2022-06-13 06:23:34,502]\u001b[0m A new study created in memory with name: no-name-a06257c6-a349-4645-a030-4dfd3afabbe9\u001b[0m\n"
          ]
        },
        {
          "name": "stdout",
          "output_type": "stream",
          "text": [
            "Starting a new tuning\n",
            "Epoch 1/5\n",
            "375/375 - 47s - loss: 0.5125 - accuracy: 0.8188 - val_loss: 0.3521 - val_accuracy: 0.8740 - 47s/epoch - 125ms/step\n",
            "Epoch 2/5\n",
            "375/375 - 45s - loss: 0.3523 - accuracy: 0.8741 - val_loss: 0.3122 - val_accuracy: 0.8877 - 45s/epoch - 121ms/step\n",
            "Epoch 3/5\n",
            "375/375 - 45s - loss: 0.3117 - accuracy: 0.8886 - val_loss: 0.2945 - val_accuracy: 0.8926 - 45s/epoch - 119ms/step\n",
            "Epoch 4/5\n",
            "375/375 - 44s - loss: 0.2822 - accuracy: 0.8977 - val_loss: 0.2819 - val_accuracy: 0.8988 - 44s/epoch - 118ms/step\n",
            "Epoch 5/5\n",
            "375/375 - 44s - loss: 0.2662 - accuracy: 0.9028 - val_loss: 0.2744 - val_accuracy: 0.8974 - 44s/epoch - 118ms/step\n"
          ]
        },
        {
          "name": "stderr",
          "output_type": "stream",
          "text": [
            "\u001b[32m[I 2022-06-13 06:27:57,262]\u001b[0m Trial 0 finished with value: 0.8987500071525574 and parameters: {'activation▁choice': 1, 'filters▁choice': 1, 'kernel_size▁choice': 1, 'strides▁choice': 0}. Best is trial 0 with value: 0.8987500071525574.\u001b[0m\n"
          ]
        },
        {
          "name": "stdout",
          "output_type": "stream",
          "text": [
            "Epoch 1/5\n",
            "375/375 - 25s - loss: 0.5594 - accuracy: 0.8027 - val_loss: 0.3800 - val_accuracy: 0.8586 - 25s/epoch - 68ms/step\n",
            "Epoch 2/5\n"
          ]
        },
        {
          "name": "stderr",
          "output_type": "stream",
          "text": [
            "\u001b[32m[I 2022-06-13 06:28:46,633]\u001b[0m Trial 1 pruned. Trial was pruned at epoch 1.\u001b[0m\n"
          ]
        },
        {
          "name": "stdout",
          "output_type": "stream",
          "text": [
            "Epoch 1/5\n",
            "375/375 - 49s - loss: 0.5525 - accuracy: 0.8068 - val_loss: 0.3561 - val_accuracy: 0.8711 - 49s/epoch - 132ms/step\n",
            "Epoch 2/5\n"
          ]
        },
        {
          "name": "stderr",
          "output_type": "stream",
          "text": [
            "\u001b[32m[I 2022-06-13 06:30:25,527]\u001b[0m Trial 2 pruned. Trial was pruned at epoch 1.\u001b[0m\n"
          ]
        },
        {
          "name": "stdout",
          "output_type": "stream",
          "text": [
            "Epoch 1/5\n",
            "375/375 - 23s - loss: 0.5466 - accuracy: 0.8076 - val_loss: 0.3785 - val_accuracy: 0.8598 - 23s/epoch - 61ms/step\n",
            "Epoch 2/5\n"
          ]
        },
        {
          "name": "stderr",
          "output_type": "stream",
          "text": [
            "\u001b[32m[I 2022-06-13 06:31:10,345]\u001b[0m Trial 3 pruned. Trial was pruned at epoch 1.\u001b[0m\n"
          ]
        },
        {
          "name": "stdout",
          "output_type": "stream",
          "text": [
            "Epoch 1/5\n",
            "375/375 - 23s - loss: 0.5315 - accuracy: 0.8111 - val_loss: 0.3743 - val_accuracy: 0.8633 - 23s/epoch - 61ms/step\n",
            "Epoch 2/5\n",
            "375/375 - 22s - loss: 0.3656 - accuracy: 0.8678 - val_loss: 0.3231 - val_accuracy: 0.8813 - 22s/epoch - 60ms/step\n",
            "Epoch 3/5\n",
            "375/375 - 23s - loss: 0.3223 - accuracy: 0.8836 - val_loss: 0.3039 - val_accuracy: 0.8891 - 23s/epoch - 60ms/step\n",
            "Epoch 4/5\n",
            "375/375 - 22s - loss: 0.2966 - accuracy: 0.8928 - val_loss: 0.2862 - val_accuracy: 0.8982 - 22s/epoch - 58ms/step\n",
            "Epoch 5/5\n",
            "375/375 - 21s - loss: 0.2772 - accuracy: 0.9000 - val_loss: 0.2834 - val_accuracy: 0.8991 - 21s/epoch - 57ms/step\n"
          ]
        },
        {
          "name": "stderr",
          "output_type": "stream",
          "text": [
            "\u001b[32m[I 2022-06-13 06:33:32,998]\u001b[0m Trial 4 finished with value: 0.8990833163261414 and parameters: {'activation▁choice': 1, 'filters▁choice': 0, 'kernel_size▁choice': 1, 'strides▁choice': 0}. Best is trial 4 with value: 0.8990833163261414.\u001b[0m\n"
          ]
        },
        {
          "name": "stdout",
          "output_type": "stream",
          "text": [
            "Epoch 1/5\n",
            "375/375 - 46s - loss: 0.4967 - accuracy: 0.8263 - val_loss: 0.3656 - val_accuracy: 0.8668 - 46s/epoch - 123ms/step\n",
            "Epoch 2/5\n"
          ]
        },
        {
          "name": "stderr",
          "output_type": "stream",
          "text": [
            "\u001b[32m[I 2022-06-13 06:35:03,528]\u001b[0m Trial 5 pruned. Trial was pruned at epoch 1.\u001b[0m\n"
          ]
        },
        {
          "name": "stdout",
          "output_type": "stream",
          "text": [
            "Epoch 1/5\n",
            "375/375 - 17s - loss: 0.6242 - accuracy: 0.7772 - val_loss: 0.4095 - val_accuracy: 0.8489 - 17s/epoch - 46ms/step\n",
            "Epoch 2/5\n"
          ]
        },
        {
          "name": "stderr",
          "output_type": "stream",
          "text": [
            "\u001b[32m[I 2022-06-13 06:36:30,374]\u001b[0m Trial 6 pruned. Trial was pruned at epoch 1.\u001b[0m\n"
          ]
        },
        {
          "name": "stdout",
          "output_type": "stream",
          "text": [
            "Epoch 1/5\n",
            "375/375 - 16s - loss: 0.6435 - accuracy: 0.7701 - val_loss: 0.4344 - val_accuracy: 0.8454 - 16s/epoch - 43ms/step\n",
            "Epoch 2/5\n"
          ]
        },
        {
          "name": "stderr",
          "output_type": "stream",
          "text": [
            "\u001b[32m[I 2022-06-13 06:37:09,168]\u001b[0m Trial 7 pruned. Trial was pruned at epoch 1.\u001b[0m\n"
          ]
        },
        {
          "name": "stdout",
          "output_type": "stream",
          "text": [
            "Epoch 1/5\n",
            "375/375 - 23s - loss: 0.5235 - accuracy: 0.8152 - val_loss: 0.3697 - val_accuracy: 0.8642 - 23s/epoch - 60ms/step\n",
            "Epoch 2/5\n",
            "375/375 - 21s - loss: 0.3604 - accuracy: 0.8696 - val_loss: 0.3096 - val_accuracy: 0.8859 - 21s/epoch - 57ms/step\n",
            "Epoch 3/5\n",
            "375/375 - 22s - loss: 0.3195 - accuracy: 0.8853 - val_loss: 0.3092 - val_accuracy: 0.8863 - 22s/epoch - 59ms/step\n",
            "Epoch 4/5\n"
          ]
        },
        {
          "name": "stderr",
          "output_type": "stream",
          "text": [
            "\u001b[32m[I 2022-06-13 06:38:47,065]\u001b[0m Trial 8 pruned. Trial was pruned at epoch 3.\u001b[0m\n"
          ]
        },
        {
          "name": "stdout",
          "output_type": "stream",
          "text": [
            "Epoch 1/5\n",
            "375/375 - 48s - loss: 0.5310 - accuracy: 0.8099 - val_loss: 0.3456 - val_accuracy: 0.8758 - 48s/epoch - 129ms/step\n",
            "Epoch 2/5\n",
            "375/375 - 49s - loss: 0.3563 - accuracy: 0.8725 - val_loss: 0.3082 - val_accuracy: 0.8908 - 49s/epoch - 131ms/step\n",
            "Epoch 3/5\n",
            "375/375 - 48s - loss: 0.3148 - accuracy: 0.8851 - val_loss: 0.2993 - val_accuracy: 0.8919 - 48s/epoch - 127ms/step\n",
            "Epoch 4/5\n"
          ]
        },
        {
          "name": "stderr",
          "output_type": "stream",
          "text": [
            "\u001b[32m[I 2022-06-13 06:41:59,637]\u001b[0m Trial 9 pruned. Trial was pruned at epoch 3.\u001b[0m\n"
          ]
        },
        {
          "name": "stdout",
          "output_type": "stream",
          "text": [
            "CPU times: user 23min 23s, sys: 7min 46s, total: 31min 9s\n",
            "Wall time: 18min 25s\n"
          ]
        }
      ],
      "source": [
        "%%time\n",
        "from bigdl.nano.automl.hpo.backend import PrunerType\n",
        "model.search(\n",
        "    n_trials=5,\n",
        "    target_metric='val_accuracy',\n",
        "    direction=\"maximize\",\n",
        "    pruner=PrunerType.HyperBand,\n",
        "    pruner_kwargs={'min_resource':1, 'max_resource':100, 'reduction_factor':3},\n",
        "    x=x_train,\n",
        "    y=y_train,\n",
        "    batch_size=128,\n",
        "    epochs=5,\n",
        "    validation_split=0.2,\n",
        "    verbose=False,\n",
        ")"
      ]
    },
    {
      "cell_type": "code",
      "execution_count": 10,
      "metadata": {
        "colab": {
          "base_uri": "https://localhost:8080/"
        },
        "id": "jeK1hT42HCD5",
        "outputId": "19bb1eea-88c9-4c17-bc87-67bbbee56d46"
      },
      "outputs": [
        {
          "name": "stdout",
          "output_type": "stream",
          "text": [
            "Number of finished trials: 10\n",
            "Best trial:\n",
            "  Value: 0.8990833163261414\n",
            "  Params: \n",
            "    activation▁choice: 1\n",
            "    filters▁choice: 0\n",
            "    kernel_size▁choice: 1\n",
            "    strides▁choice: 0\n",
            "<optuna.study.study.Study object at 0x7f3893d8c550>\n"
          ]
        }
      ],
      "source": [
        "print(model.search_summary())"
      ]
    },
    {
      "cell_type": "code",
      "execution_count": null,
      "metadata": {},
      "outputs": [],
      "source": [
        "study = model.search_summary()\n",
        "study.trials_dataframe(attrs=(\"number\", \"value\", \"params\", \"state\"))"
      ]
    },
    {
      "cell_type": "markdown",
      "metadata": {
        "id": "NVDG1hl-BfUt"
      },
      "source": [
        "# Step 6: fit with the best hyperparameters\n",
        "After search, `model.fit` will autotmatically use the best hyperparmeters found in search to fit the model."
      ]
    },
    {
      "cell_type": "code",
      "execution_count": 11,
      "metadata": {
        "colab": {
          "base_uri": "https://localhost:8080/"
        },
        "id": "aAet3uX5BfUt",
        "outputId": "a96b1555-bc19-403b-e498-b098948d0e3c"
      },
      "outputs": [
        {
          "name": "stdout",
          "output_type": "stream",
          "text": [
            "Epoch 1/5\n",
            "375/375 [==============================] - 26s 67ms/step - loss: 0.5505 - accuracy: 0.8066 - val_loss: 0.3706 - val_accuracy: 0.8658\n",
            "Epoch 2/5\n",
            "375/375 [==============================] - 25s 66ms/step - loss: 0.3666 - accuracy: 0.8669 - val_loss: 0.3217 - val_accuracy: 0.8813\n",
            "Epoch 3/5\n",
            "375/375 [==============================] - 24s 65ms/step - loss: 0.3244 - accuracy: 0.8840 - val_loss: 0.2989 - val_accuracy: 0.8913\n",
            "Epoch 4/5\n",
            "375/375 [==============================] - 24s 64ms/step - loss: 0.2991 - accuracy: 0.8914 - val_loss: 0.2910 - val_accuracy: 0.8930\n",
            "Epoch 5/5\n",
            "375/375 [==============================] - 25s 67ms/step - loss: 0.2839 - accuracy: 0.8970 - val_loss: 0.2779 - val_accuracy: 0.8999\n",
            "313/313 - 2s - loss: 0.2883 - accuracy: 0.8949 - 2s/epoch - 5ms/step\n",
            "Test loss: 0.28826311230659485\n",
            "Test accuracy: 0.8949000239372253\n"
          ]
        }
      ],
      "source": [
        "history = model.fit(x_train, y_train,\n",
        "                    batch_size=128, epochs=5, validation_split=0.2)\n",
        "\n",
        "test_scores = model.evaluate(x_test, y_test, verbose=2)\n",
        "print(\"Test loss:\", test_scores[0])\n",
        "print(\"Test accuracy:\", test_scores[1])"
      ]
    },
    {
      "cell_type": "markdown",
      "metadata": {
        "id": "9JKTKAGQBfUt"
      },
      "source": [
        "Check out the summary of the model. The model has already been built with the best hyperparameters found by nano hpo."
      ]
    },
    {
      "cell_type": "code",
      "execution_count": 12,
      "metadata": {
        "colab": {
          "base_uri": "https://localhost:8080/"
        },
        "id": "d8O_cz4DBfUu",
        "outputId": "03ad5802-842f-438f-a9f0-7f05d622ee1c"
      },
      "outputs": [
        {
          "name": "stdout",
          "output_type": "stream",
          "text": [
            "Model: \"my_model_1\"\n",
            "_________________________________________________________________\n",
            " Layer (type)                Output Shape              Param #   \n",
            "=================================================================\n",
            " conv2d_1 (Conv2D)           multiple                  544       \n",
            "                                                                 \n",
            " max_pooling2d_1 (MaxPooling  multiple                 0         \n",
            " 2D)                                                             \n",
            "                                                                 \n",
            " dropout_2 (Dropout)         multiple                  0         \n",
            "                                                                 \n",
            " flatten_1 (Flatten)         multiple                  0         \n",
            "                                                                 \n",
            " dense_2 (Dense)             multiple                  1179904   \n",
            "                                                                 \n",
            " dropout_3 (Dropout)         multiple                  0         \n",
            "                                                                 \n",
            " dense_3 (Dense)             multiple                  2570      \n",
            "                                                                 \n",
            "=================================================================\n",
            "Total params: 1,183,018\n",
            "Trainable params: 1,183,018\n",
            "Non-trainable params: 0\n",
            "_________________________________________________________________\n",
            "None\n"
          ]
        }
      ],
      "source": [
        "print(model.summary())"
      ]
    }
  ],
  "metadata": {
    "colab": {
      "collapsed_sections": [],
      "name": "custom.ipynb",
      "provenance": []
    },
    "kernelspec": {
      "display_name": "Python 3 (ipykernel)",
      "language": "python",
      "name": "python3"
    },
    "language_info": {
      "codemirror_mode": {
        "name": "ipython",
        "version": 3
      },
      "file_extension": ".py",
      "mimetype": "text/x-python",
      "name": "python",
      "nbconvert_exporter": "python",
      "pygments_lexer": "ipython3",
      "version": "3.7.13"
    }
  },
  "nbformat": 4,
  "nbformat_minor": 0
}
