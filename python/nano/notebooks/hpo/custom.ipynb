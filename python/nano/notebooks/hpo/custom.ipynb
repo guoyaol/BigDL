{
 "cells": [
  {
   "cell_type": "markdown",
   "metadata": {},
   "source": [
    "**In this guide we will demonstrate how to use Nano AutoML to auto tune an machine learning model and handle the whole model development process easily.**"
   ]
  },
  {
   "cell_type": "markdown",
   "metadata": {},
   "source": [
    "# Introduction\n",
    "Nano provides hpo as an solution for fast and high-performance hyperparameter tuning. Users can import hano hpo following the standard tensorflow API without changing their own code. By setting the search space and running model.search(), the model will contain the best hyperparameters.\n",
    "\n",
    "Nano hpo supports sequential, fuctional and custom keras API.\n"
   ]
  },
  {
   "cell_type": "markdown",
   "metadata": {},
   "source": [
    "# Step0: Prepare Environment\n",
    "We recommend using conda to prepare the environment.\n",
    "conda create -n my_env python=3.7\n",
    "\n",
    "conda activate my_env\n",
    "\n",
    "pip install --pre --upgrade bigdl"
   ]
  },
  {
   "cell_type": "markdown",
   "metadata": {},
   "source": [
    "# Step1: Init Nano AutoML\n",
    "Let's start out by importing Nano AutoML and enable its tensorflow API globally by automl.hpo_config.enable_hpo_tf()."
   ]
  },
  {
   "cell_type": "code",
   "execution_count": 1,
   "metadata": {},
   "outputs": [
    {
     "name": "stderr",
     "output_type": "stream",
     "text": [
      "../../src/bigdl/nano/tf/__init__.py:24: UserWarning: NANO_TF_INTER_OP not found the in os.environ, please run `source bigdl-nano-init`\n",
      "  warnings.warn(\"NANO_TF_INTER_OP not found the in os.environ, \"\n",
      "../../src/bigdl/nano/tf/__init__.py:30: UserWarning: OMP_NUM_THREADS not found the in os.environ, please run `source bigdl-nano-init`\n",
      "  warnings.warn(\"OMP_NUM_THREADS not found the in os.environ, \"\n"
     ]
    }
   ],
   "source": [
    "import bigdl.nano.automl as automl\n",
    "import bigdl.nano.automl.hpo as hpo\n",
    "automl.hpo_config.enable_hpo_tf()\n",
    "\n",
    "import tensorflow as tf\n",
    "from tensorflow import keras\n",
    "from tensorflow.keras.datasets import mnist\n",
    "from tensorflow.keras.layers import Conv2D, Dropout, MaxPooling2D\n",
    "from tensorflow.keras.layers import Dense\n",
    "from tensorflow.keras.layers import Flatten\n",
    "from tensorflow.keras.optimizers import RMSprop"
   ]
  },
  {
   "cell_type": "markdown",
   "metadata": {},
   "source": [
    "# Step2: Prepare data\n",
    "We will load MNIST as our data."
   ]
  },
  {
   "cell_type": "code",
   "execution_count": 2,
   "metadata": {},
   "outputs": [],
   "source": [
    "CLASSES = 10\n",
    "\n",
    "(x_train, y_train), (x_test, y_test) = keras.datasets.fashion_mnist.load_data()\n",
    "img_x, img_y = x_train.shape[1], x_train.shape[2]\n",
    "x_train = x_train.reshape(-1, img_x, img_y,1).astype(\"float32\") / 255\n",
    "x_test = x_test.reshape(-1, img_x, img_y,1).astype(\"float32\") / 255"
   ]
  },
  {
   "cell_type": "markdown",
   "metadata": {},
   "source": [
    "# Step3: Set search space\n",
    "We now create our custom model class. \n",
    "\n",
    "Whenever you want to search a hyperparameter, you can simply replace it with a space and set your own searching space \n"
   ]
  },
  {
   "cell_type": "code",
   "execution_count": 3,
   "metadata": {},
   "outputs": [
    {
     "name": "stderr",
     "output_type": "stream",
     "text": [
      "2022-05-25 15:06:47.542293: I tensorflow/core/platform/cpu_feature_guard.cc:151] This TensorFlow binary is optimized with oneAPI Deep Neural Network Library (oneDNN) to use the following CPU instructions in performance-critical operations:  AVX2 FMA\n",
      "To enable them in other operations, rebuild TensorFlow with the appropriate compiler flags.\n",
      "2022-05-25 15:06:47.543561: I tensorflow/core/common_runtime/process_util.cc:146] Creating new thread pool with default inter op setting: \n"
     ]
    }
   ],
   "source": [
    "@hpo.tfmodel()\n",
    "class MyModel(tf.keras.Model):\n",
    "\n",
    "    def __init__(self, filters, kernel_size, strides, activation):\n",
    "        super().__init__()\n",
    "        self.conv1 = Conv2D(\n",
    "            filters=filters,\n",
    "            kernel_size=kernel_size,\n",
    "            strides=strides,\n",
    "            activation=activation)\n",
    "        self.pool1 = MaxPooling2D(pool_size=2)\n",
    "        self.drop1 = Dropout(0.3)\n",
    "        self.flat = Flatten()\n",
    "        self.dense1 = Dense(256, activation='relu')\n",
    "        self.drop3 = Dropout(0.5)\n",
    "        self.dense2 = Dense(CLASSES, activation=\"softmax\")\n",
    "\n",
    "    def call(self, inputs):\n",
    "        x = self.conv1(inputs)\n",
    "        x = self.pool1(x)\n",
    "        x = self.drop1(x)\n",
    "        x = self.flat(x)\n",
    "        x = self.dense1(x)\n",
    "        x = self.drop3(x)\n",
    "        x = self.dense2(x)\n",
    "        return x\n",
    "model = MyModel(\n",
    "    filters=hpo.space.Categorical(32, 64),\n",
    "    kernel_size=hpo.space.Categorical(2, 4),\n",
    "    strides=hpo.space.Categorical(1, 2),\n",
    "    activation=hpo.space.Categorical(\"relu\", \"linear\")\n",
    ")\n",
    "model.compile(\n",
    "    loss=\"sparse_categorical_crossentropy\",\n",
    "    optimizer=RMSprop(learning_rate=5e-4),\n",
    "    metrics=[\"accuracy\"],\n",
    ")"
   ]
  },
  {
   "cell_type": "markdown",
   "metadata": {},
   "source": [
    "# Step4: Run hyperparameter search\n",
    "Apply hyperparameter searching by calling model.search(), and best hyperparameters will be saved in the model.\n",
    "\n",
    "You can specify the number of trial, each trial will use a set of hyperparameters automatiacally suggusted by nano.hpo. \n",
    "\n",
    "You can set your target metric and whehter you want to maximize or minimize it."
   ]
  },
  {
   "cell_type": "code",
   "execution_count": 4,
   "metadata": {},
   "outputs": [
    {
     "name": "stderr",
     "output_type": "stream",
     "text": [
      "\u001b[32m[I 2022-05-25 15:06:47,620]\u001b[0m A new study created in memory with name: no-name-2f770d53-1b57-445f-bb72-2f6e69ade389\u001b[0m\n"
     ]
    },
    {
     "name": "stdout",
     "output_type": "stream",
     "text": [
      "Starting a new tuning\n",
      "Epoch 1/24\n",
      "375/375 - 30s - loss: 0.5556 - accuracy: 0.8084 - val_loss: 0.3723 - val_accuracy: 0.8668 - 30s/epoch - 79ms/step\n",
      "Epoch 2/24\n",
      "375/375 - 29s - loss: 0.3765 - accuracy: 0.8658 - val_loss: 0.3297 - val_accuracy: 0.8813 - 29s/epoch - 76ms/step\n",
      "Epoch 3/24\n",
      "375/375 - 30s - loss: 0.3328 - accuracy: 0.8813 - val_loss: 0.3059 - val_accuracy: 0.8888 - 30s/epoch - 79ms/step\n",
      "Epoch 4/24\n",
      "375/375 - 29s - loss: 0.3033 - accuracy: 0.8895 - val_loss: 0.2921 - val_accuracy: 0.8949 - 29s/epoch - 77ms/step\n",
      "Epoch 5/24\n",
      "375/375 - 29s - loss: 0.2844 - accuracy: 0.8968 - val_loss: 0.2850 - val_accuracy: 0.8968 - 29s/epoch - 77ms/step\n",
      "Epoch 6/24\n",
      "375/375 - 29s - loss: 0.2684 - accuracy: 0.9017 - val_loss: 0.2764 - val_accuracy: 0.9009 - 29s/epoch - 77ms/step\n",
      "Epoch 7/24\n",
      "375/375 - 29s - loss: 0.2572 - accuracy: 0.9067 - val_loss: 0.2692 - val_accuracy: 0.9028 - 29s/epoch - 77ms/step\n",
      "Epoch 8/24\n",
      "375/375 - 29s - loss: 0.2432 - accuracy: 0.9122 - val_loss: 0.2627 - val_accuracy: 0.9046 - 29s/epoch - 79ms/step\n",
      "Epoch 9/24\n",
      "375/375 - 29s - loss: 0.2323 - accuracy: 0.9156 - val_loss: 0.2619 - val_accuracy: 0.9071 - 29s/epoch - 77ms/step\n",
      "Epoch 10/24\n",
      "375/375 - 30s - loss: 0.2244 - accuracy: 0.9197 - val_loss: 0.2593 - val_accuracy: 0.9051 - 30s/epoch - 79ms/step\n",
      "Epoch 11/24\n",
      "375/375 - 31s - loss: 0.2140 - accuracy: 0.9226 - val_loss: 0.2550 - val_accuracy: 0.9092 - 31s/epoch - 82ms/step\n",
      "Epoch 12/24\n",
      "375/375 - 30s - loss: 0.2091 - accuracy: 0.9234 - val_loss: 0.2624 - val_accuracy: 0.9103 - 30s/epoch - 80ms/step\n",
      "Epoch 13/24\n",
      "375/375 - 30s - loss: 0.2004 - accuracy: 0.9271 - val_loss: 0.2514 - val_accuracy: 0.9129 - 30s/epoch - 80ms/step\n",
      "Epoch 14/24\n",
      "375/375 - 30s - loss: 0.1956 - accuracy: 0.9289 - val_loss: 0.2503 - val_accuracy: 0.9117 - 30s/epoch - 80ms/step\n",
      "Epoch 15/24\n",
      "375/375 - 29s - loss: 0.1875 - accuracy: 0.9313 - val_loss: 0.2598 - val_accuracy: 0.9087 - 29s/epoch - 78ms/step\n",
      "Epoch 16/24\n",
      "375/375 - 29s - loss: 0.1835 - accuracy: 0.9341 - val_loss: 0.2595 - val_accuracy: 0.9126 - 29s/epoch - 76ms/step\n",
      "Epoch 17/24\n",
      "375/375 - 29s - loss: 0.1781 - accuracy: 0.9355 - val_loss: 0.2589 - val_accuracy: 0.9153 - 29s/epoch - 78ms/step\n",
      "Epoch 18/24\n",
      "375/375 - 30s - loss: 0.1743 - accuracy: 0.9367 - val_loss: 0.2619 - val_accuracy: 0.9141 - 30s/epoch - 81ms/step\n",
      "Epoch 19/24\n",
      "375/375 - 31s - loss: 0.1670 - accuracy: 0.9392 - val_loss: 0.2623 - val_accuracy: 0.9134 - 31s/epoch - 82ms/step\n",
      "Epoch 20/24\n",
      "375/375 - 30s - loss: 0.1649 - accuracy: 0.9397 - val_loss: 0.2623 - val_accuracy: 0.9147 - 30s/epoch - 81ms/step\n",
      "Epoch 21/24\n",
      "375/375 - 30s - loss: 0.1623 - accuracy: 0.9409 - val_loss: 0.2603 - val_accuracy: 0.9145 - 30s/epoch - 79ms/step\n",
      "Epoch 22/24\n",
      "375/375 - 30s - loss: 0.1565 - accuracy: 0.9441 - val_loss: 0.2688 - val_accuracy: 0.9128 - 30s/epoch - 80ms/step\n",
      "Epoch 23/24\n",
      "375/375 - 31s - loss: 0.1532 - accuracy: 0.9452 - val_loss: 0.2790 - val_accuracy: 0.9142 - 31s/epoch - 83ms/step\n",
      "Epoch 24/24\n",
      "375/375 - 31s - loss: 0.1532 - accuracy: 0.9452 - val_loss: 0.2707 - val_accuracy: 0.9130 - 31s/epoch - 83ms/step\n"
     ]
    },
    {
     "name": "stderr",
     "output_type": "stream",
     "text": [
      "\u001b[32m[I 2022-05-25 15:18:40,523]\u001b[0m Trial 0 finished with value: 0.9153333306312561 and parameters: {'activation▁choice': 1, 'filters▁choice': 1, 'kernel_size▁choice': 1, 'strides▁choice': 0}. Best is trial 0 with value: 0.9153333306312561.\u001b[0m\n"
     ]
    },
    {
     "name": "stdout",
     "output_type": "stream",
     "text": [
      "Epoch 1/24\n",
      "375/375 - 11s - loss: 0.6753 - accuracy: 0.7632 - val_loss: 0.4510 - val_accuracy: 0.8367 - 11s/epoch - 29ms/step\n",
      "Epoch 2/24\n",
      "375/375 - 11s - loss: 0.4516 - accuracy: 0.8370 - val_loss: 0.3902 - val_accuracy: 0.8594 - 11s/epoch - 28ms/step\n",
      "Epoch 3/24\n",
      "375/375 - 9s - loss: 0.4034 - accuracy: 0.8531 - val_loss: 0.3589 - val_accuracy: 0.8702 - 9s/epoch - 23ms/step\n",
      "Epoch 4/24\n",
      "375/375 - 10s - loss: 0.3729 - accuracy: 0.8650 - val_loss: 0.3391 - val_accuracy: 0.8792 - 10s/epoch - 26ms/step\n",
      "Epoch 5/24\n",
      "375/375 - 10s - loss: 0.3549 - accuracy: 0.8720 - val_loss: 0.3294 - val_accuracy: 0.8802 - 10s/epoch - 25ms/step\n",
      "Epoch 6/24\n",
      "375/375 - 9s - loss: 0.3379 - accuracy: 0.8761 - val_loss: 0.3211 - val_accuracy: 0.8848 - 9s/epoch - 23ms/step\n",
      "Epoch 7/24\n",
      "375/375 - 11s - loss: 0.3247 - accuracy: 0.8814 - val_loss: 0.3185 - val_accuracy: 0.8802 - 11s/epoch - 29ms/step\n",
      "Epoch 8/24\n",
      "375/375 - 8s - loss: 0.3173 - accuracy: 0.8848 - val_loss: 0.3035 - val_accuracy: 0.8906 - 8s/epoch - 20ms/step\n",
      "Epoch 9/24\n",
      "375/375 - 5s - loss: 0.3077 - accuracy: 0.8886 - val_loss: 0.3059 - val_accuracy: 0.8897 - 5s/epoch - 14ms/step\n",
      "Epoch 10/24\n",
      "375/375 - 5s - loss: 0.3034 - accuracy: 0.8908 - val_loss: 0.2960 - val_accuracy: 0.8928 - 5s/epoch - 14ms/step\n",
      "Epoch 11/24\n",
      "375/375 - 6s - loss: 0.2974 - accuracy: 0.8913 - val_loss: 0.2977 - val_accuracy: 0.8932 - 6s/epoch - 16ms/step\n",
      "Epoch 12/24\n",
      "375/375 - 10s - loss: 0.2955 - accuracy: 0.8928 - val_loss: 0.2890 - val_accuracy: 0.8955 - 10s/epoch - 26ms/step\n",
      "Epoch 13/24\n",
      "375/375 - 9s - loss: 0.2845 - accuracy: 0.8967 - val_loss: 0.2898 - val_accuracy: 0.8952 - 9s/epoch - 23ms/step\n",
      "Epoch 14/24\n",
      "375/375 - 9s - loss: 0.2834 - accuracy: 0.8976 - val_loss: 0.2876 - val_accuracy: 0.8976 - 9s/epoch - 23ms/step\n",
      "Epoch 15/24\n",
      "375/375 - 9s - loss: 0.2792 - accuracy: 0.8976 - val_loss: 0.2857 - val_accuracy: 0.8950 - 9s/epoch - 25ms/step\n",
      "Epoch 16/24\n",
      "375/375 - 8s - loss: 0.2775 - accuracy: 0.8992 - val_loss: 0.2824 - val_accuracy: 0.9006 - 8s/epoch - 22ms/step\n",
      "Epoch 17/24\n",
      "375/375 - 5s - loss: 0.2687 - accuracy: 0.9021 - val_loss: 0.2815 - val_accuracy: 0.9003 - 5s/epoch - 14ms/step\n",
      "Epoch 18/24\n",
      "375/375 - 5s - loss: 0.2658 - accuracy: 0.9029 - val_loss: 0.2838 - val_accuracy: 0.8985 - 5s/epoch - 14ms/step\n",
      "Epoch 19/24\n",
      "375/375 - 5s - loss: 0.2657 - accuracy: 0.9042 - val_loss: 0.2782 - val_accuracy: 0.9000 - 5s/epoch - 14ms/step\n",
      "Epoch 20/24\n",
      "375/375 - 5s - loss: 0.2603 - accuracy: 0.9057 - val_loss: 0.2793 - val_accuracy: 0.9016 - 5s/epoch - 14ms/step\n",
      "Epoch 21/24\n",
      "375/375 - 5s - loss: 0.2580 - accuracy: 0.9060 - val_loss: 0.2827 - val_accuracy: 0.9009 - 5s/epoch - 14ms/step\n",
      "Epoch 22/24\n",
      "375/375 - 5s - loss: 0.2583 - accuracy: 0.9064 - val_loss: 0.2750 - val_accuracy: 0.9017 - 5s/epoch - 14ms/step\n",
      "Epoch 23/24\n",
      "375/375 - 5s - loss: 0.2542 - accuracy: 0.9074 - val_loss: 0.2768 - val_accuracy: 0.9021 - 5s/epoch - 14ms/step\n",
      "Epoch 24/24\n",
      "375/375 - 10s - loss: 0.2520 - accuracy: 0.9078 - val_loss: 0.2766 - val_accuracy: 0.9006 - 10s/epoch - 25ms/step\n"
     ]
    },
    {
     "name": "stderr",
     "output_type": "stream",
     "text": [
      "\u001b[32m[I 2022-05-25 15:21:44,764]\u001b[0m Trial 1 finished with value: 0.9020833373069763 and parameters: {'activation▁choice': 1, 'filters▁choice': 1, 'kernel_size▁choice': 1, 'strides▁choice': 1}. Best is trial 0 with value: 0.9153333306312561.\u001b[0m\n"
     ]
    },
    {
     "name": "stdout",
     "output_type": "stream",
     "text": [
      "Epoch 1/24\n",
      "375/375 - 14s - loss: 0.7055 - accuracy: 0.7540 - val_loss: 0.4507 - val_accuracy: 0.8377 - 14s/epoch - 38ms/step\n",
      "Epoch 2/24\n",
      "375/375 - 13s - loss: 0.4690 - accuracy: 0.8330 - val_loss: 0.3963 - val_accuracy: 0.8542 - 13s/epoch - 35ms/step\n",
      "Epoch 3/24\n",
      "375/375 - 14s - loss: 0.4169 - accuracy: 0.8506 - val_loss: 0.3578 - val_accuracy: 0.8672 - 14s/epoch - 37ms/step\n",
      "Epoch 4/24\n",
      "375/375 - 12s - loss: 0.3920 - accuracy: 0.8602 - val_loss: 0.3461 - val_accuracy: 0.8702 - 12s/epoch - 32ms/step\n",
      "Epoch 5/24\n",
      "375/375 - 12s - loss: 0.3684 - accuracy: 0.8666 - val_loss: 0.3310 - val_accuracy: 0.8795 - 12s/epoch - 31ms/step\n",
      "Epoch 6/24\n",
      "375/375 - 12s - loss: 0.3537 - accuracy: 0.8720 - val_loss: 0.3252 - val_accuracy: 0.8792 - 12s/epoch - 33ms/step\n",
      "Epoch 7/24\n",
      "375/375 - 12s - loss: 0.3439 - accuracy: 0.8769 - val_loss: 0.3282 - val_accuracy: 0.8776 - 12s/epoch - 32ms/step\n",
      "Epoch 8/24\n",
      "375/375 - 12s - loss: 0.3342 - accuracy: 0.8800 - val_loss: 0.3079 - val_accuracy: 0.8866 - 12s/epoch - 32ms/step\n",
      "Epoch 9/24\n",
      "375/375 - 11s - loss: 0.3263 - accuracy: 0.8814 - val_loss: 0.3052 - val_accuracy: 0.8880 - 11s/epoch - 31ms/step\n",
      "Epoch 10/24\n",
      "375/375 - 12s - loss: 0.3190 - accuracy: 0.8865 - val_loss: 0.3098 - val_accuracy: 0.8855 - 12s/epoch - 33ms/step\n",
      "Epoch 11/24\n",
      "375/375 - 12s - loss: 0.3158 - accuracy: 0.8854 - val_loss: 0.2993 - val_accuracy: 0.8926 - 12s/epoch - 33ms/step\n",
      "Epoch 12/24\n",
      "375/375 - 13s - loss: 0.3092 - accuracy: 0.8882 - val_loss: 0.2949 - val_accuracy: 0.8913 - 13s/epoch - 34ms/step\n",
      "Epoch 13/24\n",
      "375/375 - 13s - loss: 0.3035 - accuracy: 0.8916 - val_loss: 0.2936 - val_accuracy: 0.8955 - 13s/epoch - 34ms/step\n",
      "Epoch 14/24\n",
      "375/375 - 12s - loss: 0.2997 - accuracy: 0.8919 - val_loss: 0.2897 - val_accuracy: 0.8978 - 12s/epoch - 33ms/step\n",
      "Epoch 15/24\n",
      "375/375 - 13s - loss: 0.2973 - accuracy: 0.8945 - val_loss: 0.2925 - val_accuracy: 0.8960 - 13s/epoch - 35ms/step\n",
      "Epoch 16/24\n",
      "375/375 - 12s - loss: 0.2930 - accuracy: 0.8952 - val_loss: 0.2861 - val_accuracy: 0.8988 - 12s/epoch - 33ms/step\n",
      "Epoch 17/24\n",
      "375/375 - 12s - loss: 0.2890 - accuracy: 0.8961 - val_loss: 0.2825 - val_accuracy: 0.9005 - 12s/epoch - 33ms/step\n",
      "Epoch 18/24\n",
      "375/375 - 12s - loss: 0.2894 - accuracy: 0.8970 - val_loss: 0.2866 - val_accuracy: 0.8996 - 12s/epoch - 33ms/step\n",
      "Epoch 19/24\n",
      "375/375 - 12s - loss: 0.2867 - accuracy: 0.8985 - val_loss: 0.2907 - val_accuracy: 0.8966 - 12s/epoch - 33ms/step\n",
      "Epoch 20/24\n",
      "375/375 - 13s - loss: 0.2875 - accuracy: 0.8967 - val_loss: 0.2793 - val_accuracy: 0.9002 - 13s/epoch - 34ms/step\n",
      "Epoch 21/24\n",
      "375/375 - 13s - loss: 0.2812 - accuracy: 0.8999 - val_loss: 0.2804 - val_accuracy: 0.9016 - 13s/epoch - 33ms/step\n",
      "Epoch 22/24\n",
      "375/375 - 12s - loss: 0.2799 - accuracy: 0.9011 - val_loss: 0.2786 - val_accuracy: 0.9029 - 12s/epoch - 32ms/step\n",
      "Epoch 23/24\n",
      "375/375 - 11s - loss: 0.2792 - accuracy: 0.9017 - val_loss: 0.2841 - val_accuracy: 0.9018 - 11s/epoch - 30ms/step\n",
      "Epoch 24/24\n",
      "375/375 - 11s - loss: 0.2781 - accuracy: 0.9015 - val_loss: 0.2831 - val_accuracy: 0.9022 - 11s/epoch - 29ms/step\n"
     ]
    },
    {
     "name": "stderr",
     "output_type": "stream",
     "text": [
      "\u001b[32m[I 2022-05-25 15:26:42,359]\u001b[0m Trial 2 finished with value: 0.902916669845581 and parameters: {'activation▁choice': 0, 'filters▁choice': 1, 'kernel_size▁choice': 0, 'strides▁choice': 1}. Best is trial 0 with value: 0.9153333306312561.\u001b[0m\n"
     ]
    },
    {
     "name": "stdout",
     "output_type": "stream",
     "text": [
      "Epoch 1/24\n",
      "375/375 - 27s - loss: 0.6197 - accuracy: 0.7802 - val_loss: 0.4010 - val_accuracy: 0.8576 - 27s/epoch - 71ms/step\n",
      "Epoch 2/24\n",
      "375/375 - 24s - loss: 0.4063 - accuracy: 0.8558 - val_loss: 0.3456 - val_accuracy: 0.8757 - 24s/epoch - 65ms/step\n",
      "Epoch 3/24\n",
      "375/375 - 24s - loss: 0.3518 - accuracy: 0.8751 - val_loss: 0.3137 - val_accuracy: 0.8878 - 24s/epoch - 65ms/step\n",
      "Epoch 4/24\n",
      "375/375 - 24s - loss: 0.3222 - accuracy: 0.8842 - val_loss: 0.3017 - val_accuracy: 0.8902 - 24s/epoch - 64ms/step\n",
      "Epoch 5/24\n",
      "375/375 - 26s - loss: 0.3017 - accuracy: 0.8929 - val_loss: 0.2837 - val_accuracy: 0.8974 - 26s/epoch - 69ms/step\n",
      "Epoch 6/24\n",
      "375/375 - 25s - loss: 0.2873 - accuracy: 0.8970 - val_loss: 0.2778 - val_accuracy: 0.8989 - 25s/epoch - 67ms/step\n",
      "Epoch 7/24\n",
      "375/375 - 24s - loss: 0.2751 - accuracy: 0.9014 - val_loss: 0.2818 - val_accuracy: 0.8975 - 24s/epoch - 65ms/step\n",
      "Epoch 8/24\n",
      "375/375 - 28s - loss: 0.2671 - accuracy: 0.9044 - val_loss: 0.2666 - val_accuracy: 0.9053 - 28s/epoch - 76ms/step\n",
      "Epoch 9/24\n",
      "375/375 - 24s - loss: 0.2575 - accuracy: 0.9074 - val_loss: 0.2643 - val_accuracy: 0.9039 - 24s/epoch - 64ms/step\n",
      "Epoch 10/24\n",
      "375/375 - 26s - loss: 0.2511 - accuracy: 0.9107 - val_loss: 0.2637 - val_accuracy: 0.9064 - 26s/epoch - 70ms/step\n",
      "Epoch 11/24\n",
      "375/375 - 24s - loss: 0.2462 - accuracy: 0.9118 - val_loss: 0.2599 - val_accuracy: 0.9079 - 24s/epoch - 64ms/step\n",
      "Epoch 12/24\n",
      "375/375 - 26s - loss: 0.2399 - accuracy: 0.9135 - val_loss: 0.2577 - val_accuracy: 0.9102 - 26s/epoch - 71ms/step\n",
      "Epoch 13/24\n",
      "375/375 - 27s - loss: 0.2377 - accuracy: 0.9152 - val_loss: 0.2571 - val_accuracy: 0.9118 - 27s/epoch - 73ms/step\n",
      "Epoch 14/24\n",
      "375/375 - 27s - loss: 0.2357 - accuracy: 0.9164 - val_loss: 0.2618 - val_accuracy: 0.9093 - 27s/epoch - 72ms/step\n",
      "Epoch 15/24\n",
      "375/375 - 25s - loss: 0.2335 - accuracy: 0.9174 - val_loss: 0.2531 - val_accuracy: 0.9151 - 25s/epoch - 67ms/step\n",
      "Epoch 16/24\n",
      "375/375 - 26s - loss: 0.2278 - accuracy: 0.9184 - val_loss: 0.2504 - val_accuracy: 0.9143 - 26s/epoch - 69ms/step\n",
      "Epoch 17/24\n",
      "375/375 - 26s - loss: 0.2268 - accuracy: 0.9201 - val_loss: 0.2593 - val_accuracy: 0.9129 - 26s/epoch - 69ms/step\n",
      "Epoch 18/24\n",
      "375/375 - 25s - loss: 0.2238 - accuracy: 0.9202 - val_loss: 0.2554 - val_accuracy: 0.9137 - 25s/epoch - 67ms/step\n",
      "Epoch 19/24\n",
      "375/375 - 27s - loss: 0.2234 - accuracy: 0.9211 - val_loss: 0.2532 - val_accuracy: 0.9157 - 27s/epoch - 72ms/step\n",
      "Epoch 20/24\n",
      "375/375 - 25s - loss: 0.2221 - accuracy: 0.9218 - val_loss: 0.2632 - val_accuracy: 0.9105 - 25s/epoch - 66ms/step\n",
      "Epoch 21/24\n",
      "375/375 - 29s - loss: 0.2178 - accuracy: 0.9233 - val_loss: 0.2500 - val_accuracy: 0.9158 - 29s/epoch - 78ms/step\n",
      "Epoch 22/24\n",
      "375/375 - 26s - loss: 0.2186 - accuracy: 0.9232 - val_loss: 0.2689 - val_accuracy: 0.9125 - 26s/epoch - 70ms/step\n",
      "Epoch 23/24\n",
      "375/375 - 25s - loss: 0.2150 - accuracy: 0.9252 - val_loss: 0.2643 - val_accuracy: 0.9147 - 25s/epoch - 67ms/step\n",
      "Epoch 24/24\n",
      "375/375 - 26s - loss: 0.2151 - accuracy: 0.9234 - val_loss: 0.2526 - val_accuracy: 0.9182 - 26s/epoch - 69ms/step\n"
     ]
    },
    {
     "name": "stderr",
     "output_type": "stream",
     "text": [
      "\u001b[32m[I 2022-05-25 15:37:01,656]\u001b[0m Trial 3 finished with value: 0.9181666374206543 and parameters: {'activation▁choice': 0, 'filters▁choice': 0, 'kernel_size▁choice': 0, 'strides▁choice': 0}. Best is trial 3 with value: 0.9181666374206543.\u001b[0m\n"
     ]
    },
    {
     "name": "stdout",
     "output_type": "stream",
     "text": [
      "Epoch 1/24\n",
      "375/375 - 14s - loss: 0.7663 - accuracy: 0.7320 - val_loss: 0.4939 - val_accuracy: 0.8191 - 14s/epoch - 37ms/step\n",
      "Epoch 2/24\n",
      "375/375 - 12s - loss: 0.5171 - accuracy: 0.8131 - val_loss: 0.4195 - val_accuracy: 0.8478 - 12s/epoch - 32ms/step\n",
      "Epoch 3/24\n",
      "375/375 - 11s - loss: 0.4606 - accuracy: 0.8360 - val_loss: 0.3911 - val_accuracy: 0.8584 - 11s/epoch - 30ms/step\n",
      "Epoch 4/24\n",
      "375/375 - 13s - loss: 0.4285 - accuracy: 0.8466 - val_loss: 0.3670 - val_accuracy: 0.8668 - 13s/epoch - 34ms/step\n",
      "Epoch 5/24\n",
      "375/375 - 16s - loss: 0.4078 - accuracy: 0.8536 - val_loss: 0.3722 - val_accuracy: 0.8608 - 16s/epoch - 42ms/step\n",
      "Epoch 6/24\n",
      "375/375 - 14s - loss: 0.3934 - accuracy: 0.8563 - val_loss: 0.3452 - val_accuracy: 0.8744 - 14s/epoch - 37ms/step\n",
      "Epoch 7/24\n",
      "375/375 - 16s - loss: 0.3806 - accuracy: 0.8639 - val_loss: 0.3376 - val_accuracy: 0.8739 - 16s/epoch - 43ms/step\n",
      "Epoch 8/24\n",
      "375/375 - 10s - loss: 0.3704 - accuracy: 0.8666 - val_loss: 0.3290 - val_accuracy: 0.8803 - 10s/epoch - 27ms/step\n",
      "Epoch 9/24\n",
      "375/375 - 12s - loss: 0.3632 - accuracy: 0.8689 - val_loss: 0.3247 - val_accuracy: 0.8802 - 12s/epoch - 33ms/step\n",
      "Epoch 10/24\n",
      "375/375 - 11s - loss: 0.3523 - accuracy: 0.8724 - val_loss: 0.3145 - val_accuracy: 0.8859 - 11s/epoch - 28ms/step\n",
      "Epoch 11/24\n",
      "375/375 - 9s - loss: 0.3467 - accuracy: 0.8736 - val_loss: 0.3119 - val_accuracy: 0.8869 - 9s/epoch - 23ms/step\n",
      "Epoch 12/24\n",
      "375/375 - 15s - loss: 0.3414 - accuracy: 0.8768 - val_loss: 0.3076 - val_accuracy: 0.8882 - 15s/epoch - 40ms/step\n",
      "Epoch 13/24\n",
      "375/375 - 10s - loss: 0.3365 - accuracy: 0.8783 - val_loss: 0.3131 - val_accuracy: 0.8852 - 10s/epoch - 27ms/step\n",
      "Epoch 14/24\n",
      "375/375 - 11s - loss: 0.3308 - accuracy: 0.8816 - val_loss: 0.3033 - val_accuracy: 0.8895 - 11s/epoch - 28ms/step\n",
      "Epoch 15/24\n",
      "375/375 - 9s - loss: 0.3283 - accuracy: 0.8824 - val_loss: 0.2995 - val_accuracy: 0.8920 - 9s/epoch - 24ms/step\n",
      "Epoch 16/24\n",
      "375/375 - 8s - loss: 0.3241 - accuracy: 0.8840 - val_loss: 0.2992 - val_accuracy: 0.8928 - 8s/epoch - 22ms/step\n",
      "Epoch 17/24\n",
      "375/375 - 8s - loss: 0.3239 - accuracy: 0.8843 - val_loss: 0.3008 - val_accuracy: 0.8911 - 8s/epoch - 21ms/step\n",
      "Epoch 18/24\n",
      "375/375 - 8s - loss: 0.3186 - accuracy: 0.8851 - val_loss: 0.2954 - val_accuracy: 0.8939 - 8s/epoch - 21ms/step\n",
      "Epoch 19/24\n",
      "375/375 - 5s - loss: 0.3153 - accuracy: 0.8868 - val_loss: 0.2950 - val_accuracy: 0.8964 - 5s/epoch - 15ms/step\n",
      "Epoch 20/24\n",
      "375/375 - 6s - loss: 0.3126 - accuracy: 0.8878 - val_loss: 0.2903 - val_accuracy: 0.8964 - 6s/epoch - 16ms/step\n",
      "Epoch 21/24\n",
      "375/375 - 6s - loss: 0.3112 - accuracy: 0.8884 - val_loss: 0.2923 - val_accuracy: 0.8947 - 6s/epoch - 15ms/step\n",
      "Epoch 22/24\n",
      "375/375 - 5s - loss: 0.3070 - accuracy: 0.8902 - val_loss: 0.2890 - val_accuracy: 0.8960 - 5s/epoch - 12ms/step\n",
      "Epoch 23/24\n",
      "375/375 - 4s - loss: 0.3089 - accuracy: 0.8900 - val_loss: 0.2864 - val_accuracy: 0.8974 - 4s/epoch - 11ms/step\n",
      "Epoch 24/24\n",
      "375/375 - 8s - loss: 0.3078 - accuracy: 0.8901 - val_loss: 0.2889 - val_accuracy: 0.8978 - 8s/epoch - 22ms/step\n"
     ]
    },
    {
     "name": "stderr",
     "output_type": "stream",
     "text": [
      "\u001b[32m[I 2022-05-25 15:41:02,484]\u001b[0m Trial 4 finished with value: 0.8978333473205566 and parameters: {'activation▁choice': 0, 'filters▁choice': 0, 'kernel_size▁choice': 0, 'strides▁choice': 1}. Best is trial 3 with value: 0.9181666374206543.\u001b[0m\n"
     ]
    },
    {
     "name": "stdout",
     "output_type": "stream",
     "text": [
      "CPU times: user 1h 22min 43s, sys: 1h 4min 50s, total: 2h 27min 34s\n",
      "Wall time: 34min 14s\n"
     ]
    }
   ],
   "source": [
    "%%time\n",
    "model.search(\n",
    "    n_trials=5,\n",
    "    target_metric='val_accuracy',\n",
    "    direction=\"maximize\",\n",
    "    x=x_train,\n",
    "    y=y_train,\n",
    "    batch_size=128,\n",
    "    epochs=24,\n",
    "    validation_split=0.2,\n",
    "    verbose=False,\n",
    ")"
   ]
  },
  {
   "cell_type": "markdown",
   "metadata": {},
   "source": [
    "# Step 5: fit with the best hyperparameters\n",
    "The best hyperparameters have been saved in the model. You can call model.fit() to train a model with the best hyperparameters."
   ]
  },
  {
   "cell_type": "code",
   "execution_count": 5,
   "metadata": {},
   "outputs": [
    {
     "name": "stdout",
     "output_type": "stream",
     "text": [
      "Epoch 1/24\n",
      "375/375 [==============================] - 19s 49ms/step - loss: 0.6140 - accuracy: 0.7824 - val_loss: 0.4432 - val_accuracy: 0.8396\n",
      "Epoch 2/24\n",
      "375/375 [==============================] - 17s 46ms/step - loss: 0.4155 - accuracy: 0.8529 - val_loss: 0.3558 - val_accuracy: 0.8719\n",
      "Epoch 3/24\n",
      "375/375 [==============================] - 16s 41ms/step - loss: 0.3652 - accuracy: 0.8709 - val_loss: 0.3216 - val_accuracy: 0.8869\n",
      "Epoch 4/24\n",
      "375/375 [==============================] - 14s 38ms/step - loss: 0.3338 - accuracy: 0.8815 - val_loss: 0.3056 - val_accuracy: 0.8901\n",
      "Epoch 5/24\n",
      "375/375 [==============================] - 14s 38ms/step - loss: 0.3133 - accuracy: 0.8872 - val_loss: 0.2950 - val_accuracy: 0.8942\n",
      "Epoch 6/24\n",
      "375/375 [==============================] - 15s 39ms/step - loss: 0.2981 - accuracy: 0.8925 - val_loss: 0.3018 - val_accuracy: 0.8902\n",
      "Epoch 7/24\n",
      "375/375 [==============================] - 15s 40ms/step - loss: 0.2883 - accuracy: 0.8974 - val_loss: 0.2827 - val_accuracy: 0.8986\n",
      "Epoch 8/24\n",
      "375/375 [==============================] - 16s 44ms/step - loss: 0.2762 - accuracy: 0.9018 - val_loss: 0.2797 - val_accuracy: 0.8993\n",
      "Epoch 9/24\n",
      "375/375 [==============================] - 13s 36ms/step - loss: 0.2713 - accuracy: 0.9050 - val_loss: 0.2745 - val_accuracy: 0.9003\n",
      "Epoch 10/24\n",
      "375/375 [==============================] - 15s 39ms/step - loss: 0.2648 - accuracy: 0.9061 - val_loss: 0.2654 - val_accuracy: 0.9072\n",
      "Epoch 11/24\n",
      "375/375 [==============================] - 16s 42ms/step - loss: 0.2573 - accuracy: 0.9077 - val_loss: 0.2683 - val_accuracy: 0.9053\n",
      "Epoch 12/24\n",
      "375/375 [==============================] - 14s 38ms/step - loss: 0.2542 - accuracy: 0.9082 - val_loss: 0.2674 - val_accuracy: 0.9058\n",
      "Epoch 13/24\n",
      "375/375 [==============================] - 14s 37ms/step - loss: 0.2516 - accuracy: 0.9111 - val_loss: 0.2634 - val_accuracy: 0.9076\n",
      "Epoch 14/24\n",
      "375/375 [==============================] - 15s 40ms/step - loss: 0.2482 - accuracy: 0.9125 - val_loss: 0.2611 - val_accuracy: 0.9105\n",
      "Epoch 15/24\n",
      "375/375 [==============================] - 13s 35ms/step - loss: 0.2453 - accuracy: 0.9128 - val_loss: 0.2636 - val_accuracy: 0.9102\n",
      "Epoch 16/24\n",
      "375/375 [==============================] - 14s 36ms/step - loss: 0.2417 - accuracy: 0.9149 - val_loss: 0.2648 - val_accuracy: 0.9106\n",
      "Epoch 17/24\n",
      "375/375 [==============================] - 15s 41ms/step - loss: 0.2398 - accuracy: 0.9136 - val_loss: 0.2690 - val_accuracy: 0.9074\n",
      "Epoch 18/24\n",
      "375/375 [==============================] - 13s 36ms/step - loss: 0.2382 - accuracy: 0.9153 - val_loss: 0.2670 - val_accuracy: 0.9097\n",
      "Epoch 19/24\n",
      "375/375 [==============================] - 13s 34ms/step - loss: 0.2372 - accuracy: 0.9166 - val_loss: 0.2605 - val_accuracy: 0.9118\n",
      "Epoch 20/24\n",
      "375/375 [==============================] - 14s 38ms/step - loss: 0.2354 - accuracy: 0.9179 - val_loss: 0.2656 - val_accuracy: 0.9095\n",
      "Epoch 21/24\n",
      "375/375 [==============================] - 14s 37ms/step - loss: 0.2357 - accuracy: 0.9173 - val_loss: 0.2597 - val_accuracy: 0.9126\n",
      "Epoch 22/24\n",
      "375/375 [==============================] - 16s 43ms/step - loss: 0.2345 - accuracy: 0.9173 - val_loss: 0.2594 - val_accuracy: 0.9104\n",
      "Epoch 23/24\n",
      "375/375 [==============================] - 18s 47ms/step - loss: 0.2304 - accuracy: 0.9191 - val_loss: 0.2598 - val_accuracy: 0.9126\n",
      "Epoch 24/24\n",
      "375/375 [==============================] - 15s 39ms/step - loss: 0.2309 - accuracy: 0.9181 - val_loss: 0.2584 - val_accuracy: 0.9129\n",
      "313/313 - 1s - loss: 0.2767 - accuracy: 0.9083 - 1s/epoch - 4ms/step\n",
      "Test loss: 0.2766573131084442\n",
      "Test accuracy: 0.90829998254776\n"
     ]
    }
   ],
   "source": [
    "history = model.fit(x_train, y_train,\n",
    "                    batch_size=128, epochs=24, validation_split=0.2)\n",
    "\n",
    "test_scores = model.evaluate(x_test, y_test, verbose=2)\n",
    "print(\"Test loss:\", test_scores[0])\n",
    "print(\"Test accuracy:\", test_scores[1])"
   ]
  },
  {
   "cell_type": "markdown",
   "metadata": {},
   "source": [
    "Check out the summary of the model. The model has already been built with the best hyperparameters found by nano hpo."
   ]
  },
  {
   "cell_type": "code",
   "execution_count": 6,
   "metadata": {},
   "outputs": [
    {
     "name": "stdout",
     "output_type": "stream",
     "text": [
      "Model: \"my_model_1\"\n",
      "_________________________________________________________________\n",
      " Layer (type)                Output Shape              Param #   \n",
      "=================================================================\n",
      " conv2d_1 (Conv2D)           multiple                  160       \n",
      "                                                                 \n",
      " max_pooling2d_1 (MaxPooling  multiple                 0         \n",
      " 2D)                                                             \n",
      "                                                                 \n",
      " dropout_2 (Dropout)         multiple                  0         \n",
      "                                                                 \n",
      " flatten_1 (Flatten)         multiple                  0         \n",
      "                                                                 \n",
      " dense_2 (Dense)             multiple                  1384704   \n",
      "                                                                 \n",
      " dropout_3 (Dropout)         multiple                  0         \n",
      "                                                                 \n",
      " dense_3 (Dense)             multiple                  2570      \n",
      "                                                                 \n",
      "=================================================================\n",
      "Total params: 1,387,434\n",
      "Trainable params: 1,387,434\n",
      "Non-trainable params: 0\n",
      "_________________________________________________________________\n",
      "None\n"
     ]
    }
   ],
   "source": [
    "print(model.summary())"
   ]
  },
  {
   "cell_type": "code",
   "execution_count": null,
   "metadata": {},
   "outputs": [],
   "source": []
  }
 ],
 "metadata": {
  "kernelspec": {
   "display_name": "Python 3 (ipykernel)",
   "language": "python",
   "name": "python3"
  },
  "language_info": {
   "codemirror_mode": {
    "name": "ipython",
    "version": 3
   },
   "file_extension": ".py",
   "mimetype": "text/x-python",
   "name": "python",
   "nbconvert_exporter": "python",
   "pygments_lexer": "ipython3",
   "version": "3.7.13"
  }
 },
 "nbformat": 4,
 "nbformat_minor": 2
}
